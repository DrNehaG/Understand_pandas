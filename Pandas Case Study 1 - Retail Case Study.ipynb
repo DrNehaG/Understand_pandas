{
 "cells": [
  {
   "cell_type": "code",
   "execution_count": 1,
   "metadata": {
    "ExecuteTime": {
     "end_time": "2020-06-11T14:22:56.263054Z",
     "start_time": "2020-06-11T14:22:55.254667Z"
    }
   },
   "outputs": [],
   "source": [
    "# import necessary libraries\n",
    "import numpy as np\n",
    "import pandas as pd\n",
    "import matplotlib.pyplot as plt\n",
    "import seaborn as sns\n",
    "import math"
   ]
  },
  {
   "cell_type": "code",
   "execution_count": 2,
   "metadata": {
    "ExecuteTime": {
     "end_time": "2020-06-11T14:22:56.279451Z",
     "start_time": "2020-06-11T14:22:56.263974Z"
    }
   },
   "outputs": [
    {
     "name": "stdout",
     "output_type": "stream",
     "text": [
      "<class 'pandas.core.frame.DataFrame'>\n",
      "RangeIndex: 5647 entries, 0 to 5646\n",
      "Data columns (total 4 columns):\n",
      " #   Column       Non-Null Count  Dtype  \n",
      "---  ------       --------------  -----  \n",
      " 0   customer_Id  5647 non-null   int64  \n",
      " 1   DOB          5647 non-null   object \n",
      " 2   Gender       5645 non-null   object \n",
      " 3   city_code    5645 non-null   float64\n",
      "dtypes: float64(1), int64(1), object(2)\n",
      "memory usage: 176.6+ KB\n"
     ]
    }
   ],
   "source": [
    "# importing the dataset from file Customer.csv\n",
    "Customers = pd.read_csv(\"Customer.csv\")\n",
    "Customers.info() # To get the concise summary of Customers dataset"
   ]
  },
  {
   "cell_type": "code",
   "execution_count": 3,
   "metadata": {
    "ExecuteTime": {
     "end_time": "2020-06-11T14:22:56.291418Z",
     "start_time": "2020-06-11T14:22:56.281444Z"
    }
   },
   "outputs": [
    {
     "name": "stdout",
     "output_type": "stream",
     "text": [
      "<class 'pandas.core.frame.DataFrame'>\n",
      "RangeIndex: 23 entries, 0 to 22\n",
      "Data columns (total 4 columns):\n",
      " #   Column             Non-Null Count  Dtype \n",
      "---  ------             --------------  ----- \n",
      " 0   prod_cat_code      23 non-null     int64 \n",
      " 1   prod_cat           23 non-null     object\n",
      " 2   prod_sub_cat_code  23 non-null     int64 \n",
      " 3   prod_subcat        23 non-null     object\n",
      "dtypes: int64(2), object(2)\n",
      "memory usage: 864.0+ bytes\n"
     ]
    }
   ],
   "source": [
    "# importing the dataset from file prod_cat_info.csv\n",
    "Product_Hierarchy = pd.read_csv('prod_cat_info.csv')\n",
    "Product_Hierarchy.info() # To get the concise summary of Product_Hierarchy dataset"
   ]
  },
  {
   "cell_type": "code",
   "execution_count": 4,
   "metadata": {
    "ExecuteTime": {
     "end_time": "2020-06-11T14:22:56.337293Z",
     "start_time": "2020-06-11T14:22:56.293412Z"
    }
   },
   "outputs": [
    {
     "name": "stdout",
     "output_type": "stream",
     "text": [
      "<class 'pandas.core.frame.DataFrame'>\n",
      "RangeIndex: 23053 entries, 0 to 23052\n",
      "Data columns (total 10 columns):\n",
      " #   Column            Non-Null Count  Dtype  \n",
      "---  ------            --------------  -----  \n",
      " 0   transaction_id    23053 non-null  int64  \n",
      " 1   cust_id           23053 non-null  int64  \n",
      " 2   tran_date         23053 non-null  object \n",
      " 3   prod_subcat_code  23053 non-null  int64  \n",
      " 4   prod_cat_code     23053 non-null  int64  \n",
      " 5   Qty               23053 non-null  int64  \n",
      " 6   Rate              23053 non-null  int64  \n",
      " 7   Tax               23053 non-null  float64\n",
      " 8   total_amt         23053 non-null  float64\n",
      " 9   Store_type        23053 non-null  object \n",
      "dtypes: float64(2), int64(6), object(2)\n",
      "memory usage: 1.8+ MB\n"
     ]
    }
   ],
   "source": [
    "# importing the dataset from file Transactions.csv\n",
    "Transactions = pd.read_csv('Transactions.csv')\n",
    "Transactions.info() # To get the concise summary of Transactions dataset"
   ]
  },
  {
   "cell_type": "markdown",
   "metadata": {},
   "source": [
    "# Merge the datasets Customers, Product Hierarchy and Transactions as Customer_Final. Ensure to keep all customers who have done transactions with us and select the join type accordingly."
   ]
  },
  {
   "cell_type": "code",
   "execution_count": 5,
   "metadata": {
    "ExecuteTime": {
     "end_time": "2020-06-11T14:22:56.367215Z",
     "start_time": "2020-06-11T14:22:56.338290Z"
    }
   },
   "outputs": [
    {
     "name": "stdout",
     "output_type": "stream",
     "text": [
      "<class 'pandas.core.frame.DataFrame'>\n",
      "Int64Index: 23053 entries, 0 to 23052\n",
      "Data columns (total 13 columns):\n",
      " #   Column             Non-Null Count  Dtype  \n",
      "---  ------             --------------  -----  \n",
      " 0   transaction_id     23053 non-null  int64  \n",
      " 1   cust_id            23053 non-null  int64  \n",
      " 2   tran_date          23053 non-null  object \n",
      " 3   prod_subcat_code   23053 non-null  int64  \n",
      " 4   prod_cat_code      23053 non-null  int64  \n",
      " 5   Qty                23053 non-null  int64  \n",
      " 6   Rate               23053 non-null  int64  \n",
      " 7   Tax                23053 non-null  float64\n",
      " 8   total_amt          23053 non-null  float64\n",
      " 9   Store_type         23053 non-null  object \n",
      " 10  prod_cat           23053 non-null  object \n",
      " 11  prod_sub_cat_code  23053 non-null  int64  \n",
      " 12  prod_subcat        23053 non-null  object \n",
      "dtypes: float64(2), int64(7), object(4)\n",
      "memory usage: 2.5+ MB\n"
     ]
    }
   ],
   "source": [
    "# Joining the datasets Transactions and Product_Hierarchy\n",
    "Trans = pd.merge(left=Transactions, right=Product_Hierarchy, how='left', \n",
    "                 left_on=['prod_cat_code','prod_subcat_code'],\n",
    "                 right_on=['prod_cat_code', 'prod_sub_cat_code'])\n",
    "Trans.info() # To get the concise summary of merged dataset i.e. Trans"
   ]
  },
  {
   "cell_type": "code",
   "execution_count": 6,
   "metadata": {
    "ExecuteTime": {
     "end_time": "2020-06-11T14:22:56.379183Z",
     "start_time": "2020-06-11T14:22:56.368212Z"
    }
   },
   "outputs": [
    {
     "data": {
      "text/plain": [
       "True    23053\n",
       "dtype: int64"
      ]
     },
     "execution_count": 6,
     "metadata": {},
     "output_type": "execute_result"
    }
   ],
   "source": [
    "# To check whether there is a difference in columns prod_subcat_code and prod_sub_cat_code.\n",
    "(Trans.prod_subcat_code == Trans.prod_sub_cat_code).value_counts()"
   ]
  },
  {
   "cell_type": "code",
   "execution_count": 7,
   "metadata": {
    "ExecuteTime": {
     "end_time": "2020-06-11T14:22:56.387162Z",
     "start_time": "2020-06-11T14:22:56.380187Z"
    }
   },
   "outputs": [],
   "source": [
    "# Since there is no difference in both these columns, so we'll drop the column prod_sub_cat_code \n",
    "# from Trans dataset.\n",
    "Trans.drop(columns= 'prod_sub_cat_code', inplace=True)"
   ]
  },
  {
   "cell_type": "code",
   "execution_count": 8,
   "metadata": {
    "ExecuteTime": {
     "end_time": "2020-06-11T14:22:56.404135Z",
     "start_time": "2020-06-11T14:22:56.390153Z"
    }
   },
   "outputs": [
    {
     "name": "stdout",
     "output_type": "stream",
     "text": [
      "<class 'pandas.core.frame.DataFrame'>\n",
      "Int64Index: 23053 entries, 0 to 23052\n",
      "Data columns (total 12 columns):\n",
      " #   Column            Non-Null Count  Dtype  \n",
      "---  ------            --------------  -----  \n",
      " 0   transaction_id    23053 non-null  int64  \n",
      " 1   cust_id           23053 non-null  int64  \n",
      " 2   tran_date         23053 non-null  object \n",
      " 3   prod_subcat_code  23053 non-null  int64  \n",
      " 4   prod_cat_code     23053 non-null  int64  \n",
      " 5   Qty               23053 non-null  int64  \n",
      " 6   Rate              23053 non-null  int64  \n",
      " 7   Tax               23053 non-null  float64\n",
      " 8   total_amt         23053 non-null  float64\n",
      " 9   Store_type        23053 non-null  object \n",
      " 10  prod_cat          23053 non-null  object \n",
      " 11  prod_subcat       23053 non-null  object \n",
      "dtypes: float64(2), int64(6), object(4)\n",
      "memory usage: 2.3+ MB\n"
     ]
    }
   ],
   "source": [
    "# To get the concise summary of merged dataset i.e. Trans after removing the column prod_sub_cat_code\n",
    "Trans.info()"
   ]
  },
  {
   "cell_type": "code",
   "execution_count": 9,
   "metadata": {
    "ExecuteTime": {
     "end_time": "2020-06-11T14:22:56.454980Z",
     "start_time": "2020-06-11T14:22:56.405112Z"
    }
   },
   "outputs": [
    {
     "name": "stdout",
     "output_type": "stream",
     "text": [
      "<class 'pandas.core.frame.DataFrame'>\n",
      "Int64Index: 23053 entries, 0 to 23052\n",
      "Data columns (total 16 columns):\n",
      " #   Column            Non-Null Count  Dtype  \n",
      "---  ------            --------------  -----  \n",
      " 0   transaction_id    23053 non-null  int64  \n",
      " 1   cust_id           23053 non-null  int64  \n",
      " 2   tran_date         23053 non-null  object \n",
      " 3   prod_subcat_code  23053 non-null  int64  \n",
      " 4   prod_cat_code     23053 non-null  int64  \n",
      " 5   Qty               23053 non-null  int64  \n",
      " 6   Rate              23053 non-null  int64  \n",
      " 7   Tax               23053 non-null  float64\n",
      " 8   total_amt         23053 non-null  float64\n",
      " 9   Store_type        23053 non-null  object \n",
      " 10  prod_cat          23053 non-null  object \n",
      " 11  prod_subcat       23053 non-null  object \n",
      " 12  customer_Id       23053 non-null  int64  \n",
      " 13  DOB               23053 non-null  object \n",
      " 14  Gender            23044 non-null  object \n",
      " 15  city_code         23045 non-null  float64\n",
      "dtypes: float64(3), int64(7), object(6)\n",
      "memory usage: 3.0+ MB\n"
     ]
    }
   ],
   "source": [
    "# Joining the datasets Trans and Customers\n",
    "Customer_Final = pd.merge(left=Trans, right=Customers, how='left', left_on='cust_id', right_on='customer_Id')\n",
    "Customer_Final.info() # To get the concise summary of merged dataset i.e. Customer_Final"
   ]
  },
  {
   "cell_type": "code",
   "execution_count": 10,
   "metadata": {
    "ExecuteTime": {
     "end_time": "2020-06-11T14:22:56.466951Z",
     "start_time": "2020-06-11T14:22:56.456974Z"
    }
   },
   "outputs": [
    {
     "data": {
      "text/plain": [
       "True    23053\n",
       "dtype: int64"
      ]
     },
     "execution_count": 10,
     "metadata": {},
     "output_type": "execute_result"
    }
   ],
   "source": [
    "# To check whether there is a difference in columns cust_id and customer_Id.\n",
    "(Customer_Final.cust_id == Customer_Final.customer_Id).value_counts()"
   ]
  },
  {
   "cell_type": "code",
   "execution_count": 11,
   "metadata": {
    "ExecuteTime": {
     "end_time": "2020-06-11T14:22:56.478915Z",
     "start_time": "2020-06-11T14:22:56.468943Z"
    }
   },
   "outputs": [],
   "source": [
    "# Since there is no difference in both these columns, so we'll drop the column customer_Id from \n",
    "# Customer_Final dataset.\n",
    "Customer_Final.drop(columns= 'customer_Id', inplace=True)"
   ]
  },
  {
   "cell_type": "code",
   "execution_count": 12,
   "metadata": {
    "ExecuteTime": {
     "end_time": "2020-06-11T14:22:56.504848Z",
     "start_time": "2020-06-11T14:22:56.481908Z"
    }
   },
   "outputs": [
    {
     "name": "stdout",
     "output_type": "stream",
     "text": [
      "<class 'pandas.core.frame.DataFrame'>\n",
      "Int64Index: 23053 entries, 0 to 23052\n",
      "Data columns (total 15 columns):\n",
      " #   Column            Non-Null Count  Dtype  \n",
      "---  ------            --------------  -----  \n",
      " 0   transaction_id    23053 non-null  int64  \n",
      " 1   cust_id           23053 non-null  int64  \n",
      " 2   tran_date         23053 non-null  object \n",
      " 3   prod_subcat_code  23053 non-null  int64  \n",
      " 4   prod_cat_code     23053 non-null  int64  \n",
      " 5   Qty               23053 non-null  int64  \n",
      " 6   Rate              23053 non-null  int64  \n",
      " 7   Tax               23053 non-null  float64\n",
      " 8   total_amt         23053 non-null  float64\n",
      " 9   Store_type        23053 non-null  object \n",
      " 10  prod_cat          23053 non-null  object \n",
      " 11  prod_subcat       23053 non-null  object \n",
      " 12  DOB               23053 non-null  object \n",
      " 13  Gender            23044 non-null  object \n",
      " 14  city_code         23045 non-null  float64\n",
      "dtypes: float64(3), int64(6), object(6)\n",
      "memory usage: 2.8+ MB\n"
     ]
    }
   ],
   "source": [
    "# To get the concise summary of merged dataset i.e. Customer_Final after removing the column customer_Id\n",
    "Customer_Final.info()"
   ]
  },
  {
   "cell_type": "markdown",
   "metadata": {},
   "source": [
    "# Prepare a summary report for the merged data set."
   ]
  },
  {
   "cell_type": "markdown",
   "metadata": {},
   "source": [
    "## Get the column names and their corresponding data types"
   ]
  },
  {
   "cell_type": "code",
   "execution_count": 13,
   "metadata": {
    "ExecuteTime": {
     "end_time": "2020-06-11T14:22:56.516826Z",
     "start_time": "2020-06-11T14:22:56.508836Z"
    }
   },
   "outputs": [
    {
     "data": {
      "text/plain": [
       "transaction_id        int64\n",
       "cust_id               int64\n",
       "tran_date            object\n",
       "prod_subcat_code      int64\n",
       "prod_cat_code         int64\n",
       "Qty                   int64\n",
       "Rate                  int64\n",
       "Tax                 float64\n",
       "total_amt           float64\n",
       "Store_type           object\n",
       "prod_cat             object\n",
       "prod_subcat          object\n",
       "DOB                  object\n",
       "Gender               object\n",
       "city_code           float64\n",
       "dtype: object"
      ]
     },
     "execution_count": 13,
     "metadata": {},
     "output_type": "execute_result"
    }
   ],
   "source": [
    "Customer_Final.dtypes"
   ]
  },
  {
   "cell_type": "code",
   "execution_count": 14,
   "metadata": {
    "ExecuteTime": {
     "end_time": "2020-06-11T14:22:56.586628Z",
     "start_time": "2020-06-11T14:22:56.519806Z"
    }
   },
   "outputs": [
    {
     "data": {
      "text/plain": [
       "0   2014-02-28\n",
       "1   2014-02-27\n",
       "Name: tran_date, dtype: datetime64[ns]"
      ]
     },
     "execution_count": 14,
     "metadata": {},
     "output_type": "execute_result"
    }
   ],
   "source": [
    "# changing the data type of the column tran_date as datetime\n",
    "Customer_Final.tran_date = pd.to_datetime(Customer_Final.tran_date)\n",
    "Customer_Final.tran_date.head(2)"
   ]
  },
  {
   "cell_type": "code",
   "execution_count": 15,
   "metadata": {
    "ExecuteTime": {
     "end_time": "2020-06-11T14:22:56.639486Z",
     "start_time": "2020-06-11T14:22:56.588622Z"
    }
   },
   "outputs": [
    {
     "data": {
      "text/plain": [
       "0   1981-09-26\n",
       "1   1973-11-05\n",
       "Name: DOB, dtype: datetime64[ns]"
      ]
     },
     "execution_count": 15,
     "metadata": {},
     "output_type": "execute_result"
    }
   ],
   "source": [
    "# changing the data type of the column DOB as datetime\n",
    "Customer_Final.DOB = pd.to_datetime(Customer_Final.DOB)\n",
    "Customer_Final.DOB.head(2)"
   ]
  },
  {
   "cell_type": "code",
   "execution_count": 16,
   "metadata": {
    "ExecuteTime": {
     "end_time": "2020-06-11T14:22:56.661428Z",
     "start_time": "2020-06-11T14:22:56.641481Z"
    }
   },
   "outputs": [
    {
     "name": "stdout",
     "output_type": "stream",
     "text": [
      "<class 'pandas.core.frame.DataFrame'>\n",
      "Int64Index: 23053 entries, 0 to 23052\n",
      "Data columns (total 15 columns):\n",
      " #   Column            Non-Null Count  Dtype         \n",
      "---  ------            --------------  -----         \n",
      " 0   transaction_id    23053 non-null  int64         \n",
      " 1   cust_id           23053 non-null  int64         \n",
      " 2   tran_date         23053 non-null  datetime64[ns]\n",
      " 3   prod_subcat_code  23053 non-null  int64         \n",
      " 4   prod_cat_code     23053 non-null  int64         \n",
      " 5   Qty               23053 non-null  int64         \n",
      " 6   Rate              23053 non-null  int64         \n",
      " 7   Tax               23053 non-null  float64       \n",
      " 8   total_amt         23053 non-null  float64       \n",
      " 9   Store_type        23053 non-null  object        \n",
      " 10  prod_cat          23053 non-null  object        \n",
      " 11  prod_subcat       23053 non-null  object        \n",
      " 12  DOB               23053 non-null  datetime64[ns]\n",
      " 13  Gender            23044 non-null  object        \n",
      " 14  city_code         23045 non-null  float64       \n",
      "dtypes: datetime64[ns](2), float64(3), int64(6), object(4)\n",
      "memory usage: 2.8+ MB\n"
     ]
    }
   ],
   "source": [
    "# Getting the concise summary of Customer_Final dataset after changing the data types of few columns\n",
    "Customer_Final.info()"
   ]
  },
  {
   "cell_type": "markdown",
   "metadata": {},
   "source": [
    "## Top/Bottom 10 observations"
   ]
  },
  {
   "cell_type": "code",
   "execution_count": 17,
   "metadata": {
    "ExecuteTime": {
     "end_time": "2020-06-11T14:22:56.688356Z",
     "start_time": "2020-06-11T14:22:56.662424Z"
    }
   },
   "outputs": [
    {
     "data": {
      "text/html": [
       "<div>\n",
       "<style scoped>\n",
       "    .dataframe tbody tr th:only-of-type {\n",
       "        vertical-align: middle;\n",
       "    }\n",
       "\n",
       "    .dataframe tbody tr th {\n",
       "        vertical-align: top;\n",
       "    }\n",
       "\n",
       "    .dataframe thead th {\n",
       "        text-align: right;\n",
       "    }\n",
       "</style>\n",
       "<table border=\"1\" class=\"dataframe\">\n",
       "  <thead>\n",
       "    <tr style=\"text-align: right;\">\n",
       "      <th></th>\n",
       "      <th>transaction_id</th>\n",
       "      <th>cust_id</th>\n",
       "      <th>tran_date</th>\n",
       "      <th>prod_subcat_code</th>\n",
       "      <th>prod_cat_code</th>\n",
       "      <th>Qty</th>\n",
       "      <th>Rate</th>\n",
       "      <th>Tax</th>\n",
       "      <th>total_amt</th>\n",
       "      <th>Store_type</th>\n",
       "      <th>prod_cat</th>\n",
       "      <th>prod_subcat</th>\n",
       "      <th>DOB</th>\n",
       "      <th>Gender</th>\n",
       "      <th>city_code</th>\n",
       "    </tr>\n",
       "  </thead>\n",
       "  <tbody>\n",
       "    <tr>\n",
       "      <th>0</th>\n",
       "      <td>80712190438</td>\n",
       "      <td>270351</td>\n",
       "      <td>2014-02-28</td>\n",
       "      <td>1</td>\n",
       "      <td>1</td>\n",
       "      <td>-5</td>\n",
       "      <td>-772</td>\n",
       "      <td>405.300</td>\n",
       "      <td>-4265.300</td>\n",
       "      <td>e-Shop</td>\n",
       "      <td>Clothing</td>\n",
       "      <td>Women</td>\n",
       "      <td>1981-09-26</td>\n",
       "      <td>M</td>\n",
       "      <td>5.0</td>\n",
       "    </tr>\n",
       "    <tr>\n",
       "      <th>1</th>\n",
       "      <td>29258453508</td>\n",
       "      <td>270384</td>\n",
       "      <td>2014-02-27</td>\n",
       "      <td>5</td>\n",
       "      <td>3</td>\n",
       "      <td>-5</td>\n",
       "      <td>-1497</td>\n",
       "      <td>785.925</td>\n",
       "      <td>-8270.925</td>\n",
       "      <td>e-Shop</td>\n",
       "      <td>Electronics</td>\n",
       "      <td>Computers</td>\n",
       "      <td>1973-11-05</td>\n",
       "      <td>F</td>\n",
       "      <td>8.0</td>\n",
       "    </tr>\n",
       "    <tr>\n",
       "      <th>2</th>\n",
       "      <td>51750724947</td>\n",
       "      <td>273420</td>\n",
       "      <td>2014-02-24</td>\n",
       "      <td>6</td>\n",
       "      <td>5</td>\n",
       "      <td>-2</td>\n",
       "      <td>-791</td>\n",
       "      <td>166.110</td>\n",
       "      <td>-1748.110</td>\n",
       "      <td>TeleShop</td>\n",
       "      <td>Books</td>\n",
       "      <td>DIY</td>\n",
       "      <td>1992-07-27</td>\n",
       "      <td>M</td>\n",
       "      <td>8.0</td>\n",
       "    </tr>\n",
       "    <tr>\n",
       "      <th>3</th>\n",
       "      <td>93274880719</td>\n",
       "      <td>271509</td>\n",
       "      <td>2014-02-24</td>\n",
       "      <td>11</td>\n",
       "      <td>6</td>\n",
       "      <td>-3</td>\n",
       "      <td>-1363</td>\n",
       "      <td>429.345</td>\n",
       "      <td>-4518.345</td>\n",
       "      <td>e-Shop</td>\n",
       "      <td>Home and kitchen</td>\n",
       "      <td>Bath</td>\n",
       "      <td>1981-08-06</td>\n",
       "      <td>M</td>\n",
       "      <td>3.0</td>\n",
       "    </tr>\n",
       "    <tr>\n",
       "      <th>4</th>\n",
       "      <td>51750724947</td>\n",
       "      <td>273420</td>\n",
       "      <td>2014-02-23</td>\n",
       "      <td>6</td>\n",
       "      <td>5</td>\n",
       "      <td>-2</td>\n",
       "      <td>-791</td>\n",
       "      <td>166.110</td>\n",
       "      <td>-1748.110</td>\n",
       "      <td>TeleShop</td>\n",
       "      <td>Books</td>\n",
       "      <td>DIY</td>\n",
       "      <td>1992-07-27</td>\n",
       "      <td>M</td>\n",
       "      <td>8.0</td>\n",
       "    </tr>\n",
       "    <tr>\n",
       "      <th>5</th>\n",
       "      <td>97439039119</td>\n",
       "      <td>272357</td>\n",
       "      <td>2014-02-23</td>\n",
       "      <td>8</td>\n",
       "      <td>3</td>\n",
       "      <td>-2</td>\n",
       "      <td>-824</td>\n",
       "      <td>173.040</td>\n",
       "      <td>-1821.040</td>\n",
       "      <td>TeleShop</td>\n",
       "      <td>Electronics</td>\n",
       "      <td>Personal Appliances</td>\n",
       "      <td>1982-09-10</td>\n",
       "      <td>F</td>\n",
       "      <td>6.0</td>\n",
       "    </tr>\n",
       "    <tr>\n",
       "      <th>6</th>\n",
       "      <td>45649838090</td>\n",
       "      <td>273667</td>\n",
       "      <td>2014-02-22</td>\n",
       "      <td>11</td>\n",
       "      <td>6</td>\n",
       "      <td>-1</td>\n",
       "      <td>-1450</td>\n",
       "      <td>152.250</td>\n",
       "      <td>-1602.250</td>\n",
       "      <td>e-Shop</td>\n",
       "      <td>Home and kitchen</td>\n",
       "      <td>Bath</td>\n",
       "      <td>1981-05-29</td>\n",
       "      <td>M</td>\n",
       "      <td>9.0</td>\n",
       "    </tr>\n",
       "    <tr>\n",
       "      <th>7</th>\n",
       "      <td>22643667930</td>\n",
       "      <td>271489</td>\n",
       "      <td>2014-02-22</td>\n",
       "      <td>12</td>\n",
       "      <td>6</td>\n",
       "      <td>-1</td>\n",
       "      <td>-1225</td>\n",
       "      <td>128.625</td>\n",
       "      <td>-1353.625</td>\n",
       "      <td>TeleShop</td>\n",
       "      <td>Home and kitchen</td>\n",
       "      <td>Tools</td>\n",
       "      <td>1971-04-21</td>\n",
       "      <td>M</td>\n",
       "      <td>9.0</td>\n",
       "    </tr>\n",
       "    <tr>\n",
       "      <th>8</th>\n",
       "      <td>79792372943</td>\n",
       "      <td>275108</td>\n",
       "      <td>2014-02-22</td>\n",
       "      <td>3</td>\n",
       "      <td>1</td>\n",
       "      <td>-3</td>\n",
       "      <td>-908</td>\n",
       "      <td>286.020</td>\n",
       "      <td>-3010.020</td>\n",
       "      <td>MBR</td>\n",
       "      <td>Clothing</td>\n",
       "      <td>Kids</td>\n",
       "      <td>1971-04-11</td>\n",
       "      <td>F</td>\n",
       "      <td>8.0</td>\n",
       "    </tr>\n",
       "    <tr>\n",
       "      <th>9</th>\n",
       "      <td>50076728598</td>\n",
       "      <td>269014</td>\n",
       "      <td>2014-02-21</td>\n",
       "      <td>8</td>\n",
       "      <td>3</td>\n",
       "      <td>-4</td>\n",
       "      <td>-581</td>\n",
       "      <td>244.020</td>\n",
       "      <td>-2568.020</td>\n",
       "      <td>e-Shop</td>\n",
       "      <td>Electronics</td>\n",
       "      <td>Personal Appliances</td>\n",
       "      <td>1979-11-27</td>\n",
       "      <td>F</td>\n",
       "      <td>3.0</td>\n",
       "    </tr>\n",
       "  </tbody>\n",
       "</table>\n",
       "</div>"
      ],
      "text/plain": [
       "   transaction_id  cust_id  tran_date  prod_subcat_code  prod_cat_code  Qty  \\\n",
       "0     80712190438   270351 2014-02-28                 1              1   -5   \n",
       "1     29258453508   270384 2014-02-27                 5              3   -5   \n",
       "2     51750724947   273420 2014-02-24                 6              5   -2   \n",
       "3     93274880719   271509 2014-02-24                11              6   -3   \n",
       "4     51750724947   273420 2014-02-23                 6              5   -2   \n",
       "5     97439039119   272357 2014-02-23                 8              3   -2   \n",
       "6     45649838090   273667 2014-02-22                11              6   -1   \n",
       "7     22643667930   271489 2014-02-22                12              6   -1   \n",
       "8     79792372943   275108 2014-02-22                 3              1   -3   \n",
       "9     50076728598   269014 2014-02-21                 8              3   -4   \n",
       "\n",
       "   Rate      Tax  total_amt Store_type          prod_cat          prod_subcat  \\\n",
       "0  -772  405.300  -4265.300     e-Shop          Clothing                Women   \n",
       "1 -1497  785.925  -8270.925     e-Shop       Electronics            Computers   \n",
       "2  -791  166.110  -1748.110   TeleShop             Books                  DIY   \n",
       "3 -1363  429.345  -4518.345     e-Shop  Home and kitchen                 Bath   \n",
       "4  -791  166.110  -1748.110   TeleShop             Books                  DIY   \n",
       "5  -824  173.040  -1821.040   TeleShop       Electronics  Personal Appliances   \n",
       "6 -1450  152.250  -1602.250     e-Shop  Home and kitchen                 Bath   \n",
       "7 -1225  128.625  -1353.625   TeleShop  Home and kitchen                Tools   \n",
       "8  -908  286.020  -3010.020        MBR          Clothing                 Kids   \n",
       "9  -581  244.020  -2568.020     e-Shop       Electronics  Personal Appliances   \n",
       "\n",
       "         DOB Gender  city_code  \n",
       "0 1981-09-26      M        5.0  \n",
       "1 1973-11-05      F        8.0  \n",
       "2 1992-07-27      M        8.0  \n",
       "3 1981-08-06      M        3.0  \n",
       "4 1992-07-27      M        8.0  \n",
       "5 1982-09-10      F        6.0  \n",
       "6 1981-05-29      M        9.0  \n",
       "7 1971-04-21      M        9.0  \n",
       "8 1971-04-11      F        8.0  \n",
       "9 1979-11-27      F        3.0  "
      ]
     },
     "execution_count": 17,
     "metadata": {},
     "output_type": "execute_result"
    }
   ],
   "source": [
    "# Top 10 observations\n",
    "Customer_Final.head(10)"
   ]
  },
  {
   "cell_type": "code",
   "execution_count": 18,
   "metadata": {
    "ExecuteTime": {
     "end_time": "2020-06-11T14:22:56.712294Z",
     "start_time": "2020-06-11T14:22:56.690350Z"
    }
   },
   "outputs": [
    {
     "data": {
      "text/html": [
       "<div>\n",
       "<style scoped>\n",
       "    .dataframe tbody tr th:only-of-type {\n",
       "        vertical-align: middle;\n",
       "    }\n",
       "\n",
       "    .dataframe tbody tr th {\n",
       "        vertical-align: top;\n",
       "    }\n",
       "\n",
       "    .dataframe thead th {\n",
       "        text-align: right;\n",
       "    }\n",
       "</style>\n",
       "<table border=\"1\" class=\"dataframe\">\n",
       "  <thead>\n",
       "    <tr style=\"text-align: right;\">\n",
       "      <th></th>\n",
       "      <th>transaction_id</th>\n",
       "      <th>cust_id</th>\n",
       "      <th>tran_date</th>\n",
       "      <th>prod_subcat_code</th>\n",
       "      <th>prod_cat_code</th>\n",
       "      <th>Qty</th>\n",
       "      <th>Rate</th>\n",
       "      <th>Tax</th>\n",
       "      <th>total_amt</th>\n",
       "      <th>Store_type</th>\n",
       "      <th>prod_cat</th>\n",
       "      <th>prod_subcat</th>\n",
       "      <th>DOB</th>\n",
       "      <th>Gender</th>\n",
       "      <th>city_code</th>\n",
       "    </tr>\n",
       "  </thead>\n",
       "  <tbody>\n",
       "    <tr>\n",
       "      <th>23043</th>\n",
       "      <td>49882891062</td>\n",
       "      <td>271982</td>\n",
       "      <td>2011-01-25</td>\n",
       "      <td>10</td>\n",
       "      <td>5</td>\n",
       "      <td>4</td>\n",
       "      <td>1330</td>\n",
       "      <td>558.600</td>\n",
       "      <td>5878.600</td>\n",
       "      <td>e-Shop</td>\n",
       "      <td>Books</td>\n",
       "      <td>Non-Fiction</td>\n",
       "      <td>1976-10-08</td>\n",
       "      <td>M</td>\n",
       "      <td>8.0</td>\n",
       "    </tr>\n",
       "    <tr>\n",
       "      <th>23044</th>\n",
       "      <td>14787475597</td>\n",
       "      <td>273982</td>\n",
       "      <td>2011-01-25</td>\n",
       "      <td>4</td>\n",
       "      <td>3</td>\n",
       "      <td>5</td>\n",
       "      <td>969</td>\n",
       "      <td>508.725</td>\n",
       "      <td>5353.725</td>\n",
       "      <td>e-Shop</td>\n",
       "      <td>Electronics</td>\n",
       "      <td>Mobiles</td>\n",
       "      <td>1991-12-10</td>\n",
       "      <td>M</td>\n",
       "      <td>4.0</td>\n",
       "    </tr>\n",
       "    <tr>\n",
       "      <th>23045</th>\n",
       "      <td>50691119572</td>\n",
       "      <td>273031</td>\n",
       "      <td>2011-01-25</td>\n",
       "      <td>6</td>\n",
       "      <td>5</td>\n",
       "      <td>1</td>\n",
       "      <td>1148</td>\n",
       "      <td>120.540</td>\n",
       "      <td>1268.540</td>\n",
       "      <td>TeleShop</td>\n",
       "      <td>Books</td>\n",
       "      <td>DIY</td>\n",
       "      <td>1980-01-17</td>\n",
       "      <td>F</td>\n",
       "      <td>8.0</td>\n",
       "    </tr>\n",
       "    <tr>\n",
       "      <th>23046</th>\n",
       "      <td>40893803228</td>\n",
       "      <td>272049</td>\n",
       "      <td>2011-01-25</td>\n",
       "      <td>11</td>\n",
       "      <td>6</td>\n",
       "      <td>3</td>\n",
       "      <td>1077</td>\n",
       "      <td>339.255</td>\n",
       "      <td>3570.255</td>\n",
       "      <td>e-Shop</td>\n",
       "      <td>Home and kitchen</td>\n",
       "      <td>Bath</td>\n",
       "      <td>1975-06-28</td>\n",
       "      <td>F</td>\n",
       "      <td>6.0</td>\n",
       "    </tr>\n",
       "    <tr>\n",
       "      <th>23047</th>\n",
       "      <td>30856003613</td>\n",
       "      <td>266866</td>\n",
       "      <td>2011-01-25</td>\n",
       "      <td>4</td>\n",
       "      <td>2</td>\n",
       "      <td>2</td>\n",
       "      <td>444</td>\n",
       "      <td>93.240</td>\n",
       "      <td>981.240</td>\n",
       "      <td>TeleShop</td>\n",
       "      <td>Footwear</td>\n",
       "      <td>Kids</td>\n",
       "      <td>1974-04-18</td>\n",
       "      <td>M</td>\n",
       "      <td>4.0</td>\n",
       "    </tr>\n",
       "    <tr>\n",
       "      <th>23048</th>\n",
       "      <td>94340757522</td>\n",
       "      <td>274550</td>\n",
       "      <td>2011-01-25</td>\n",
       "      <td>12</td>\n",
       "      <td>5</td>\n",
       "      <td>1</td>\n",
       "      <td>1264</td>\n",
       "      <td>132.720</td>\n",
       "      <td>1396.720</td>\n",
       "      <td>e-Shop</td>\n",
       "      <td>Books</td>\n",
       "      <td>Academic</td>\n",
       "      <td>1972-02-21</td>\n",
       "      <td>M</td>\n",
       "      <td>7.0</td>\n",
       "    </tr>\n",
       "    <tr>\n",
       "      <th>23049</th>\n",
       "      <td>89780862956</td>\n",
       "      <td>270022</td>\n",
       "      <td>2011-01-25</td>\n",
       "      <td>4</td>\n",
       "      <td>1</td>\n",
       "      <td>1</td>\n",
       "      <td>677</td>\n",
       "      <td>71.085</td>\n",
       "      <td>748.085</td>\n",
       "      <td>e-Shop</td>\n",
       "      <td>Clothing</td>\n",
       "      <td>Mens</td>\n",
       "      <td>1984-04-27</td>\n",
       "      <td>M</td>\n",
       "      <td>9.0</td>\n",
       "    </tr>\n",
       "    <tr>\n",
       "      <th>23050</th>\n",
       "      <td>85115299378</td>\n",
       "      <td>271020</td>\n",
       "      <td>2011-01-25</td>\n",
       "      <td>2</td>\n",
       "      <td>6</td>\n",
       "      <td>4</td>\n",
       "      <td>1052</td>\n",
       "      <td>441.840</td>\n",
       "      <td>4649.840</td>\n",
       "      <td>MBR</td>\n",
       "      <td>Home and kitchen</td>\n",
       "      <td>Furnishing</td>\n",
       "      <td>1976-06-20</td>\n",
       "      <td>M</td>\n",
       "      <td>8.0</td>\n",
       "    </tr>\n",
       "    <tr>\n",
       "      <th>23051</th>\n",
       "      <td>72870271171</td>\n",
       "      <td>270911</td>\n",
       "      <td>2011-01-25</td>\n",
       "      <td>11</td>\n",
       "      <td>5</td>\n",
       "      <td>3</td>\n",
       "      <td>1142</td>\n",
       "      <td>359.730</td>\n",
       "      <td>3785.730</td>\n",
       "      <td>TeleShop</td>\n",
       "      <td>Books</td>\n",
       "      <td>Children</td>\n",
       "      <td>1970-05-22</td>\n",
       "      <td>M</td>\n",
       "      <td>2.0</td>\n",
       "    </tr>\n",
       "    <tr>\n",
       "      <th>23052</th>\n",
       "      <td>77960931771</td>\n",
       "      <td>271961</td>\n",
       "      <td>2011-01-25</td>\n",
       "      <td>11</td>\n",
       "      <td>5</td>\n",
       "      <td>1</td>\n",
       "      <td>447</td>\n",
       "      <td>46.935</td>\n",
       "      <td>493.935</td>\n",
       "      <td>TeleShop</td>\n",
       "      <td>Books</td>\n",
       "      <td>Children</td>\n",
       "      <td>1982-01-15</td>\n",
       "      <td>M</td>\n",
       "      <td>1.0</td>\n",
       "    </tr>\n",
       "  </tbody>\n",
       "</table>\n",
       "</div>"
      ],
      "text/plain": [
       "       transaction_id  cust_id  tran_date  prod_subcat_code  prod_cat_code  \\\n",
       "23043     49882891062   271982 2011-01-25                10              5   \n",
       "23044     14787475597   273982 2011-01-25                 4              3   \n",
       "23045     50691119572   273031 2011-01-25                 6              5   \n",
       "23046     40893803228   272049 2011-01-25                11              6   \n",
       "23047     30856003613   266866 2011-01-25                 4              2   \n",
       "23048     94340757522   274550 2011-01-25                12              5   \n",
       "23049     89780862956   270022 2011-01-25                 4              1   \n",
       "23050     85115299378   271020 2011-01-25                 2              6   \n",
       "23051     72870271171   270911 2011-01-25                11              5   \n",
       "23052     77960931771   271961 2011-01-25                11              5   \n",
       "\n",
       "       Qty  Rate      Tax  total_amt Store_type          prod_cat  \\\n",
       "23043    4  1330  558.600   5878.600     e-Shop             Books   \n",
       "23044    5   969  508.725   5353.725     e-Shop       Electronics   \n",
       "23045    1  1148  120.540   1268.540   TeleShop             Books   \n",
       "23046    3  1077  339.255   3570.255     e-Shop  Home and kitchen   \n",
       "23047    2   444   93.240    981.240   TeleShop          Footwear   \n",
       "23048    1  1264  132.720   1396.720     e-Shop             Books   \n",
       "23049    1   677   71.085    748.085     e-Shop          Clothing   \n",
       "23050    4  1052  441.840   4649.840        MBR  Home and kitchen   \n",
       "23051    3  1142  359.730   3785.730   TeleShop             Books   \n",
       "23052    1   447   46.935    493.935   TeleShop             Books   \n",
       "\n",
       "       prod_subcat        DOB Gender  city_code  \n",
       "23043  Non-Fiction 1976-10-08      M        8.0  \n",
       "23044      Mobiles 1991-12-10      M        4.0  \n",
       "23045          DIY 1980-01-17      F        8.0  \n",
       "23046         Bath 1975-06-28      F        6.0  \n",
       "23047         Kids 1974-04-18      M        4.0  \n",
       "23048     Academic 1972-02-21      M        7.0  \n",
       "23049         Mens 1984-04-27      M        9.0  \n",
       "23050   Furnishing 1976-06-20      M        8.0  \n",
       "23051     Children 1970-05-22      M        2.0  \n",
       "23052     Children 1982-01-15      M        1.0  "
      ]
     },
     "execution_count": 18,
     "metadata": {},
     "output_type": "execute_result"
    }
   ],
   "source": [
    "# Bottom 10 observations\n",
    "Customer_Final.tail(10)"
   ]
  },
  {
   "cell_type": "markdown",
   "metadata": {},
   "source": [
    "## \"Five-number summary\" for continuous variables (min, Q1, median, Q3 and max)"
   ]
  },
  {
   "cell_type": "code",
   "execution_count": 19,
   "metadata": {
    "ExecuteTime": {
     "end_time": "2020-06-11T14:22:56.747198Z",
     "start_time": "2020-06-11T14:22:56.714287Z"
    }
   },
   "outputs": [
    {
     "data": {
      "text/html": [
       "<div>\n",
       "<style scoped>\n",
       "    .dataframe tbody tr th:only-of-type {\n",
       "        vertical-align: middle;\n",
       "    }\n",
       "\n",
       "    .dataframe tbody tr th {\n",
       "        vertical-align: top;\n",
       "    }\n",
       "\n",
       "    .dataframe thead th {\n",
       "        text-align: right;\n",
       "    }\n",
       "</style>\n",
       "<table border=\"1\" class=\"dataframe\">\n",
       "  <thead>\n",
       "    <tr style=\"text-align: right;\">\n",
       "      <th></th>\n",
       "      <th>count</th>\n",
       "      <th>mean</th>\n",
       "      <th>std</th>\n",
       "      <th>min</th>\n",
       "      <th>25%</th>\n",
       "      <th>50%</th>\n",
       "      <th>75%</th>\n",
       "      <th>max</th>\n",
       "    </tr>\n",
       "  </thead>\n",
       "  <tbody>\n",
       "    <tr>\n",
       "      <th>Qty</th>\n",
       "      <td>23053.0</td>\n",
       "      <td>2.432395</td>\n",
       "      <td>2.268406</td>\n",
       "      <td>-5.000</td>\n",
       "      <td>1.00</td>\n",
       "      <td>3.00</td>\n",
       "      <td>4.000</td>\n",
       "      <td>5.0</td>\n",
       "    </tr>\n",
       "    <tr>\n",
       "      <th>Rate</th>\n",
       "      <td>23053.0</td>\n",
       "      <td>636.369713</td>\n",
       "      <td>622.363498</td>\n",
       "      <td>-1499.000</td>\n",
       "      <td>312.00</td>\n",
       "      <td>710.00</td>\n",
       "      <td>1109.000</td>\n",
       "      <td>1500.0</td>\n",
       "    </tr>\n",
       "    <tr>\n",
       "      <th>Tax</th>\n",
       "      <td>23053.0</td>\n",
       "      <td>248.667192</td>\n",
       "      <td>187.177773</td>\n",
       "      <td>7.350</td>\n",
       "      <td>98.28</td>\n",
       "      <td>199.08</td>\n",
       "      <td>365.715</td>\n",
       "      <td>787.5</td>\n",
       "    </tr>\n",
       "    <tr>\n",
       "      <th>total_amt</th>\n",
       "      <td>23053.0</td>\n",
       "      <td>2107.308002</td>\n",
       "      <td>2507.561264</td>\n",
       "      <td>-8270.925</td>\n",
       "      <td>762.45</td>\n",
       "      <td>1754.74</td>\n",
       "      <td>3569.150</td>\n",
       "      <td>8287.5</td>\n",
       "    </tr>\n",
       "  </tbody>\n",
       "</table>\n",
       "</div>"
      ],
      "text/plain": [
       "             count         mean          std       min     25%      50%  \\\n",
       "Qty        23053.0     2.432395     2.268406    -5.000    1.00     3.00   \n",
       "Rate       23053.0   636.369713   622.363498 -1499.000  312.00   710.00   \n",
       "Tax        23053.0   248.667192   187.177773     7.350   98.28   199.08   \n",
       "total_amt  23053.0  2107.308002  2507.561264 -8270.925  762.45  1754.74   \n",
       "\n",
       "                75%     max  \n",
       "Qty           4.000     5.0  \n",
       "Rate       1109.000  1500.0  \n",
       "Tax         365.715   787.5  \n",
       "total_amt  3569.150  8287.5  "
      ]
     },
     "execution_count": 19,
     "metadata": {},
     "output_type": "execute_result"
    }
   ],
   "source": [
    "Customer_Final.loc[:, ['Qty', 'Rate', 'Tax', 'total_amt']].describe().T"
   ]
  },
  {
   "cell_type": "markdown",
   "metadata": {},
   "source": [
    "## Frequency tables for all the categorical variables"
   ]
  },
  {
   "cell_type": "code",
   "execution_count": 20,
   "metadata": {
    "ExecuteTime": {
     "end_time": "2020-06-11T14:22:56.754181Z",
     "start_time": "2020-06-11T14:22:56.748197Z"
    }
   },
   "outputs": [],
   "source": [
    "def cat_summ(x):\n",
    "    cat_s = x.value_counts()\n",
    "    cat_s1 = x.notna().sum()\n",
    "    freq_dist=pd.concat([cat_s, cat_s.cumsum(), cat_s/cat_s1, (cat_s/cat_s1).cumsum()], axis=1).reset_index()\n",
    "    freq_dist.columns = [x.name, 'Frequency', 'Cumulative Frequency', \n",
    "                     'Relative Frequency', 'Cumulative Relative Frequency']\n",
    "    return freq_dist"
   ]
  },
  {
   "cell_type": "code",
   "execution_count": 21,
   "metadata": {
    "ExecuteTime": {
     "end_time": "2020-06-11T14:22:56.780117Z",
     "start_time": "2020-06-11T14:22:56.755178Z"
    }
   },
   "outputs": [
    {
     "data": {
      "text/html": [
       "<div>\n",
       "<style scoped>\n",
       "    .dataframe tbody tr th:only-of-type {\n",
       "        vertical-align: middle;\n",
       "    }\n",
       "\n",
       "    .dataframe tbody tr th {\n",
       "        vertical-align: top;\n",
       "    }\n",
       "\n",
       "    .dataframe thead th {\n",
       "        text-align: right;\n",
       "    }\n",
       "</style>\n",
       "<table border=\"1\" class=\"dataframe\">\n",
       "  <thead>\n",
       "    <tr style=\"text-align: right;\">\n",
       "      <th></th>\n",
       "      <th>Gender</th>\n",
       "      <th>Frequency</th>\n",
       "      <th>Cumulative Frequency</th>\n",
       "      <th>Relative Frequency</th>\n",
       "      <th>Cumulative Relative Frequency</th>\n",
       "    </tr>\n",
       "  </thead>\n",
       "  <tbody>\n",
       "    <tr>\n",
       "      <th>0</th>\n",
       "      <td>M</td>\n",
       "      <td>11811</td>\n",
       "      <td>11811</td>\n",
       "      <td>0.512541</td>\n",
       "      <td>0.512541</td>\n",
       "    </tr>\n",
       "    <tr>\n",
       "      <th>1</th>\n",
       "      <td>F</td>\n",
       "      <td>11233</td>\n",
       "      <td>23044</td>\n",
       "      <td>0.487459</td>\n",
       "      <td>1.000000</td>\n",
       "    </tr>\n",
       "  </tbody>\n",
       "</table>\n",
       "</div>"
      ],
      "text/plain": [
       "  Gender  Frequency  Cumulative Frequency  Relative Frequency  \\\n",
       "0      M      11811                 11811            0.512541   \n",
       "1      F      11233                 23044            0.487459   \n",
       "\n",
       "   Cumulative Relative Frequency  \n",
       "0                       0.512541  \n",
       "1                       1.000000  "
      ]
     },
     "execution_count": 21,
     "metadata": {},
     "output_type": "execute_result"
    }
   ],
   "source": [
    "# To apply the udf cat_summ on any categorical variable.\n",
    "cat_summ(Customer_Final.Gender)"
   ]
  },
  {
   "cell_type": "code",
   "execution_count": 22,
   "metadata": {
    "ExecuteTime": {
     "end_time": "2020-06-11T14:22:56.849924Z",
     "start_time": "2020-06-11T14:22:56.781110Z"
    }
   },
   "outputs": [
    {
     "name": "stdout",
     "output_type": "stream",
     "text": [
      "    prod_subcat_code  Frequency  Cumulative Frequency  Relative Frequency  \\\n",
      "0                  4       4002                  4002            0.173600   \n",
      "1                  3       3067                  7069            0.133041   \n",
      "2                 10       2993                 10062            0.129831   \n",
      "3                  1       2950                 13012            0.127966   \n",
      "4                 11       2058                 15070            0.089273   \n",
      "5                 12       2029                 17099            0.088015   \n",
      "6                  7       1043                 18142            0.045244   \n",
      "7                  2       1007                 19149            0.043682   \n",
      "8                  6        989                 20138            0.042901   \n",
      "9                  9        985                 21123            0.042728   \n",
      "10                 8        972                 22095            0.042164   \n",
      "11                 5        958                 23053            0.041556   \n",
      "\n",
      "    Cumulative Relative Frequency  \n",
      "0                        0.173600  \n",
      "1                        0.306641  \n",
      "2                        0.436472  \n",
      "3                        0.564438  \n",
      "4                        0.653711  \n",
      "5                        0.741726  \n",
      "6                        0.786969  \n",
      "7                        0.830651  \n",
      "8                        0.873552  \n",
      "9                        0.916280  \n",
      "10                       0.958444  \n",
      "11                       1.000000  \n",
      "   prod_cat_code  Frequency  Cumulative Frequency  Relative Frequency  \\\n",
      "0              5       6069                  6069            0.263263   \n",
      "1              3       4898                 10967            0.212467   \n",
      "2              6       4129                 15096            0.179109   \n",
      "3              2       2999                 18095            0.130092   \n",
      "4              1       2960                 21055            0.128400   \n",
      "5              4       1998                 23053            0.086670   \n",
      "\n",
      "   Cumulative Relative Frequency  \n",
      "0                       0.263263  \n",
      "1                       0.475730  \n",
      "2                       0.654839  \n",
      "3                       0.784930  \n",
      "4                       0.913330  \n",
      "5                       1.000000  \n",
      "       Store_type  Frequency  Cumulative Frequency  Relative Frequency  \\\n",
      "0          e-Shop       9311                  9311            0.403895   \n",
      "1             MBR       4661                 13972            0.202186   \n",
      "2  Flagship store       4577                 18549            0.198542   \n",
      "3        TeleShop       4504                 23053            0.195376   \n",
      "\n",
      "   Cumulative Relative Frequency  \n",
      "0                       0.403895  \n",
      "1                       0.606082  \n",
      "2                       0.804624  \n",
      "3                       1.000000  \n",
      "           prod_cat  Frequency  Cumulative Frequency  Relative Frequency  \\\n",
      "0             Books       6069                  6069            0.263263   \n",
      "1       Electronics       4898                 10967            0.212467   \n",
      "2  Home and kitchen       4129                 15096            0.179109   \n",
      "3          Footwear       2999                 18095            0.130092   \n",
      "4          Clothing       2960                 21055            0.128400   \n",
      "5              Bags       1998                 23053            0.086670   \n",
      "\n",
      "   Cumulative Relative Frequency  \n",
      "0                       0.263263  \n",
      "1                       0.475730  \n",
      "2                       0.654839  \n",
      "3                       0.784930  \n",
      "4                       0.913330  \n",
      "5                       1.000000  \n",
      "            prod_subcat  Frequency  Cumulative Frequency  Relative Frequency  \\\n",
      "0                 Women       3048                  3048            0.132217   \n",
      "1                  Mens       2912                  5960            0.126318   \n",
      "2                  Kids       1997                  7957            0.086626   \n",
      "3                 Tools       1062                  9019            0.046068   \n",
      "4               Fiction       1043                 10062            0.045244   \n",
      "5               Kitchen       1037                 11099            0.044983   \n",
      "6              Children       1035                 12134            0.044897   \n",
      "7               Mobiles       1031                 13165            0.044723   \n",
      "8                Comics       1031                 14196            0.044723   \n",
      "9                  Bath       1023                 15219            0.044376   \n",
      "10           Furnishing       1007                 16226            0.043682   \n",
      "11          Non-Fiction       1004                 17230            0.043552   \n",
      "12                  DIY        989                 18219            0.042901   \n",
      "13              Cameras        985                 19204            0.042728   \n",
      "14  Personal Appliances        972                 20176            0.042164   \n",
      "15             Academic        967                 21143            0.041947   \n",
      "16            Computers        958                 22101            0.041556   \n",
      "17      Audio and video        952                 23053            0.041296   \n",
      "\n",
      "    Cumulative Relative Frequency  \n",
      "0                        0.132217  \n",
      "1                        0.258535  \n",
      "2                        0.345161  \n",
      "3                        0.391229  \n",
      "4                        0.436472  \n",
      "5                        0.481456  \n",
      "6                        0.526352  \n",
      "7                        0.571075  \n",
      "8                        0.615798  \n",
      "9                        0.660174  \n",
      "10                       0.703856  \n",
      "11                       0.747408  \n",
      "12                       0.790309  \n",
      "13                       0.833037  \n",
      "14                       0.875201  \n",
      "15                       0.917147  \n",
      "16                       0.958704  \n",
      "17                       1.000000  \n",
      "  Gender  Frequency  Cumulative Frequency  Relative Frequency  \\\n",
      "0      M      11811                 11811            0.512541   \n",
      "1      F      11233                 23044            0.487459   \n",
      "\n",
      "   Cumulative Relative Frequency  \n",
      "0                       0.512541  \n",
      "1                       1.000000  \n",
      "   city_code  Frequency  Cumulative Frequency  Relative Frequency  \\\n",
      "0        4.0       2422                  2422            0.105099   \n",
      "1        3.0       2411                  4833            0.104621   \n",
      "2        5.0       2360                  7193            0.102408   \n",
      "3        7.0       2356                  9549            0.102235   \n",
      "4       10.0       2333                 11882            0.101237   \n",
      "5        8.0       2330                 14212            0.101107   \n",
      "6        2.0       2270                 16482            0.098503   \n",
      "7        1.0       2258                 18740            0.097982   \n",
      "8        9.0       2178                 20918            0.094511   \n",
      "9        6.0       2127                 23045            0.092298   \n",
      "\n",
      "   Cumulative Relative Frequency  \n",
      "0                       0.105099  \n",
      "1                       0.209720  \n",
      "2                       0.312128  \n",
      "3                       0.414363  \n",
      "4                       0.515600  \n",
      "5                       0.616706  \n",
      "6                       0.715209  \n",
      "7                       0.813192  \n",
      "8                       0.907702  \n",
      "9                       1.000000  \n"
     ]
    }
   ],
   "source": [
    "# To get the frequency distribution of all the categorical variables.\n",
    "col_name = ['prod_subcat_code', 'prod_cat_code', 'Store_type', 'prod_cat', 'prod_subcat', 'Gender', 'city_code']\n",
    "for i in col_name:\n",
    "    print(cat_summ(Customer_Final.loc[:, i]))"
   ]
  },
  {
   "cell_type": "markdown",
   "metadata": {},
   "source": [
    "# Generate histograms for all continuous variables and frequency bars for categorical variables."
   ]
  },
  {
   "cell_type": "code",
   "execution_count": 23,
   "metadata": {
    "ExecuteTime": {
     "end_time": "2020-06-11T14:22:57.803373Z",
     "start_time": "2020-06-11T14:22:56.853913Z"
    }
   },
   "outputs": [
    {
     "data": {
      "image/png": "[encoded data removed]",
      "text/plain": [
       "<Figure size 432x288 with 1 Axes>"
      ]
     },
     "metadata": {
      "needs_background": "light"
     },
     "output_type": "display_data"
    },
    {
     "data": {
      "image/png": "[encoded data removed]",
      "text/plain": [
       "<Figure size 432x288 with 1 Axes>"
      ]
     },
     "metadata": {
      "needs_background": "light"
     },
     "output_type": "display_data"
    },
    {
     "data": {
      "image/png": "[encoded data removed]",
      "text/plain": [
       "<Figure size 432x288 with 1 Axes>"
      ]
     },
     "metadata": {
      "needs_background": "light"
     },
     "output_type": "display_data"
    },
    {
     "data": {
      "image/png": "[encoded data removed]",
      "text/plain": [
       "<Figure size 432x288 with 1 Axes>"
      ]
     },
     "metadata": {
      "needs_background": "light"
     },
     "output_type": "display_data"
    },
    {
     "data": {
      "text/plain": [
       "Qty          None\n",
       "Rate         None\n",
       "Tax          None\n",
       "total_amt    None\n",
       "dtype: object"
      ]
     },
     "execution_count": 23,
     "metadata": {},
     "output_type": "execute_result"
    }
   ],
   "source": [
    "# Generating the histograms for all the continuous variables.\n",
    "def num_plot(x):\n",
    "    plt.ylabel('Frequency')\n",
    "    plt.title(\"Histogram of \" + x.name)\n",
    "    sns.distplot(x)\n",
    "    plt.show()\n",
    "Customer_Final.loc[:, ['Qty', 'Rate', 'Tax', 'total_amt']].apply(lambda x: num_plot(x))"
   ]
  },
  {
   "cell_type": "code",
   "execution_count": 24,
   "metadata": {
    "ExecuteTime": {
     "end_time": "2020-06-11T14:23:00.312037Z",
     "start_time": "2020-06-11T14:22:57.805367Z"
    }
   },
   "outputs": [
    {
     "data": {
      "image/png": "[encoded data removed]",
      "text/plain": [
       "<Figure size 360x360 with 1 Axes>"
      ]
     },
     "metadata": {
      "needs_background": "light"
     },
     "output_type": "display_data"
    },
    {
     "data": {
      "image/png": "[encoded data removed]",
      "text/plain": [
       "<Figure size 360x360 with 1 Axes>"
      ]
     },
     "metadata": {
      "needs_background": "light"
     },
     "output_type": "display_data"
    },
    {
     "data": {
      "image/png": "[encoded data removed]",
      "text/plain": [
       "<Figure size 360x360 with 1 Axes>"
      ]
     },
     "metadata": {
      "needs_background": "light"
     },
     "output_type": "display_data"
    },
    {
     "data": {
      "image/png": "[encoded data removed]",
      "text/plain": [
       "<Figure size 360x360 with 1 Axes>"
      ]
     },
     "metadata": {
      "needs_background": "light"
     },
     "output_type": "display_data"
    },
    {
     "data": {
      "image/png": "[encoded data removed]",
      "text/plain": [
       "<Figure size 360x360 with 1 Axes>"
      ]
     },
     "metadata": {
      "needs_background": "light"
     },
     "output_type": "display_data"
    },
    {
     "data": {
      "image/png": "[encoded data removed]",
      "text/plain": [
       "<Figure size 360x360 with 1 Axes>"
      ]
     },
     "metadata": {
      "needs_background": "light"
     },
     "output_type": "display_data"
    },
    {
     "data": {
      "image/png": "[encoded data removed]",
      "text/plain": [
       "<Figure size 360x360 with 1 Axes>"
      ]
     },
     "metadata": {
      "needs_background": "light"
     },
     "output_type": "display_data"
    },
    {
     "data": {
      "text/plain": [
       "prod_subcat_code    None\n",
       "prod_cat_code       None\n",
       "city_code           None\n",
       "Store_type          None\n",
       "prod_cat            None\n",
       "prod_subcat         None\n",
       "Gender              None\n",
       "dtype: object"
      ]
     },
     "execution_count": 24,
     "metadata": {},
     "output_type": "execute_result"
    }
   ],
   "source": [
    "# Generating the frequency bars for categorical variables.\n",
    "col_name = ['prod_subcat_code', 'prod_cat_code', 'city_code', 'Store_type', 'prod_cat', 'prod_subcat', 'Gender']\n",
    "def cat_plot(z):\n",
    "    sns.catplot(y = z.name, kind = 'count', data = Customer_Final)\n",
    "    plt.show()\n",
    "Customer_Final.loc[:, col_name].apply(lambda x: cat_plot(x))"
   ]
  },
  {
   "cell_type": "markdown",
   "metadata": {},
   "source": [
    "# Calculate the following information using the merged dataset :\n",
    "## Time period of the available transaction data"
   ]
  },
  {
   "cell_type": "code",
   "execution_count": 25,
   "metadata": {
    "ExecuteTime": {
     "end_time": "2020-06-11T14:23:00.319019Z",
     "start_time": "2020-06-11T14:23:00.313033Z"
    }
   },
   "outputs": [
    {
     "data": {
      "text/plain": [
       "Timestamp('2011-01-02 00:00:00')"
      ]
     },
     "execution_count": 25,
     "metadata": {},
     "output_type": "execute_result"
    }
   ],
   "source": [
    "# To get the date of first transaction made by any customer. \n",
    "Customer_Final.tran_date.min()"
   ]
  },
  {
   "cell_type": "code",
   "execution_count": 26,
   "metadata": {
    "ExecuteTime": {
     "end_time": "2020-06-11T14:23:00.325999Z",
     "start_time": "2020-06-11T14:23:00.320014Z"
    }
   },
   "outputs": [
    {
     "data": {
      "text/plain": [
       "Timestamp('2014-12-02 00:00:00')"
      ]
     },
     "execution_count": 26,
     "metadata": {},
     "output_type": "execute_result"
    }
   ],
   "source": [
    "# To get the date of latest transaction made by any customer. \n",
    "Customer_Final.tran_date.max()"
   ]
  },
  {
   "cell_type": "code",
   "execution_count": 27,
   "metadata": {
    "ExecuteTime": {
     "end_time": "2020-06-11T14:23:00.332981Z",
     "start_time": "2020-06-11T14:23:00.326997Z"
    }
   },
   "outputs": [
    {
     "data": {
      "text/plain": [
       "Timedelta('1430 days 00:00:00')"
      ]
     },
     "execution_count": 27,
     "metadata": {},
     "output_type": "execute_result"
    }
   ],
   "source": [
    "# Duration of the transaction data\n",
    "Customer_Final.tran_date.max() - Customer_Final.tran_date.min()"
   ]
  },
  {
   "cell_type": "markdown",
   "metadata": {},
   "source": [
    "**Remark:** The transaction data is available from 2nd January, 2011 till 2nd December, 2014. The transaction data of 1430 days is available with us."
   ]
  },
  {
   "cell_type": "markdown",
   "metadata": {},
   "source": [
    "## Count of transactions where the total amount of transaction was negative"
   ]
  },
  {
   "cell_type": "code",
   "execution_count": 28,
   "metadata": {
    "ExecuteTime": {
     "end_time": "2020-06-11T14:23:00.341988Z",
     "start_time": "2020-06-11T14:23:00.334975Z"
    }
   },
   "outputs": [
    {
     "data": {
      "text/plain": [
       "2177"
      ]
     },
     "execution_count": 28,
     "metadata": {},
     "output_type": "execute_result"
    }
   ],
   "source": [
    "Customer_Final.loc[Customer_Final.total_amt<0].shape[0]"
   ]
  },
  {
   "cell_type": "markdown",
   "metadata": {},
   "source": [
    "**Remark:** There were 2177 transactions where the total amount of transaction was negative."
   ]
  },
  {
   "cell_type": "markdown",
   "metadata": {},
   "source": [
    "# Analyze which product categories are more popular among females vs male customers."
   ]
  },
  {
   "cell_type": "code",
   "execution_count": 29,
   "metadata": {
    "ExecuteTime": {
     "end_time": "2020-06-11T14:23:00.366927Z",
     "start_time": "2020-06-11T14:23:00.342985Z"
    }
   },
   "outputs": [
    {
     "data": {
      "text/html": [
       "<div>\n",
       "<style scoped>\n",
       "    .dataframe tbody tr th:only-of-type {\n",
       "        vertical-align: middle;\n",
       "    }\n",
       "\n",
       "    .dataframe tbody tr th {\n",
       "        vertical-align: top;\n",
       "    }\n",
       "\n",
       "    .dataframe thead th {\n",
       "        text-align: right;\n",
       "    }\n",
       "</style>\n",
       "<table border=\"1\" class=\"dataframe\">\n",
       "  <thead>\n",
       "    <tr style=\"text-align: right;\">\n",
       "      <th>Gender</th>\n",
       "      <th>F</th>\n",
       "      <th>M</th>\n",
       "    </tr>\n",
       "    <tr>\n",
       "      <th>prod_cat</th>\n",
       "      <th></th>\n",
       "      <th></th>\n",
       "    </tr>\n",
       "  </thead>\n",
       "  <tbody>\n",
       "    <tr>\n",
       "      <th>Books</th>\n",
       "      <td>2949</td>\n",
       "      <td>3116</td>\n",
       "    </tr>\n",
       "    <tr>\n",
       "      <th>Electronics</th>\n",
       "      <td>2328</td>\n",
       "      <td>2570</td>\n",
       "    </tr>\n",
       "    <tr>\n",
       "      <th>Home and kitchen</th>\n",
       "      <td>1994</td>\n",
       "      <td>2134</td>\n",
       "    </tr>\n",
       "    <tr>\n",
       "      <th>Footwear</th>\n",
       "      <td>1529</td>\n",
       "      <td>1469</td>\n",
       "    </tr>\n",
       "    <tr>\n",
       "      <th>Clothing</th>\n",
       "      <td>1439</td>\n",
       "      <td>1518</td>\n",
       "    </tr>\n",
       "    <tr>\n",
       "      <th>Bags</th>\n",
       "      <td>994</td>\n",
       "      <td>1004</td>\n",
       "    </tr>\n",
       "  </tbody>\n",
       "</table>\n",
       "</div>"
      ],
      "text/plain": [
       "Gender               F     M\n",
       "prod_cat                    \n",
       "Books             2949  3116\n",
       "Electronics       2328  2570\n",
       "Home and kitchen  1994  2134\n",
       "Footwear          1529  1469\n",
       "Clothing          1439  1518\n",
       "Bags               994  1004"
      ]
     },
     "execution_count": 29,
     "metadata": {},
     "output_type": "execute_result"
    }
   ],
   "source": [
    "# To get the count of various products purchased by males vs. females sorted in descending order by Females\n",
    "pd.crosstab(Customer_Final.prod_cat, Customer_Final.Gender).sort_values(by = 'F', ascending = False)"
   ]
  },
  {
   "cell_type": "code",
   "execution_count": 30,
   "metadata": {
    "ExecuteTime": {
     "end_time": "2020-06-11T14:23:00.389830Z",
     "start_time": "2020-06-11T14:23:00.367887Z"
    }
   },
   "outputs": [
    {
     "data": {
      "text/html": [
       "<div>\n",
       "<style scoped>\n",
       "    .dataframe tbody tr th:only-of-type {\n",
       "        vertical-align: middle;\n",
       "    }\n",
       "\n",
       "    .dataframe tbody tr th {\n",
       "        vertical-align: top;\n",
       "    }\n",
       "\n",
       "    .dataframe thead th {\n",
       "        text-align: right;\n",
       "    }\n",
       "</style>\n",
       "<table border=\"1\" class=\"dataframe\">\n",
       "  <thead>\n",
       "    <tr style=\"text-align: right;\">\n",
       "      <th>Gender</th>\n",
       "      <th>F</th>\n",
       "      <th>M</th>\n",
       "    </tr>\n",
       "    <tr>\n",
       "      <th>prod_cat</th>\n",
       "      <th></th>\n",
       "      <th></th>\n",
       "    </tr>\n",
       "  </thead>\n",
       "  <tbody>\n",
       "    <tr>\n",
       "      <th>Books</th>\n",
       "      <td>2949</td>\n",
       "      <td>3116</td>\n",
       "    </tr>\n",
       "    <tr>\n",
       "      <th>Electronics</th>\n",
       "      <td>2328</td>\n",
       "      <td>2570</td>\n",
       "    </tr>\n",
       "    <tr>\n",
       "      <th>Home and kitchen</th>\n",
       "      <td>1994</td>\n",
       "      <td>2134</td>\n",
       "    </tr>\n",
       "    <tr>\n",
       "      <th>Clothing</th>\n",
       "      <td>1439</td>\n",
       "      <td>1518</td>\n",
       "    </tr>\n",
       "    <tr>\n",
       "      <th>Footwear</th>\n",
       "      <td>1529</td>\n",
       "      <td>1469</td>\n",
       "    </tr>\n",
       "    <tr>\n",
       "      <th>Bags</th>\n",
       "      <td>994</td>\n",
       "      <td>1004</td>\n",
       "    </tr>\n",
       "  </tbody>\n",
       "</table>\n",
       "</div>"
      ],
      "text/plain": [
       "Gender               F     M\n",
       "prod_cat                    \n",
       "Books             2949  3116\n",
       "Electronics       2328  2570\n",
       "Home and kitchen  1994  2134\n",
       "Clothing          1439  1518\n",
       "Footwear          1529  1469\n",
       "Bags               994  1004"
      ]
     },
     "execution_count": 30,
     "metadata": {},
     "output_type": "execute_result"
    }
   ],
   "source": [
    "# To get the count of various products purchased by males vs. females sorted in descending order by Males\n",
    "pd.crosstab(Customer_Final.prod_cat, Customer_Final.Gender).sort_values(by = 'M', ascending = False)"
   ]
  },
  {
   "cell_type": "markdown",
   "metadata": {
    "ExecuteTime": {
     "end_time": "2020-06-11T09:14:49.788194Z",
     "start_time": "2020-06-11T09:14:49.774166Z"
    }
   },
   "source": [
    "**Remark:** The product category \"Books\" is more popular amongst both females and males."
   ]
  },
  {
   "cell_type": "markdown",
   "metadata": {},
   "source": [
    "# Which City code has the maximum customers and what was the percentage of customers from that city?"
   ]
  },
  {
   "cell_type": "code",
   "execution_count": 31,
   "metadata": {
    "ExecuteTime": {
     "end_time": "2020-06-11T14:23:00.395837Z",
     "start_time": "2020-06-11T14:23:00.390830Z"
    }
   },
   "outputs": [
    {
     "data": {
      "text/plain": [
       "5506"
      ]
     },
     "execution_count": 31,
     "metadata": {},
     "output_type": "execute_result"
    }
   ],
   "source": [
    "# Total number of customers from all the cities\n",
    "len(Customer_Final.cust_id.unique())"
   ]
  },
  {
   "cell_type": "code",
   "execution_count": 32,
   "metadata": {
    "ExecuteTime": {
     "end_time": "2020-06-11T14:23:00.427760Z",
     "start_time": "2020-06-11T14:23:00.396813Z"
    }
   },
   "outputs": [
    {
     "data": {
      "text/html": [
       "<div>\n",
       "<style scoped>\n",
       "    .dataframe tbody tr th:only-of-type {\n",
       "        vertical-align: middle;\n",
       "    }\n",
       "\n",
       "    .dataframe tbody tr th {\n",
       "        vertical-align: top;\n",
       "    }\n",
       "\n",
       "    .dataframe thead th {\n",
       "        text-align: right;\n",
       "    }\n",
       "</style>\n",
       "<table border=\"1\" class=\"dataframe\">\n",
       "  <thead>\n",
       "    <tr style=\"text-align: right;\">\n",
       "      <th></th>\n",
       "      <th>city_codes</th>\n",
       "      <th>Number_of_Customers_in_each_city</th>\n",
       "      <th>Percentage_of_Customers_in_each_city</th>\n",
       "    </tr>\n",
       "  </thead>\n",
       "  <tbody>\n",
       "    <tr>\n",
       "      <th>0</th>\n",
       "      <td>3.0</td>\n",
       "      <td>576</td>\n",
       "      <td>10.47</td>\n",
       "    </tr>\n",
       "    <tr>\n",
       "      <th>1</th>\n",
       "      <td>5.0</td>\n",
       "      <td>570</td>\n",
       "      <td>10.36</td>\n",
       "    </tr>\n",
       "    <tr>\n",
       "      <th>2</th>\n",
       "      <td>4.0</td>\n",
       "      <td>569</td>\n",
       "      <td>10.34</td>\n",
       "    </tr>\n",
       "    <tr>\n",
       "      <th>3</th>\n",
       "      <td>7.0</td>\n",
       "      <td>563</td>\n",
       "      <td>10.23</td>\n",
       "    </tr>\n",
       "    <tr>\n",
       "      <th>4</th>\n",
       "      <td>8.0</td>\n",
       "      <td>551</td>\n",
       "      <td>10.01</td>\n",
       "    </tr>\n",
       "    <tr>\n",
       "      <th>5</th>\n",
       "      <td>2.0</td>\n",
       "      <td>546</td>\n",
       "      <td>9.92</td>\n",
       "    </tr>\n",
       "    <tr>\n",
       "      <th>6</th>\n",
       "      <td>10.0</td>\n",
       "      <td>546</td>\n",
       "      <td>9.92</td>\n",
       "    </tr>\n",
       "    <tr>\n",
       "      <th>7</th>\n",
       "      <td>1.0</td>\n",
       "      <td>535</td>\n",
       "      <td>9.72</td>\n",
       "    </tr>\n",
       "    <tr>\n",
       "      <th>8</th>\n",
       "      <td>9.0</td>\n",
       "      <td>532</td>\n",
       "      <td>9.67</td>\n",
       "    </tr>\n",
       "    <tr>\n",
       "      <th>9</th>\n",
       "      <td>6.0</td>\n",
       "      <td>516</td>\n",
       "      <td>9.38</td>\n",
       "    </tr>\n",
       "  </tbody>\n",
       "</table>\n",
       "</div>"
      ],
      "text/plain": [
       "   city_codes  Number_of_Customers_in_each_city  \\\n",
       "0         3.0                               576   \n",
       "1         5.0                               570   \n",
       "2         4.0                               569   \n",
       "3         7.0                               563   \n",
       "4         8.0                               551   \n",
       "5         2.0                               546   \n",
       "6        10.0                               546   \n",
       "7         1.0                               535   \n",
       "8         9.0                               532   \n",
       "9         6.0                               516   \n",
       "\n",
       "   Percentage_of_Customers_in_each_city  \n",
       "0                                 10.47  \n",
       "1                                 10.36  \n",
       "2                                 10.34  \n",
       "3                                 10.23  \n",
       "4                                 10.01  \n",
       "5                                  9.92  \n",
       "6                                  9.92  \n",
       "7                                  9.72  \n",
       "8                                  9.67  \n",
       "9                                  9.38  "
      ]
     },
     "execution_count": 32,
     "metadata": {},
     "output_type": "execute_result"
    }
   ],
   "source": [
    "x = list(Customer_Final.city_code.unique()[~np.isnan(Customer_Final.city_code.unique())])\n",
    "y = []\n",
    "for i in x:\n",
    "    y.append(len(Customer_Final.loc[Customer_Final.city_code == i].cust_id.unique()))\n",
    "city_cust = pd.DataFrame({'city_codes':x,'Number_of_Customers_in_each_city':y})\n",
    "city_cust['Percentage_of_Customers_in_each_city'] = round(city_cust.Number_of_Customers_in_each_city/city_cust.Number_of_Customers_in_each_city.sum()*100,2)\n",
    "city_cust.sort_values(by = 'Number_of_Customers_in_each_city', ascending = False).reset_index(drop = True)"
   ]
  },
  {
   "cell_type": "markdown",
   "metadata": {},
   "source": [
    "**Remark:** The city code 3.0 has maximum customers and the percentage of customers in that city is 10.47%."
   ]
  },
  {
   "cell_type": "markdown",
   "metadata": {},
   "source": [
    "# Which store type sells the maximum products by value and by quantity?"
   ]
  },
  {
   "cell_type": "code",
   "execution_count": 33,
   "metadata": {
    "ExecuteTime": {
     "end_time": "2020-06-11T14:23:00.443714Z",
     "start_time": "2020-06-11T14:23:00.428725Z"
    }
   },
   "outputs": [
    {
     "data": {
      "text/html": [
       "<div>\n",
       "<style scoped>\n",
       "    .dataframe tbody tr th:only-of-type {\n",
       "        vertical-align: middle;\n",
       "    }\n",
       "\n",
       "    .dataframe tbody tr th {\n",
       "        vertical-align: top;\n",
       "    }\n",
       "\n",
       "    .dataframe thead th {\n",
       "        text-align: right;\n",
       "    }\n",
       "</style>\n",
       "<table border=\"1\" class=\"dataframe\">\n",
       "  <thead>\n",
       "    <tr style=\"text-align: right;\">\n",
       "      <th></th>\n",
       "      <th>total_amt</th>\n",
       "      <th>Qty</th>\n",
       "    </tr>\n",
       "    <tr>\n",
       "      <th>Store_type</th>\n",
       "      <th></th>\n",
       "      <th></th>\n",
       "    </tr>\n",
       "  </thead>\n",
       "  <tbody>\n",
       "    <tr>\n",
       "      <th>e-Shop</th>\n",
       "      <td>19824816.05</td>\n",
       "      <td>22763</td>\n",
       "    </tr>\n",
       "    <tr>\n",
       "      <th>Flagship store</th>\n",
       "      <td>9715688.19</td>\n",
       "      <td>11133</td>\n",
       "    </tr>\n",
       "    <tr>\n",
       "      <th>MBR</th>\n",
       "      <td>9674486.06</td>\n",
       "      <td>11194</td>\n",
       "    </tr>\n",
       "    <tr>\n",
       "      <th>TeleShop</th>\n",
       "      <td>9364781.07</td>\n",
       "      <td>10984</td>\n",
       "    </tr>\n",
       "  </tbody>\n",
       "</table>\n",
       "</div>"
      ],
      "text/plain": [
       "                  total_amt    Qty\n",
       "Store_type                        \n",
       "e-Shop          19824816.05  22763\n",
       "Flagship store   9715688.19  11133\n",
       "MBR              9674486.06  11194\n",
       "TeleShop         9364781.07  10984"
      ]
     },
     "execution_count": 33,
     "metadata": {},
     "output_type": "execute_result"
    }
   ],
   "source": [
    "#pd.pivot_table(Customer_Final, index = 'Store_type', values=['total_amt','Qty'], aggfunc=sum).round(2).sort_values(by = 'total_amt', ascending = False)\n",
    "Customer_Final.groupby('Store_type')[['total_amt','Qty']].sum().round(2).sort_values(by = 'total_amt', ascending = False)"
   ]
  },
  {
   "cell_type": "markdown",
   "metadata": {},
   "source": [
    "**Remark:** The store type \"e-Shop\" has sold the maximum products by both value and quantity. "
   ]
  },
  {
   "cell_type": "markdown",
   "metadata": {},
   "source": [
    "# What was the total amount earned from the \"Electronics\" and \"Clothing\" categories from Flagship Stores?"
   ]
  },
  {
   "cell_type": "code",
   "execution_count": 34,
   "metadata": {
    "ExecuteTime": {
     "end_time": "2020-06-11T14:23:00.458644Z",
     "start_time": "2020-06-11T14:23:00.444709Z"
    }
   },
   "outputs": [
    {
     "data": {
      "text/plain": [
       "prod_cat\n",
       "Clothing       1194423.23\n",
       "Electronics    2215136.04\n",
       "Name: total_amt, dtype: float64"
      ]
     },
     "execution_count": 34,
     "metadata": {},
     "output_type": "execute_result"
    }
   ],
   "source": [
    "# Total amount earned from the \"Electronics\" and \"Clothing\" categories from Flagship Stores individually\n",
    "Customer_Final.loc[(Customer_Final.Store_type == 'Flagship store') & (Customer_Final.prod_cat.isin(['Electronics', 'Clothing'])), ['prod_cat','total_amt']].groupby('prod_cat').total_amt.sum()"
   ]
  },
  {
   "cell_type": "code",
   "execution_count": 35,
   "metadata": {
    "ExecuteTime": {
     "end_time": "2020-06-11T14:23:00.469616Z",
     "start_time": "2020-06-11T14:23:00.460639Z"
    }
   },
   "outputs": [
    {
     "data": {
      "text/plain": [
       "3409559.27"
      ]
     },
     "execution_count": 35,
     "metadata": {},
     "output_type": "execute_result"
    }
   ],
   "source": [
    "# Total amount earned from the \"Electronics\" and \"Clothing\" categories from Flagship Stores in total.\n",
    "Customer_Final.loc[(Customer_Final.Store_type == 'Flagship store') & (Customer_Final.prod_cat.isin(['Electronics', 'Clothing'])), 'total_amt'].sum()"
   ]
  },
  {
   "cell_type": "markdown",
   "metadata": {},
   "source": [
    "# What was the total amount earned from \"Male\" customers under the \"Electronics\" category?"
   ]
  },
  {
   "cell_type": "code",
   "execution_count": 36,
   "metadata": {
    "ExecuteTime": {
     "end_time": "2020-06-11T14:23:00.482609Z",
     "start_time": "2020-06-11T14:23:00.471610Z"
    }
   },
   "outputs": [
    {
     "data": {
      "text/plain": [
       "5703109.42"
      ]
     },
     "execution_count": 36,
     "metadata": {},
     "output_type": "execute_result"
    }
   ],
   "source": [
    "Customer_Final.loc[(Customer_Final.prod_cat == 'Electronics') & (Customer_Final.Gender == 'M'), 'total_amt'].sum().round(2)"
   ]
  },
  {
   "cell_type": "markdown",
   "metadata": {},
   "source": [
    "# How many customers have more than 10 unique transactions, after removing all transactions which have any negative amounts?"
   ]
  },
  {
   "cell_type": "code",
   "execution_count": 37,
   "metadata": {
    "ExecuteTime": {
     "end_time": "2020-06-11T14:23:00.495580Z",
     "start_time": "2020-06-11T14:23:00.484575Z"
    }
   },
   "outputs": [
    {
     "data": {
      "text/plain": [
       "6"
      ]
     },
     "execution_count": 37,
     "metadata": {},
     "output_type": "execute_result"
    }
   ],
   "source": [
    "out = Customer_Final[Customer_Final.total_amt >= 0].cust_id.value_counts()\n",
    "len(out[out>10])"
   ]
  },
  {
   "cell_type": "markdown",
   "metadata": {},
   "source": [
    "**Remark:** 6 customers have more than 10 unique transactions excluding the orders they have returned."
   ]
  },
  {
   "cell_type": "markdown",
   "metadata": {},
   "source": [
    "# For all customers aged between 25 - 35, find out:"
   ]
  },
  {
   "cell_type": "code",
   "execution_count": 38,
   "metadata": {
    "ExecuteTime": {
     "end_time": "2020-06-11T14:23:00.534476Z",
     "start_time": "2020-06-11T14:23:00.497568Z"
    }
   },
   "outputs": [
    {
     "data": {
      "text/html": [
       "<div>\n",
       "<style scoped>\n",
       "    .dataframe tbody tr th:only-of-type {\n",
       "        vertical-align: middle;\n",
       "    }\n",
       "\n",
       "    .dataframe tbody tr th {\n",
       "        vertical-align: top;\n",
       "    }\n",
       "\n",
       "    .dataframe thead th {\n",
       "        text-align: right;\n",
       "    }\n",
       "</style>\n",
       "<table border=\"1\" class=\"dataframe\">\n",
       "  <thead>\n",
       "    <tr style=\"text-align: right;\">\n",
       "      <th></th>\n",
       "      <th>transaction_id</th>\n",
       "      <th>cust_id</th>\n",
       "      <th>tran_date</th>\n",
       "      <th>prod_subcat_code</th>\n",
       "      <th>prod_cat_code</th>\n",
       "      <th>Qty</th>\n",
       "      <th>Rate</th>\n",
       "      <th>Tax</th>\n",
       "      <th>total_amt</th>\n",
       "      <th>Store_type</th>\n",
       "      <th>prod_cat</th>\n",
       "      <th>prod_subcat</th>\n",
       "      <th>DOB</th>\n",
       "      <th>Gender</th>\n",
       "      <th>city_code</th>\n",
       "      <th>Age_in_Years</th>\n",
       "    </tr>\n",
       "  </thead>\n",
       "  <tbody>\n",
       "    <tr>\n",
       "      <th>0</th>\n",
       "      <td>80712190438</td>\n",
       "      <td>270351</td>\n",
       "      <td>2014-02-28</td>\n",
       "      <td>1</td>\n",
       "      <td>1</td>\n",
       "      <td>-5</td>\n",
       "      <td>-772</td>\n",
       "      <td>405.300</td>\n",
       "      <td>-4265.300</td>\n",
       "      <td>e-Shop</td>\n",
       "      <td>Clothing</td>\n",
       "      <td>Women</td>\n",
       "      <td>1981-09-26</td>\n",
       "      <td>M</td>\n",
       "      <td>5.0</td>\n",
       "      <td>38</td>\n",
       "    </tr>\n",
       "    <tr>\n",
       "      <th>1</th>\n",
       "      <td>29258453508</td>\n",
       "      <td>270384</td>\n",
       "      <td>2014-02-27</td>\n",
       "      <td>5</td>\n",
       "      <td>3</td>\n",
       "      <td>-5</td>\n",
       "      <td>-1497</td>\n",
       "      <td>785.925</td>\n",
       "      <td>-8270.925</td>\n",
       "      <td>e-Shop</td>\n",
       "      <td>Electronics</td>\n",
       "      <td>Computers</td>\n",
       "      <td>1973-11-05</td>\n",
       "      <td>F</td>\n",
       "      <td>8.0</td>\n",
       "      <td>46</td>\n",
       "    </tr>\n",
       "  </tbody>\n",
       "</table>\n",
       "</div>"
      ],
      "text/plain": [
       "   transaction_id  cust_id  tran_date  prod_subcat_code  prod_cat_code  Qty  \\\n",
       "0     80712190438   270351 2014-02-28                 1              1   -5   \n",
       "1     29258453508   270384 2014-02-27                 5              3   -5   \n",
       "\n",
       "   Rate      Tax  total_amt Store_type     prod_cat prod_subcat        DOB  \\\n",
       "0  -772  405.300  -4265.300     e-Shop     Clothing       Women 1981-09-26   \n",
       "1 -1497  785.925  -8270.925     e-Shop  Electronics   Computers 1973-11-05   \n",
       "\n",
       "  Gender  city_code  Age_in_Years  \n",
       "0      M        5.0            38  \n",
       "1      F        8.0            46  "
      ]
     },
     "execution_count": 38,
     "metadata": {},
     "output_type": "execute_result"
    }
   ],
   "source": [
    "# Creating a derived variable 'Age_in_Years' displaying the age of all the customers as of now.\n",
    "# dt- Accessor object for datetime like properties of the Timedelta type Series values.\n",
    "Customer_Final['Age_in_Years'] = ((pd.Timestamp.now()-Customer_Final.DOB).dt.days/365.25).apply(lambda x: math.floor(x))\n",
    "Customer_Final.head(2)"
   ]
  },
  {
   "cell_type": "markdown",
   "metadata": {},
   "source": [
    "## What was the total amount spent for “Electronics” and “Books” product categories?"
   ]
  },
  {
   "cell_type": "code",
   "execution_count": 39,
   "metadata": {
    "ExecuteTime": {
     "end_time": "2020-06-11T14:23:00.550424Z",
     "start_time": "2020-06-11T14:23:00.536437Z"
    }
   },
   "outputs": [
    {
     "data": {
      "text/plain": [
       "prod_cat\n",
       "Books          4579434.925\n",
       "Electronics    4117904.050\n",
       "Name: total_amt, dtype: float64"
      ]
     },
     "execution_count": 39,
     "metadata": {},
     "output_type": "execute_result"
    }
   ],
   "source": [
    "# Total amount spent for “Electronics” and “Books” product categories separately.\n",
    "Customer_Final.loc[((Customer_Final.Age_in_Years >= 25) & (Customer_Final.Age_in_Years <= 35)) &\n",
    "                   Customer_Final.prod_cat.isin(['Electronics', 'Books']),\n",
    "                   ['prod_cat', 'total_amt']].groupby('prod_cat').total_amt.sum()"
   ]
  },
  {
   "cell_type": "code",
   "execution_count": 40,
   "metadata": {
    "ExecuteTime": {
     "end_time": "2020-06-11T14:23:00.563389Z",
     "start_time": "2020-06-11T14:23:00.551397Z"
    }
   },
   "outputs": [
    {
     "data": {
      "text/plain": [
       "8697338.98"
      ]
     },
     "execution_count": 40,
     "metadata": {},
     "output_type": "execute_result"
    }
   ],
   "source": [
    "# Total amount spent for “Electronics” and “Books” product categories in total.\n",
    "Customer_Final.loc[(Customer_Final.Age_in_Years.between(25, 35, inclusive = True)) & \n",
    "                    Customer_Final.prod_cat.isin(['Electronics', 'Books']), \n",
    "                   ['prod_cat', 'total_amt']].total_amt.sum().round(2)"
   ]
  },
  {
   "cell_type": "markdown",
   "metadata": {},
   "source": [
    "## What was the total amount spent by these customers between 1st Jan, 2014 to 1st Mar, 2014?"
   ]
  },
  {
   "cell_type": "code",
   "execution_count": 41,
   "metadata": {
    "ExecuteTime": {
     "end_time": "2020-06-11T14:23:00.573366Z",
     "start_time": "2020-06-11T14:23:00.564361Z"
    }
   },
   "outputs": [
    {
     "data": {
      "text/plain": [
       "588067.74"
      ]
     },
     "execution_count": 41,
     "metadata": {},
     "output_type": "execute_result"
    }
   ],
   "source": [
    "d1 = pd.to_datetime('2014-01-01')\n",
    "d2 = pd.to_datetime('2014-03-01', format='%Y-%m-%d')\n",
    "Customer_Final.loc[(Customer_Final.Age_in_Years.between(25, 35, inclusive = True)) & \n",
    "                   (Customer_Final.tran_date.between(d1, d2, inclusive = True)), 'total_amt'].sum()"
   ]
  }
 ],
 "metadata": {
  "hide_input": false,
  "kernelspec": {
   "display_name": "Python 3",
   "language": "python",
   "name": "python3"
  },
  "language_info": {
   "codemirror_mode": {
    "name": "ipython",
    "version": 3
   },
   "file_extension": ".py",
   "mimetype": "text/x-python",
   "name": "python",
   "nbconvert_exporter": "python",
   "pygments_lexer": "ipython3",
   "version": "3.8.8"
  },
  "toc": {
   "base_numbering": 1,
   "nav_menu": {},
   "number_sections": true,
   "sideBar": true,
   "skip_h1_title": false,
   "title_cell": "Table of Contents",
   "title_sidebar": "Contents",
   "toc_cell": true,
   "toc_position": {
    "height": "calc(100% - 180px)",
    "left": "10px",
    "top": "150px",
    "width": "189.188px"
   },
   "toc_section_display": true,
   "toc_window_display": true
  },
  "varInspector": {
   "cols": {
    "lenName": 16,
    "lenType": 16,
    "lenVar": "400"
   },
   "kernels_config": {
    "python": {
     "delete_cmd_postfix": "",
     "delete_cmd_prefix": "del ",
     "library": "var_list.py",
     "varRefreshCmd": "print(var_dic_list())"
    },
    "r": {
     "delete_cmd_postfix": ") ",
     "delete_cmd_prefix": "rm(",
     "library": "var_list.r",
     "varRefreshCmd": "cat(var_dic_list()) "
    }
   },
   "oldHeight": 122,
   "position": {
    "height": "40px",
    "left": "1096px",
    "right": "20px",
    "top": "120px",
    "width": "250px"
   },
   "types_to_exclude": [
    "module",
    "function",
    "builtin_function_or_method",
    "instance",
    "_Feature"
   ],
   "varInspector_section_display": "none",
   "window_display": true
  }
 },
 "nbformat": 4,
 "nbformat_minor": 4
}
