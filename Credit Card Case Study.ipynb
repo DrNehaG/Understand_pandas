{
 "cells": [
  {
   "cell_type": "code",
   "execution_count": 1,
   "metadata": {
    "ExecuteTime": {
     "end_time": "2020-06-19T18:47:48.004636Z",
     "start_time": "2020-06-19T18:47:46.934658Z"
    }
   },
   "outputs": [],
   "source": [
    "# import necessary libraries\n",
    "import pandas as pd\n",
    "import matplotlib.pyplot as plt\n",
    "import seaborn as sns\n",
    "%matplotlib inline"
   ]
  },
  {
   "cell_type": "code",
   "execution_count": 2,
   "metadata": {
    "ExecuteTime": {
     "end_time": "2020-06-19T18:47:48.036549Z",
     "start_time": "2020-06-19T18:47:48.004636Z"
    }
   },
   "outputs": [
    {
     "name": "stdout",
     "output_type": "stream",
     "text": [
      "<class 'pandas.core.frame.DataFrame'>\n",
      "RangeIndex: 100 entries, 0 to 99\n",
      "Data columns (total 8 columns):\n",
      " #   Column    Non-Null Count  Dtype  \n",
      "---  ------    --------------  -----  \n",
      " 0   No        100 non-null    int64  \n",
      " 1   Customer  100 non-null    object \n",
      " 2   Age       100 non-null    int64  \n",
      " 3   City      100 non-null    object \n",
      " 4   Product   100 non-null    object \n",
      " 5   Limit     100 non-null    float64\n",
      " 6   Company   100 non-null    object \n",
      " 7   Segment   100 non-null    object \n",
      "dtypes: float64(1), int64(2), object(5)\n",
      "memory usage: 6.4+ KB\n"
     ]
    }
   ],
   "source": [
    "# importing the data from Customer Acqusition.csv file.\n",
    "Customer_Acqusition = pd.read_csv('Customer Acqusition.csv')\n",
    "Customer_Acqusition.info() # To get the concise summary of the Customer_Acqusition dataset"
   ]
  },
  {
   "cell_type": "code",
   "execution_count": 3,
   "metadata": {
    "ExecuteTime": {
     "end_time": "2020-06-19T18:47:48.052469Z",
     "start_time": "2020-06-19T18:47:48.038539Z"
    }
   },
   "outputs": [
    {
     "data": {
      "text/html": [
       "<div>\n",
       "<style scoped>\n",
       "    .dataframe tbody tr th:only-of-type {\n",
       "        vertical-align: middle;\n",
       "    }\n",
       "\n",
       "    .dataframe tbody tr th {\n",
       "        vertical-align: top;\n",
       "    }\n",
       "\n",
       "    .dataframe thead th {\n",
       "        text-align: right;\n",
       "    }\n",
       "</style>\n",
       "<table border=\"1\" class=\"dataframe\">\n",
       "  <thead>\n",
       "    <tr style=\"text-align: right;\">\n",
       "      <th></th>\n",
       "      <th>No</th>\n",
       "      <th>Customer</th>\n",
       "      <th>Age</th>\n",
       "      <th>City</th>\n",
       "      <th>Product</th>\n",
       "      <th>Limit</th>\n",
       "      <th>Company</th>\n",
       "      <th>Segment</th>\n",
       "    </tr>\n",
       "  </thead>\n",
       "  <tbody>\n",
       "    <tr>\n",
       "      <th>0</th>\n",
       "      <td>1</td>\n",
       "      <td>A1</td>\n",
       "      <td>76</td>\n",
       "      <td>BANGALORE</td>\n",
       "      <td>Gold</td>\n",
       "      <td>500000.0</td>\n",
       "      <td>C1</td>\n",
       "      <td>Self Employed</td>\n",
       "    </tr>\n",
       "    <tr>\n",
       "      <th>1</th>\n",
       "      <td>2</td>\n",
       "      <td>A2</td>\n",
       "      <td>71</td>\n",
       "      <td>CALCUTTA</td>\n",
       "      <td>Silver</td>\n",
       "      <td>100000.0</td>\n",
       "      <td>C2</td>\n",
       "      <td>Salaried_MNC</td>\n",
       "    </tr>\n",
       "    <tr>\n",
       "      <th>2</th>\n",
       "      <td>3</td>\n",
       "      <td>A3</td>\n",
       "      <td>34</td>\n",
       "      <td>COCHIN</td>\n",
       "      <td>Platimum</td>\n",
       "      <td>10000.0</td>\n",
       "      <td>C3</td>\n",
       "      <td>Salaried_Pvt</td>\n",
       "    </tr>\n",
       "    <tr>\n",
       "      <th>3</th>\n",
       "      <td>4</td>\n",
       "      <td>A4</td>\n",
       "      <td>47</td>\n",
       "      <td>BOMBAY</td>\n",
       "      <td>Platimum</td>\n",
       "      <td>10001.0</td>\n",
       "      <td>C4</td>\n",
       "      <td>Govt</td>\n",
       "    </tr>\n",
       "    <tr>\n",
       "      <th>4</th>\n",
       "      <td>5</td>\n",
       "      <td>A5</td>\n",
       "      <td>56</td>\n",
       "      <td>BANGALORE</td>\n",
       "      <td>Platimum</td>\n",
       "      <td>10002.0</td>\n",
       "      <td>C5</td>\n",
       "      <td>Normal Salary</td>\n",
       "    </tr>\n",
       "  </tbody>\n",
       "</table>\n",
       "</div>"
      ],
      "text/plain": [
       "   No Customer  Age       City   Product     Limit Company        Segment\n",
       "0   1       A1   76  BANGALORE      Gold  500000.0      C1  Self Employed\n",
       "1   2       A2   71   CALCUTTA    Silver  100000.0      C2   Salaried_MNC\n",
       "2   3       A3   34     COCHIN  Platimum   10000.0      C3   Salaried_Pvt\n",
       "3   4       A4   47     BOMBAY  Platimum   10001.0      C4           Govt\n",
       "4   5       A5   56  BANGALORE  Platimum   10002.0      C5  Normal Salary"
      ]
     },
     "execution_count": 3,
     "metadata": {},
     "output_type": "execute_result"
    }
   ],
   "source": [
    "# To get the first 5 observations of the dataset Customer_Acqusition\n",
    "Customer_Acqusition.head()"
   ]
  },
  {
   "cell_type": "code",
   "execution_count": 4,
   "metadata": {
    "ExecuteTime": {
     "end_time": "2020-06-19T18:47:48.068452Z",
     "start_time": "2020-06-19T18:47:48.054462Z"
    }
   },
   "outputs": [
    {
     "data": {
      "text/html": [
       "<div>\n",
       "<style scoped>\n",
       "    .dataframe tbody tr th:only-of-type {\n",
       "        vertical-align: middle;\n",
       "    }\n",
       "\n",
       "    .dataframe tbody tr th {\n",
       "        vertical-align: top;\n",
       "    }\n",
       "\n",
       "    .dataframe thead th {\n",
       "        text-align: right;\n",
       "    }\n",
       "</style>\n",
       "<table border=\"1\" class=\"dataframe\">\n",
       "  <thead>\n",
       "    <tr style=\"text-align: right;\">\n",
       "      <th></th>\n",
       "      <th>No</th>\n",
       "      <th>Customer</th>\n",
       "      <th>Age</th>\n",
       "      <th>City</th>\n",
       "      <th>Product</th>\n",
       "      <th>Limit</th>\n",
       "      <th>Company</th>\n",
       "      <th>Segment</th>\n",
       "    </tr>\n",
       "  </thead>\n",
       "  <tbody>\n",
       "    <tr>\n",
       "      <th>95</th>\n",
       "      <td>96</td>\n",
       "      <td>A96</td>\n",
       "      <td>54</td>\n",
       "      <td>CHENNAI</td>\n",
       "      <td>Silver</td>\n",
       "      <td>100000.0</td>\n",
       "      <td>C19</td>\n",
       "      <td>Salaried_Pvt</td>\n",
       "    </tr>\n",
       "    <tr>\n",
       "      <th>96</th>\n",
       "      <td>97</td>\n",
       "      <td>A97</td>\n",
       "      <td>58</td>\n",
       "      <td>TRIVANDRUM</td>\n",
       "      <td>Platimum</td>\n",
       "      <td>10000.0</td>\n",
       "      <td>C20</td>\n",
       "      <td>Govt</td>\n",
       "    </tr>\n",
       "    <tr>\n",
       "      <th>97</th>\n",
       "      <td>98</td>\n",
       "      <td>A98</td>\n",
       "      <td>51</td>\n",
       "      <td>CALCUTTA</td>\n",
       "      <td>Platimum</td>\n",
       "      <td>10001.0</td>\n",
       "      <td>C21</td>\n",
       "      <td>Normal Salary</td>\n",
       "    </tr>\n",
       "    <tr>\n",
       "      <th>98</th>\n",
       "      <td>99</td>\n",
       "      <td>A99</td>\n",
       "      <td>35</td>\n",
       "      <td>CALCUTTA</td>\n",
       "      <td>Platimum</td>\n",
       "      <td>10002.0</td>\n",
       "      <td>C22</td>\n",
       "      <td>Self Employed</td>\n",
       "    </tr>\n",
       "    <tr>\n",
       "      <th>99</th>\n",
       "      <td>100</td>\n",
       "      <td>A100</td>\n",
       "      <td>36</td>\n",
       "      <td>COCHIN</td>\n",
       "      <td>Silver</td>\n",
       "      <td>100000.0</td>\n",
       "      <td>C5</td>\n",
       "      <td>Salaried_MNC</td>\n",
       "    </tr>\n",
       "  </tbody>\n",
       "</table>\n",
       "</div>"
      ],
      "text/plain": [
       "     No Customer  Age        City   Product     Limit Company        Segment\n",
       "95   96      A96   54     CHENNAI    Silver  100000.0     C19   Salaried_Pvt\n",
       "96   97      A97   58  TRIVANDRUM  Platimum   10000.0     C20           Govt\n",
       "97   98      A98   51    CALCUTTA  Platimum   10001.0     C21  Normal Salary\n",
       "98   99      A99   35    CALCUTTA  Platimum   10002.0     C22  Self Employed\n",
       "99  100     A100   36      COCHIN    Silver  100000.0      C5   Salaried_MNC"
      ]
     },
     "execution_count": 4,
     "metadata": {},
     "output_type": "execute_result"
    }
   ],
   "source": [
    "# To get the last 5 observations of the dataset Customer_Acqusition\n",
    "Customer_Acqusition.tail()"
   ]
  },
  {
   "cell_type": "code",
   "execution_count": 5,
   "metadata": {
    "ExecuteTime": {
     "end_time": "2020-06-19T18:47:48.084382Z",
     "start_time": "2020-06-19T18:47:48.069423Z"
    }
   },
   "outputs": [
    {
     "data": {
      "text/plain": [
       "array([500000., 100000.,  10000.,  10001.,  10002., 100001., 100002.,\n",
       "       100003.])"
      ]
     },
     "execution_count": 5,
     "metadata": {},
     "output_type": "execute_result"
    }
   ],
   "source": [
    "# Checking the values of the Limit variable\n",
    "Customer_Acqusition.Limit.unique()"
   ]
  },
  {
   "cell_type": "code",
   "execution_count": 6,
   "metadata": {
    "ExecuteTime": {
     "end_time": "2020-06-19T18:47:48.100340Z",
     "start_time": "2020-06-19T18:47:48.085379Z"
    }
   },
   "outputs": [],
   "source": [
    "# Changing the data type of No variable in order to minimize the memory usage\n",
    "Customer_Acqusition.No = Customer_Acqusition.No.astype('int8')"
   ]
  },
  {
   "cell_type": "code",
   "execution_count": 7,
   "metadata": {
    "ExecuteTime": {
     "end_time": "2020-06-19T18:47:48.116296Z",
     "start_time": "2020-06-19T18:47:48.101338Z"
    }
   },
   "outputs": [
    {
     "data": {
      "text/plain": [
       "No            int8\n",
       "Customer    object\n",
       "Age          int64\n",
       "City        object\n",
       "Product     object\n",
       "Limit        int32\n",
       "Company     object\n",
       "Segment     object\n",
       "dtype: object"
      ]
     },
     "execution_count": 7,
     "metadata": {},
     "output_type": "execute_result"
    }
   ],
   "source": [
    "# Converting the data type of Limit variable\n",
    "Customer_Acqusition.Limit = Customer_Acqusition.Limit.astype('int')\n",
    "Customer_Acqusition.dtypes # To get the data types of variables of Customer_Acqsition dataset"
   ]
  },
  {
   "cell_type": "code",
   "execution_count": 8,
   "metadata": {
    "ExecuteTime": {
     "end_time": "2020-06-19T18:47:48.148214Z",
     "start_time": "2020-06-19T18:47:48.118292Z"
    }
   },
   "outputs": [
    {
     "name": "stdout",
     "output_type": "stream",
     "text": [
      "<class 'pandas.core.frame.DataFrame'>\n",
      "RangeIndex: 1523 entries, 0 to 1522\n",
      "Data columns (total 5 columns):\n",
      " #   Column      Non-Null Count  Dtype  \n",
      "---  ------      --------------  -----  \n",
      " 0   SL No:      1499 non-null   float64\n",
      " 1   Customer    1500 non-null   object \n",
      " 2   Month       1500 non-null   object \n",
      " 3   Amount      1500 non-null   float64\n",
      " 4   Unnamed: 4  0 non-null      float64\n",
      "dtypes: float64(3), object(2)\n",
      "memory usage: 59.6+ KB\n"
     ]
    }
   ],
   "source": [
    "# importing the data from Repayment.csv file.\n",
    "Repayment = pd.read_csv('Repayment.csv')\n",
    "Repayment.info() # To get the concise summary of the Repayment dataset"
   ]
  },
  {
   "cell_type": "code",
   "execution_count": 9,
   "metadata": {
    "ExecuteTime": {
     "end_time": "2020-06-19T18:47:48.164195Z",
     "start_time": "2020-06-19T18:47:48.150207Z"
    }
   },
   "outputs": [
    {
     "data": {
      "text/plain": [
       "Index(['SL_No', 'Customer', 'Repayment_Month', 'Repayment_Amount',\n",
       "       'Unnamed: 4'],\n",
       "      dtype='object')"
      ]
     },
     "execution_count": 9,
     "metadata": {},
     "output_type": "execute_result"
    }
   ],
   "source": [
    "# Renaming the first variable \"SL No:\" as \"SL_No\"\n",
    "Repayment.rename(columns= {'SL No:': 'SL_No', 'Month' : 'Repayment_Month', 'Amount' : 'Repayment_Amount'}, inplace=True)\n",
    "Repayment.columns # To get the variables' name of the Repayment dataset"
   ]
  },
  {
   "cell_type": "code",
   "execution_count": 10,
   "metadata": {
    "ExecuteTime": {
     "end_time": "2020-06-19T18:47:48.195132Z",
     "start_time": "2020-06-19T18:47:48.165168Z"
    }
   },
   "outputs": [
    {
     "data": {
      "text/plain": [
       "SL_No                      float64\n",
       "Customer                    object\n",
       "Repayment_Month     datetime64[ns]\n",
       "Repayment_Amount           float64\n",
       "Unnamed: 4                 float64\n",
       "dtype: object"
      ]
     },
     "execution_count": 10,
     "metadata": {},
     "output_type": "execute_result"
    }
   ],
   "source": [
    "# Changing the data type of the variable Month\n",
    "Repayment.Repayment_Month = pd.to_datetime(Repayment.Repayment_Month)\n",
    "Repayment.dtypes # To get the data types of the variables of Repayment dataset"
   ]
  },
  {
   "cell_type": "code",
   "execution_count": 11,
   "metadata": {
    "ExecuteTime": {
     "end_time": "2020-06-19T18:47:48.211070Z",
     "start_time": "2020-06-19T18:47:48.196084Z"
    },
    "scrolled": true
   },
   "outputs": [
    {
     "data": {
      "text/html": [
       "<div>\n",
       "<style scoped>\n",
       "    .dataframe tbody tr th:only-of-type {\n",
       "        vertical-align: middle;\n",
       "    }\n",
       "\n",
       "    .dataframe tbody tr th {\n",
       "        vertical-align: top;\n",
       "    }\n",
       "\n",
       "    .dataframe thead th {\n",
       "        text-align: right;\n",
       "    }\n",
       "</style>\n",
       "<table border=\"1\" class=\"dataframe\">\n",
       "  <thead>\n",
       "    <tr style=\"text-align: right;\">\n",
       "      <th></th>\n",
       "      <th>SL_No</th>\n",
       "      <th>Customer</th>\n",
       "      <th>Repayment_Month</th>\n",
       "      <th>Repayment_Amount</th>\n",
       "      <th>Unnamed: 4</th>\n",
       "    </tr>\n",
       "  </thead>\n",
       "  <tbody>\n",
       "    <tr>\n",
       "      <th>0</th>\n",
       "      <td>NaN</td>\n",
       "      <td>A1</td>\n",
       "      <td>2004-01-12</td>\n",
       "      <td>495414.75</td>\n",
       "      <td>NaN</td>\n",
       "    </tr>\n",
       "    <tr>\n",
       "      <th>1</th>\n",
       "      <td>2.0</td>\n",
       "      <td>A1</td>\n",
       "      <td>2004-01-03</td>\n",
       "      <td>245899.02</td>\n",
       "      <td>NaN</td>\n",
       "    </tr>\n",
       "    <tr>\n",
       "      <th>2</th>\n",
       "      <td>3.0</td>\n",
       "      <td>A1</td>\n",
       "      <td>2004-01-15</td>\n",
       "      <td>259490.06</td>\n",
       "      <td>NaN</td>\n",
       "    </tr>\n",
       "    <tr>\n",
       "      <th>3</th>\n",
       "      <td>4.0</td>\n",
       "      <td>A1</td>\n",
       "      <td>2004-01-25</td>\n",
       "      <td>437555.12</td>\n",
       "      <td>NaN</td>\n",
       "    </tr>\n",
       "    <tr>\n",
       "      <th>4</th>\n",
       "      <td>5.0</td>\n",
       "      <td>A1</td>\n",
       "      <td>2005-01-17</td>\n",
       "      <td>165972.88</td>\n",
       "      <td>NaN</td>\n",
       "    </tr>\n",
       "  </tbody>\n",
       "</table>\n",
       "</div>"
      ],
      "text/plain": [
       "   SL_No Customer Repayment_Month  Repayment_Amount  Unnamed: 4\n",
       "0    NaN       A1      2004-01-12         495414.75         NaN\n",
       "1    2.0       A1      2004-01-03         245899.02         NaN\n",
       "2    3.0       A1      2004-01-15         259490.06         NaN\n",
       "3    4.0       A1      2004-01-25         437555.12         NaN\n",
       "4    5.0       A1      2005-01-17         165972.88         NaN"
      ]
     },
     "execution_count": 11,
     "metadata": {},
     "output_type": "execute_result"
    }
   ],
   "source": [
    "# To get the first 5 observations of the dataset Repayment\n",
    "Repayment.head()"
   ]
  },
  {
   "cell_type": "code",
   "execution_count": 12,
   "metadata": {
    "ExecuteTime": {
     "end_time": "2020-06-19T18:47:48.227000Z",
     "start_time": "2020-06-19T18:47:48.212041Z"
    }
   },
   "outputs": [
    {
     "data": {
      "text/html": [
       "<div>\n",
       "<style scoped>\n",
       "    .dataframe tbody tr th:only-of-type {\n",
       "        vertical-align: middle;\n",
       "    }\n",
       "\n",
       "    .dataframe tbody tr th {\n",
       "        vertical-align: top;\n",
       "    }\n",
       "\n",
       "    .dataframe thead th {\n",
       "        text-align: right;\n",
       "    }\n",
       "</style>\n",
       "<table border=\"1\" class=\"dataframe\">\n",
       "  <thead>\n",
       "    <tr style=\"text-align: right;\">\n",
       "      <th></th>\n",
       "      <th>SL_No</th>\n",
       "      <th>Customer</th>\n",
       "      <th>Repayment_Month</th>\n",
       "      <th>Repayment_Amount</th>\n",
       "      <th>Unnamed: 4</th>\n",
       "    </tr>\n",
       "  </thead>\n",
       "  <tbody>\n",
       "    <tr>\n",
       "      <th>1518</th>\n",
       "      <td>NaN</td>\n",
       "      <td>NaN</td>\n",
       "      <td>NaT</td>\n",
       "      <td>NaN</td>\n",
       "      <td>NaN</td>\n",
       "    </tr>\n",
       "    <tr>\n",
       "      <th>1519</th>\n",
       "      <td>NaN</td>\n",
       "      <td>NaN</td>\n",
       "      <td>NaT</td>\n",
       "      <td>NaN</td>\n",
       "      <td>NaN</td>\n",
       "    </tr>\n",
       "    <tr>\n",
       "      <th>1520</th>\n",
       "      <td>NaN</td>\n",
       "      <td>NaN</td>\n",
       "      <td>NaT</td>\n",
       "      <td>NaN</td>\n",
       "      <td>NaN</td>\n",
       "    </tr>\n",
       "    <tr>\n",
       "      <th>1521</th>\n",
       "      <td>NaN</td>\n",
       "      <td>NaN</td>\n",
       "      <td>NaT</td>\n",
       "      <td>NaN</td>\n",
       "      <td>NaN</td>\n",
       "    </tr>\n",
       "    <tr>\n",
       "      <th>1522</th>\n",
       "      <td>NaN</td>\n",
       "      <td>NaN</td>\n",
       "      <td>NaT</td>\n",
       "      <td>NaN</td>\n",
       "      <td>NaN</td>\n",
       "    </tr>\n",
       "  </tbody>\n",
       "</table>\n",
       "</div>"
      ],
      "text/plain": [
       "      SL_No Customer Repayment_Month  Repayment_Amount  Unnamed: 4\n",
       "1518    NaN      NaN             NaT               NaN         NaN\n",
       "1519    NaN      NaN             NaT               NaN         NaN\n",
       "1520    NaN      NaN             NaT               NaN         NaN\n",
       "1521    NaN      NaN             NaT               NaN         NaN\n",
       "1522    NaN      NaN             NaT               NaN         NaN"
      ]
     },
     "execution_count": 12,
     "metadata": {},
     "output_type": "execute_result"
    }
   ],
   "source": [
    "# To get the last 5 observations of the dataset Repayment\n",
    "Repayment.tail()"
   ]
  },
  {
   "cell_type": "code",
   "execution_count": 13,
   "metadata": {
    "ExecuteTime": {
     "end_time": "2020-06-19T18:47:48.242992Z",
     "start_time": "2020-06-19T18:47:48.227998Z"
    }
   },
   "outputs": [
    {
     "data": {
      "text/plain": [
       "(1500, 5)"
      ]
     },
     "execution_count": 13,
     "metadata": {},
     "output_type": "execute_result"
    }
   ],
   "source": [
    "# To get all the observations where there are no missing values corresponding to each variable\n",
    "Repayment = Repayment[~Repayment.isnull().all(axis = 1)]\n",
    "Repayment.shape # Getting the number of observations and number of variables of Repayment dataset"
   ]
  },
  {
   "cell_type": "code",
   "execution_count": 14,
   "metadata": {
    "ExecuteTime": {
     "end_time": "2020-06-19T18:47:48.258948Z",
     "start_time": "2020-06-19T18:47:48.244987Z"
    }
   },
   "outputs": [
    {
     "data": {
      "text/plain": [
       "SL_No               False\n",
       "Customer            False\n",
       "Repayment_Month     False\n",
       "Repayment_Amount    False\n",
       "Unnamed: 4           True\n",
       "dtype: bool"
      ]
     },
     "execution_count": 14,
     "metadata": {},
     "output_type": "execute_result"
    }
   ],
   "source": [
    "# To get all the variables where there are missing values corresponding to each observation\n",
    "Repayment.isnull().all(axis = 0)"
   ]
  },
  {
   "cell_type": "code",
   "execution_count": 15,
   "metadata": {
    "ExecuteTime": {
     "end_time": "2020-06-19T18:47:48.274898Z",
     "start_time": "2020-06-19T18:47:48.259913Z"
    }
   },
   "outputs": [],
   "source": [
    "# We get a variable \"Unnamed: 4\" with all the missing values. So, we'll drop this variable\n",
    "Repayment.drop(columns='Unnamed: 4', inplace=True)"
   ]
  },
  {
   "cell_type": "code",
   "execution_count": 16,
   "metadata": {
    "ExecuteTime": {
     "end_time": "2020-06-19T18:47:48.290862Z",
     "start_time": "2020-06-19T18:47:48.275872Z"
    },
    "scrolled": true
   },
   "outputs": [],
   "source": [
    "# Since SL_No variable has only one missing value. By seeing the entire data, it should be filled by 1.0\n",
    "Repayment.SL_No.fillna(1.0, inplace= True)"
   ]
  },
  {
   "cell_type": "code",
   "execution_count": 17,
   "metadata": {
    "ExecuteTime": {
     "end_time": "2020-06-19T18:47:48.305822Z",
     "start_time": "2020-06-19T18:47:48.291827Z"
    }
   },
   "outputs": [
    {
     "data": {
      "text/plain": [
       "0"
      ]
     },
     "execution_count": 17,
     "metadata": {},
     "output_type": "execute_result"
    }
   ],
   "source": [
    "# Checking the missing values in variable SL_No in Repayment dataset\n",
    "Repayment.SL_No.isna().sum()"
   ]
  },
  {
   "cell_type": "code",
   "execution_count": 18,
   "metadata": {
    "ExecuteTime": {
     "end_time": "2020-06-19T18:47:48.321749Z",
     "start_time": "2020-06-19T18:47:48.306787Z"
    }
   },
   "outputs": [
    {
     "data": {
      "text/plain": [
       "0    1.0\n",
       "1    2.0\n",
       "2    3.0\n",
       "3    4.0\n",
       "4    5.0\n",
       "Name: SL_No, dtype: float64"
      ]
     },
     "execution_count": 18,
     "metadata": {},
     "output_type": "execute_result"
    }
   ],
   "source": [
    "# To get the first 5 observations from variable SL_No in Repayment dataset\n",
    "Repayment.SL_No.head()"
   ]
  },
  {
   "cell_type": "code",
   "execution_count": 19,
   "metadata": {
    "ExecuteTime": {
     "end_time": "2020-06-19T18:47:48.337705Z",
     "start_time": "2020-06-19T18:47:48.322747Z"
    }
   },
   "outputs": [
    {
     "data": {
      "text/plain": [
       "SL_No                        int32\n",
       "Customer                    object\n",
       "Repayment_Month     datetime64[ns]\n",
       "Repayment_Amount           float64\n",
       "dtype: object"
      ]
     },
     "execution_count": 19,
     "metadata": {},
     "output_type": "execute_result"
    }
   ],
   "source": [
    "# Changing the data type of the variable SL_No\n",
    "Repayment.SL_No = Repayment.SL_No.astype('int')\n",
    "Repayment.dtypes # To get the data types of the variables of Repayment dataset"
   ]
  },
  {
   "cell_type": "code",
   "execution_count": 20,
   "metadata": {
    "ExecuteTime": {
     "end_time": "2020-06-19T18:47:48.353661Z",
     "start_time": "2020-06-19T18:47:48.338702Z"
    }
   },
   "outputs": [
    {
     "name": "stdout",
     "output_type": "stream",
     "text": [
      "<class 'pandas.core.frame.DataFrame'>\n",
      "Int64Index: 1500 entries, 0 to 1499\n",
      "Data columns (total 4 columns):\n",
      " #   Column            Non-Null Count  Dtype         \n",
      "---  ------            --------------  -----         \n",
      " 0   SL_No             1500 non-null   int32         \n",
      " 1   Customer          1500 non-null   object        \n",
      " 2   Repayment_Month   1500 non-null   datetime64[ns]\n",
      " 3   Repayment_Amount  1500 non-null   float64       \n",
      "dtypes: datetime64[ns](1), float64(1), int32(1), object(1)\n",
      "memory usage: 52.7+ KB\n"
     ]
    }
   ],
   "source": [
    "# To get the concise summary of the Repayment dataset.\n",
    "Repayment.info()"
   ]
  },
  {
   "cell_type": "code",
   "execution_count": 21,
   "metadata": {
    "ExecuteTime": {
     "end_time": "2020-06-19T18:47:48.369621Z",
     "start_time": "2020-06-19T18:47:48.355657Z"
    }
   },
   "outputs": [
    {
     "data": {
      "text/html": [
       "<div>\n",
       "<style scoped>\n",
       "    .dataframe tbody tr th:only-of-type {\n",
       "        vertical-align: middle;\n",
       "    }\n",
       "\n",
       "    .dataframe tbody tr th {\n",
       "        vertical-align: top;\n",
       "    }\n",
       "\n",
       "    .dataframe thead th {\n",
       "        text-align: right;\n",
       "    }\n",
       "</style>\n",
       "<table border=\"1\" class=\"dataframe\">\n",
       "  <thead>\n",
       "    <tr style=\"text-align: right;\">\n",
       "      <th></th>\n",
       "      <th>SL_No</th>\n",
       "      <th>Customer</th>\n",
       "      <th>Repayment_Month</th>\n",
       "      <th>Repayment_Amount</th>\n",
       "    </tr>\n",
       "  </thead>\n",
       "  <tbody>\n",
       "    <tr>\n",
       "      <th>0</th>\n",
       "      <td>1</td>\n",
       "      <td>A1</td>\n",
       "      <td>2004-01-12</td>\n",
       "      <td>495414.75</td>\n",
       "    </tr>\n",
       "    <tr>\n",
       "      <th>1</th>\n",
       "      <td>2</td>\n",
       "      <td>A1</td>\n",
       "      <td>2004-01-03</td>\n",
       "      <td>245899.02</td>\n",
       "    </tr>\n",
       "    <tr>\n",
       "      <th>2</th>\n",
       "      <td>3</td>\n",
       "      <td>A1</td>\n",
       "      <td>2004-01-15</td>\n",
       "      <td>259490.06</td>\n",
       "    </tr>\n",
       "    <tr>\n",
       "      <th>3</th>\n",
       "      <td>4</td>\n",
       "      <td>A1</td>\n",
       "      <td>2004-01-25</td>\n",
       "      <td>437555.12</td>\n",
       "    </tr>\n",
       "    <tr>\n",
       "      <th>4</th>\n",
       "      <td>5</td>\n",
       "      <td>A1</td>\n",
       "      <td>2005-01-17</td>\n",
       "      <td>165972.88</td>\n",
       "    </tr>\n",
       "  </tbody>\n",
       "</table>\n",
       "</div>"
      ],
      "text/plain": [
       "   SL_No Customer Repayment_Month  Repayment_Amount\n",
       "0      1       A1      2004-01-12         495414.75\n",
       "1      2       A1      2004-01-03         245899.02\n",
       "2      3       A1      2004-01-15         259490.06\n",
       "3      4       A1      2004-01-25         437555.12\n",
       "4      5       A1      2005-01-17         165972.88"
      ]
     },
     "execution_count": 21,
     "metadata": {},
     "output_type": "execute_result"
    }
   ],
   "source": [
    "# To get the first 5 observations of the dataset Repayment\n",
    "Repayment.head()"
   ]
  },
  {
   "cell_type": "code",
   "execution_count": 22,
   "metadata": {
    "ExecuteTime": {
     "end_time": "2020-06-19T18:47:48.385578Z",
     "start_time": "2020-06-19T18:47:48.370618Z"
    }
   },
   "outputs": [
    {
     "data": {
      "text/html": [
       "<div>\n",
       "<style scoped>\n",
       "    .dataframe tbody tr th:only-of-type {\n",
       "        vertical-align: middle;\n",
       "    }\n",
       "\n",
       "    .dataframe tbody tr th {\n",
       "        vertical-align: top;\n",
       "    }\n",
       "\n",
       "    .dataframe thead th {\n",
       "        text-align: right;\n",
       "    }\n",
       "</style>\n",
       "<table border=\"1\" class=\"dataframe\">\n",
       "  <thead>\n",
       "    <tr style=\"text-align: right;\">\n",
       "      <th></th>\n",
       "      <th>SL_No</th>\n",
       "      <th>Customer</th>\n",
       "      <th>Repayment_Month</th>\n",
       "      <th>Repayment_Amount</th>\n",
       "    </tr>\n",
       "  </thead>\n",
       "  <tbody>\n",
       "    <tr>\n",
       "      <th>1495</th>\n",
       "      <td>1496</td>\n",
       "      <td>A67</td>\n",
       "      <td>2005-05-09</td>\n",
       "      <td>55638.77</td>\n",
       "    </tr>\n",
       "    <tr>\n",
       "      <th>1496</th>\n",
       "      <td>1497</td>\n",
       "      <td>A68</td>\n",
       "      <td>2006-05-10</td>\n",
       "      <td>319836.49</td>\n",
       "    </tr>\n",
       "    <tr>\n",
       "      <th>1497</th>\n",
       "      <td>1498</td>\n",
       "      <td>A69</td>\n",
       "      <td>2006-07-11</td>\n",
       "      <td>247628.45</td>\n",
       "    </tr>\n",
       "    <tr>\n",
       "      <th>1498</th>\n",
       "      <td>1499</td>\n",
       "      <td>A70</td>\n",
       "      <td>2005-08-12</td>\n",
       "      <td>454016.51</td>\n",
       "    </tr>\n",
       "    <tr>\n",
       "      <th>1499</th>\n",
       "      <td>1500</td>\n",
       "      <td>A71</td>\n",
       "      <td>2004-09-13</td>\n",
       "      <td>56286.33</td>\n",
       "    </tr>\n",
       "  </tbody>\n",
       "</table>\n",
       "</div>"
      ],
      "text/plain": [
       "      SL_No Customer Repayment_Month  Repayment_Amount\n",
       "1495   1496      A67      2005-05-09          55638.77\n",
       "1496   1497      A68      2006-05-10         319836.49\n",
       "1497   1498      A69      2006-07-11         247628.45\n",
       "1498   1499      A70      2005-08-12         454016.51\n",
       "1499   1500      A71      2004-09-13          56286.33"
      ]
     },
     "execution_count": 22,
     "metadata": {},
     "output_type": "execute_result"
    }
   ],
   "source": [
    "# To get the last 5 observations of the dataset Repayment\n",
    "Repayment.tail()"
   ]
  },
  {
   "cell_type": "code",
   "execution_count": 23,
   "metadata": {
    "ExecuteTime": {
     "end_time": "2020-06-19T18:47:48.417524Z",
     "start_time": "2020-06-19T18:47:48.389565Z"
    }
   },
   "outputs": [
    {
     "name": "stdout",
     "output_type": "stream",
     "text": [
      "<class 'pandas.core.frame.DataFrame'>\n",
      "RangeIndex: 1500 entries, 0 to 1499\n",
      "Data columns (total 5 columns):\n",
      " #   Column    Non-Null Count  Dtype  \n",
      "---  ------    --------------  -----  \n",
      " 0   Sl No:    1500 non-null   int64  \n",
      " 1   Customer  1500 non-null   object \n",
      " 2   Month     1500 non-null   object \n",
      " 3   Type      1500 non-null   object \n",
      " 4   Amount    1500 non-null   float64\n",
      "dtypes: float64(1), int64(1), object(3)\n",
      "memory usage: 58.7+ KB\n"
     ]
    }
   ],
   "source": [
    "# importing the data from spend.csv file.\n",
    "spend = pd.read_csv('spend.csv')\n",
    "spend.info() # To get the concise summary of the spend dataset"
   ]
  },
  {
   "cell_type": "code",
   "execution_count": 24,
   "metadata": {
    "ExecuteTime": {
     "end_time": "2020-06-19T18:47:48.433448Z",
     "start_time": "2020-06-19T18:47:48.421516Z"
    }
   },
   "outputs": [
    {
     "data": {
      "text/plain": [
       "Index(['Sl_No', 'Customer', 'Spend_Month', 'Type', 'Spend_Amount'], dtype='object')"
      ]
     },
     "execution_count": 24,
     "metadata": {},
     "output_type": "execute_result"
    }
   ],
   "source": [
    "# Renaming the first variable \"SL No:\" as \"SL_No\"\n",
    "spend.rename(columns= {'Sl No:': 'Sl_No', 'Month' : 'Spend_Month', 'Amount' : 'Spend_Amount'}, inplace=True)\n",
    "spend.columns # To get the variables' name of the spend dataset"
   ]
  },
  {
   "cell_type": "code",
   "execution_count": 25,
   "metadata": {
    "ExecuteTime": {
     "end_time": "2020-06-19T18:47:48.449406Z",
     "start_time": "2020-06-19T18:47:48.434446Z"
    }
   },
   "outputs": [
    {
     "data": {
      "text/plain": [
       "Sl_No                    int64\n",
       "Customer                object\n",
       "Spend_Month     datetime64[ns]\n",
       "Type                    object\n",
       "Spend_Amount           float64\n",
       "dtype: object"
      ]
     },
     "execution_count": 25,
     "metadata": {},
     "output_type": "execute_result"
    }
   ],
   "source": [
    "# Changing the data type of the variable Month\n",
    "spend.Spend_Month = pd.to_datetime(spend.Spend_Month)\n",
    "spend.dtypes # To get the data types of variables of the spend dataset"
   ]
  },
  {
   "cell_type": "code",
   "execution_count": 26,
   "metadata": {
    "ExecuteTime": {
     "end_time": "2020-06-19T18:47:48.465363Z",
     "start_time": "2020-06-19T18:47:48.450403Z"
    }
   },
   "outputs": [
    {
     "data": {
      "text/html": [
       "<div>\n",
       "<style scoped>\n",
       "    .dataframe tbody tr th:only-of-type {\n",
       "        vertical-align: middle;\n",
       "    }\n",
       "\n",
       "    .dataframe tbody tr th {\n",
       "        vertical-align: top;\n",
       "    }\n",
       "\n",
       "    .dataframe thead th {\n",
       "        text-align: right;\n",
       "    }\n",
       "</style>\n",
       "<table border=\"1\" class=\"dataframe\">\n",
       "  <thead>\n",
       "    <tr style=\"text-align: right;\">\n",
       "      <th></th>\n",
       "      <th>Sl_No</th>\n",
       "      <th>Customer</th>\n",
       "      <th>Spend_Month</th>\n",
       "      <th>Type</th>\n",
       "      <th>Spend_Amount</th>\n",
       "    </tr>\n",
       "  </thead>\n",
       "  <tbody>\n",
       "    <tr>\n",
       "      <th>0</th>\n",
       "      <td>1</td>\n",
       "      <td>A1</td>\n",
       "      <td>2004-01-12</td>\n",
       "      <td>JEWELLERY</td>\n",
       "      <td>485470.80</td>\n",
       "    </tr>\n",
       "    <tr>\n",
       "      <th>1</th>\n",
       "      <td>2</td>\n",
       "      <td>A1</td>\n",
       "      <td>2004-01-03</td>\n",
       "      <td>PETRO</td>\n",
       "      <td>410556.13</td>\n",
       "    </tr>\n",
       "    <tr>\n",
       "      <th>2</th>\n",
       "      <td>3</td>\n",
       "      <td>A1</td>\n",
       "      <td>2004-01-15</td>\n",
       "      <td>CLOTHES</td>\n",
       "      <td>23740.46</td>\n",
       "    </tr>\n",
       "    <tr>\n",
       "      <th>3</th>\n",
       "      <td>4</td>\n",
       "      <td>A1</td>\n",
       "      <td>2004-01-25</td>\n",
       "      <td>FOOD</td>\n",
       "      <td>484342.47</td>\n",
       "    </tr>\n",
       "    <tr>\n",
       "      <th>4</th>\n",
       "      <td>5</td>\n",
       "      <td>A1</td>\n",
       "      <td>2005-01-17</td>\n",
       "      <td>CAMERA</td>\n",
       "      <td>369694.07</td>\n",
       "    </tr>\n",
       "  </tbody>\n",
       "</table>\n",
       "</div>"
      ],
      "text/plain": [
       "   Sl_No Customer Spend_Month       Type  Spend_Amount\n",
       "0      1       A1  2004-01-12  JEWELLERY     485470.80\n",
       "1      2       A1  2004-01-03      PETRO     410556.13\n",
       "2      3       A1  2004-01-15    CLOTHES      23740.46\n",
       "3      4       A1  2004-01-25       FOOD     484342.47\n",
       "4      5       A1  2005-01-17     CAMERA     369694.07"
      ]
     },
     "execution_count": 26,
     "metadata": {},
     "output_type": "execute_result"
    }
   ],
   "source": [
    "# To get the first 5 observations of the dataset spend\n",
    "spend.head()"
   ]
  },
  {
   "cell_type": "code",
   "execution_count": 27,
   "metadata": {
    "ExecuteTime": {
     "end_time": "2020-06-19T18:47:48.481321Z",
     "start_time": "2020-06-19T18:47:48.466360Z"
    }
   },
   "outputs": [
    {
     "data": {
      "text/html": [
       "<div>\n",
       "<style scoped>\n",
       "    .dataframe tbody tr th:only-of-type {\n",
       "        vertical-align: middle;\n",
       "    }\n",
       "\n",
       "    .dataframe tbody tr th {\n",
       "        vertical-align: top;\n",
       "    }\n",
       "\n",
       "    .dataframe thead th {\n",
       "        text-align: right;\n",
       "    }\n",
       "</style>\n",
       "<table border=\"1\" class=\"dataframe\">\n",
       "  <thead>\n",
       "    <tr style=\"text-align: right;\">\n",
       "      <th></th>\n",
       "      <th>Sl_No</th>\n",
       "      <th>Customer</th>\n",
       "      <th>Spend_Month</th>\n",
       "      <th>Type</th>\n",
       "      <th>Spend_Amount</th>\n",
       "    </tr>\n",
       "  </thead>\n",
       "  <tbody>\n",
       "    <tr>\n",
       "      <th>1495</th>\n",
       "      <td>1496</td>\n",
       "      <td>A67</td>\n",
       "      <td>2006-02-04</td>\n",
       "      <td>BUS TICKET</td>\n",
       "      <td>356872.73</td>\n",
       "    </tr>\n",
       "    <tr>\n",
       "      <th>1496</th>\n",
       "      <td>1497</td>\n",
       "      <td>A68</td>\n",
       "      <td>2006-03-25</td>\n",
       "      <td>BUS TICKET</td>\n",
       "      <td>204971.10</td>\n",
       "    </tr>\n",
       "    <tr>\n",
       "      <th>1497</th>\n",
       "      <td>1498</td>\n",
       "      <td>A69</td>\n",
       "      <td>2006-03-31</td>\n",
       "      <td>BUS TICKET</td>\n",
       "      <td>50449.44</td>\n",
       "    </tr>\n",
       "    <tr>\n",
       "      <th>1498</th>\n",
       "      <td>1499</td>\n",
       "      <td>A70</td>\n",
       "      <td>2006-03-23</td>\n",
       "      <td>BUS TICKET</td>\n",
       "      <td>80593.94</td>\n",
       "    </tr>\n",
       "    <tr>\n",
       "      <th>1499</th>\n",
       "      <td>1500</td>\n",
       "      <td>A71</td>\n",
       "      <td>2006-03-24</td>\n",
       "      <td>BUS TICKET</td>\n",
       "      <td>194447.62</td>\n",
       "    </tr>\n",
       "  </tbody>\n",
       "</table>\n",
       "</div>"
      ],
      "text/plain": [
       "      Sl_No Customer Spend_Month        Type  Spend_Amount\n",
       "1495   1496      A67  2006-02-04  BUS TICKET     356872.73\n",
       "1496   1497      A68  2006-03-25  BUS TICKET     204971.10\n",
       "1497   1498      A69  2006-03-31  BUS TICKET      50449.44\n",
       "1498   1499      A70  2006-03-23  BUS TICKET      80593.94\n",
       "1499   1500      A71  2006-03-24  BUS TICKET     194447.62"
      ]
     },
     "execution_count": 27,
     "metadata": {},
     "output_type": "execute_result"
    }
   ],
   "source": [
    "# To get the last 5 observations of the dataset spend\n",
    "spend.tail()"
   ]
  },
  {
   "cell_type": "code",
   "execution_count": 28,
   "metadata": {
    "ExecuteTime": {
     "end_time": "2020-06-19T18:47:48.497311Z",
     "start_time": "2020-06-19T18:47:48.482319Z"
    }
   },
   "outputs": [
    {
     "data": {
      "text/plain": [
       "Index(['No', 'Customer', 'Age', 'City', 'Product', 'Limit', 'Company',\n",
       "       'Segment'],\n",
       "      dtype='object')"
      ]
     },
     "execution_count": 28,
     "metadata": {},
     "output_type": "execute_result"
    }
   ],
   "source": [
    "# To get the variables' name of the Customer_Acqusition dataset\n",
    "Customer_Acqusition.columns"
   ]
  },
  {
   "cell_type": "code",
   "execution_count": 29,
   "metadata": {
    "ExecuteTime": {
     "end_time": "2020-06-19T18:47:48.512272Z",
     "start_time": "2020-06-19T18:47:48.499273Z"
    }
   },
   "outputs": [
    {
     "data": {
      "text/plain": [
       "Index(['SL_No', 'Customer', 'Repayment_Month', 'Repayment_Amount'], dtype='object')"
      ]
     },
     "execution_count": 29,
     "metadata": {},
     "output_type": "execute_result"
    }
   ],
   "source": [
    "# To get the variables' name of the Repayment dataset\n",
    "Repayment.columns"
   ]
  },
  {
   "cell_type": "code",
   "execution_count": 30,
   "metadata": {
    "ExecuteTime": {
     "end_time": "2020-06-19T18:47:48.527222Z",
     "start_time": "2020-06-19T18:47:48.513237Z"
    }
   },
   "outputs": [
    {
     "data": {
      "text/plain": [
       "Index(['Sl_No', 'Customer', 'Spend_Month', 'Type', 'Spend_Amount'], dtype='object')"
      ]
     },
     "execution_count": 30,
     "metadata": {},
     "output_type": "execute_result"
    }
   ],
   "source": [
    "# To get the variables' name of the spend dataset\n",
    "spend.columns"
   ]
  },
  {
   "cell_type": "code",
   "execution_count": 31,
   "metadata": {
    "ExecuteTime": {
     "end_time": "2020-06-19T18:47:48.543187Z",
     "start_time": "2020-06-19T18:47:48.528196Z"
    }
   },
   "outputs": [
    {
     "data": {
      "text/plain": [
       "(1500, 4)"
      ]
     },
     "execution_count": 31,
     "metadata": {},
     "output_type": "execute_result"
    }
   ],
   "source": [
    "# to get the number of observations and number of variables of Repayment dataset\n",
    "Repayment.shape"
   ]
  },
  {
   "cell_type": "code",
   "execution_count": 32,
   "metadata": {
    "ExecuteTime": {
     "end_time": "2020-06-19T18:47:48.559144Z",
     "start_time": "2020-06-19T18:47:48.544152Z"
    }
   },
   "outputs": [
    {
     "data": {
      "text/plain": [
       "(1500, 5)"
      ]
     },
     "execution_count": 32,
     "metadata": {},
     "output_type": "execute_result"
    }
   ],
   "source": [
    "# to get the number of observations and number of variables of spend dataset\n",
    "spend.shape"
   ]
  },
  {
   "cell_type": "code",
   "execution_count": 33,
   "metadata": {
    "ExecuteTime": {
     "end_time": "2020-06-19T18:47:48.575069Z",
     "start_time": "2020-06-19T18:47:48.560110Z"
    }
   },
   "outputs": [
    {
     "data": {
      "text/plain": [
       "0"
      ]
     },
     "execution_count": 33,
     "metadata": {},
     "output_type": "execute_result"
    }
   ],
   "source": [
    "# Comparing the values of variables SL_No in Repayment dataset and Sl_No in spend dataset. \n",
    "Repayment[~(Repayment.SL_No == spend.Sl_No)].shape[0]"
   ]
  },
  {
   "cell_type": "markdown",
   "metadata": {},
   "source": [
    "**Remark:** Result shows both the variables have similar data so we can drop any one variable."
   ]
  },
  {
   "cell_type": "code",
   "execution_count": 34,
   "metadata": {
    "ExecuteTime": {
     "end_time": "2020-06-19T18:47:48.590802Z",
     "start_time": "2020-06-19T18:47:48.576067Z"
    }
   },
   "outputs": [],
   "source": [
    "# Dropping the Sl_No variable from spend dataset\n",
    "spend.drop(columns='Sl_No', inplace= True)"
   ]
  },
  {
   "cell_type": "code",
   "execution_count": 35,
   "metadata": {
    "ExecuteTime": {
     "end_time": "2020-06-19T18:47:48.606765Z",
     "start_time": "2020-06-19T18:47:48.591769Z"
    }
   },
   "outputs": [],
   "source": [
    "# Changing the data types of SL_No variable in order to minimize the memory usage\n",
    "Repayment.SL_No = Repayment.SL_No.astype('int16')"
   ]
  },
  {
   "cell_type": "code",
   "execution_count": 36,
   "metadata": {
    "ExecuteTime": {
     "end_time": "2020-06-19T18:47:48.622717Z",
     "start_time": "2020-06-19T18:47:48.607727Z"
    }
   },
   "outputs": [
    {
     "data": {
      "text/plain": [
       "0"
      ]
     },
     "execution_count": 36,
     "metadata": {},
     "output_type": "execute_result"
    }
   ],
   "source": [
    "# Comparing the values of variables Customer in Repayment dataset and Customer in spend dataset.\n",
    "Repayment[~(Repayment.Customer == spend.Customer)].shape[0]"
   ]
  },
  {
   "cell_type": "markdown",
   "metadata": {},
   "source": [
    "**Remark:** Result shows both the variables have similar data so we can drop any one variable."
   ]
  },
  {
   "cell_type": "code",
   "execution_count": 37,
   "metadata": {
    "ExecuteTime": {
     "end_time": "2020-06-19T18:47:48.637675Z",
     "start_time": "2020-06-19T18:47:48.623685Z"
    }
   },
   "outputs": [],
   "source": [
    "# Dropping the Customer variable from spend dataset\n",
    "spend.drop(columns='Customer', inplace= True)"
   ]
  },
  {
   "cell_type": "code",
   "execution_count": 38,
   "metadata": {
    "ExecuteTime": {
     "end_time": "2020-06-19T18:47:48.653604Z",
     "start_time": "2020-06-19T18:47:48.638644Z"
    }
   },
   "outputs": [
    {
     "name": "stdout",
     "output_type": "stream",
     "text": [
      "<class 'pandas.core.frame.DataFrame'>\n",
      "Int64Index: 1500 entries, 0 to 1499\n",
      "Data columns (total 7 columns):\n",
      " #   Column            Non-Null Count  Dtype         \n",
      "---  ------            --------------  -----         \n",
      " 0   SL_No             1500 non-null   int16         \n",
      " 1   Customer          1500 non-null   object        \n",
      " 2   Repayment_Month   1500 non-null   datetime64[ns]\n",
      " 3   Repayment_Amount  1500 non-null   float64       \n",
      " 4   Spend_Month       1500 non-null   datetime64[ns]\n",
      " 5   Type              1500 non-null   object        \n",
      " 6   Spend_Amount      1500 non-null   float64       \n",
      "dtypes: datetime64[ns](2), float64(2), int16(1), object(2)\n",
      "memory usage: 85.0+ KB\n"
     ]
    }
   ],
   "source": [
    "# Appending horizontally the datasets Repayment and spend.\n",
    "Repay_spend = pd.concat([Repayment, spend], axis= 1)\n",
    "Repay_spend.info() # To get the concise summary of the appended dataset"
   ]
  },
  {
   "cell_type": "code",
   "execution_count": 39,
   "metadata": {
    "ExecuteTime": {
     "end_time": "2020-06-19T18:47:48.668599Z",
     "start_time": "2020-06-19T18:47:48.654601Z"
    }
   },
   "outputs": [
    {
     "data": {
      "text/plain": [
       "Index(['No', 'Customer', 'Age', 'City', 'Product', 'Limit', 'Company',\n",
       "       'Segment'],\n",
       "      dtype='object')"
      ]
     },
     "execution_count": 39,
     "metadata": {},
     "output_type": "execute_result"
    }
   ],
   "source": [
    "# To get the variables' name of the Customer_Acqusition dataset.\n",
    "Customer_Acqusition.columns"
   ]
  },
  {
   "cell_type": "code",
   "execution_count": 40,
   "metadata": {
    "ExecuteTime": {
     "end_time": "2020-06-19T18:47:48.700511Z",
     "start_time": "2020-06-19T18:47:48.669562Z"
    }
   },
   "outputs": [
    {
     "name": "stdout",
     "output_type": "stream",
     "text": [
      "<class 'pandas.core.frame.DataFrame'>\n",
      "Int64Index: 1500 entries, 0 to 1499\n",
      "Data columns (total 14 columns):\n",
      " #   Column            Non-Null Count  Dtype         \n",
      "---  ------            --------------  -----         \n",
      " 0   No                1500 non-null   int8          \n",
      " 1   Customer          1500 non-null   object        \n",
      " 2   Age               1500 non-null   int64         \n",
      " 3   City              1500 non-null   object        \n",
      " 4   Product           1500 non-null   object        \n",
      " 5   Limit             1500 non-null   int32         \n",
      " 6   Company           1500 non-null   object        \n",
      " 7   Segment           1500 non-null   object        \n",
      " 8   SL_No             1500 non-null   int16         \n",
      " 9   Repayment_Month   1500 non-null   datetime64[ns]\n",
      " 10  Repayment_Amount  1500 non-null   float64       \n",
      " 11  Spend_Month       1500 non-null   datetime64[ns]\n",
      " 12  Type              1500 non-null   object        \n",
      " 13  Spend_Amount      1500 non-null   float64       \n",
      "dtypes: datetime64[ns](2), float64(2), int16(1), int32(1), int64(1), int8(1), object(6)\n",
      "memory usage: 150.9+ KB\n"
     ]
    }
   ],
   "source": [
    "# Joining the appended dataset Repay_spend with Customer_Acqusition dataset\n",
    "Cust_Repay_Spend = pd.merge(left = Customer_Acqusition, right= Repay_spend, how='left', \n",
    "                            left_on='Customer', right_on='Customer')\n",
    "Cust_Repay_Spend.info() # To get the concise summary of the joined dataset"
   ]
  },
  {
   "cell_type": "code",
   "execution_count": 41,
   "metadata": {
    "ExecuteTime": {
     "end_time": "2020-06-19T18:47:48.732425Z",
     "start_time": "2020-06-19T18:47:48.701476Z"
    }
   },
   "outputs": [
    {
     "data": {
      "text/html": [
       "<div>\n",
       "<style scoped>\n",
       "    .dataframe tbody tr th:only-of-type {\n",
       "        vertical-align: middle;\n",
       "    }\n",
       "\n",
       "    .dataframe tbody tr th {\n",
       "        vertical-align: top;\n",
       "    }\n",
       "\n",
       "    .dataframe thead th {\n",
       "        text-align: right;\n",
       "    }\n",
       "</style>\n",
       "<table border=\"1\" class=\"dataframe\">\n",
       "  <thead>\n",
       "    <tr style=\"text-align: right;\">\n",
       "      <th></th>\n",
       "      <th>No</th>\n",
       "      <th>Customer</th>\n",
       "      <th>Age</th>\n",
       "      <th>City</th>\n",
       "      <th>Product</th>\n",
       "      <th>Limit</th>\n",
       "      <th>Company</th>\n",
       "      <th>Segment</th>\n",
       "      <th>SL_No</th>\n",
       "      <th>Repayment_Month</th>\n",
       "      <th>Repayment_Amount</th>\n",
       "      <th>Spend_Month</th>\n",
       "      <th>Type</th>\n",
       "      <th>Spend_Amount</th>\n",
       "    </tr>\n",
       "  </thead>\n",
       "  <tbody>\n",
       "    <tr>\n",
       "      <th>0</th>\n",
       "      <td>1</td>\n",
       "      <td>A1</td>\n",
       "      <td>76</td>\n",
       "      <td>BANGALORE</td>\n",
       "      <td>Gold</td>\n",
       "      <td>500000</td>\n",
       "      <td>C1</td>\n",
       "      <td>Self Employed</td>\n",
       "      <td>1</td>\n",
       "      <td>2004-01-12</td>\n",
       "      <td>495414.75</td>\n",
       "      <td>2004-01-12</td>\n",
       "      <td>JEWELLERY</td>\n",
       "      <td>485470.80</td>\n",
       "    </tr>\n",
       "    <tr>\n",
       "      <th>1</th>\n",
       "      <td>1</td>\n",
       "      <td>A1</td>\n",
       "      <td>76</td>\n",
       "      <td>BANGALORE</td>\n",
       "      <td>Gold</td>\n",
       "      <td>500000</td>\n",
       "      <td>C1</td>\n",
       "      <td>Self Employed</td>\n",
       "      <td>2</td>\n",
       "      <td>2004-01-03</td>\n",
       "      <td>245899.02</td>\n",
       "      <td>2004-01-03</td>\n",
       "      <td>PETRO</td>\n",
       "      <td>410556.13</td>\n",
       "    </tr>\n",
       "    <tr>\n",
       "      <th>2</th>\n",
       "      <td>1</td>\n",
       "      <td>A1</td>\n",
       "      <td>76</td>\n",
       "      <td>BANGALORE</td>\n",
       "      <td>Gold</td>\n",
       "      <td>500000</td>\n",
       "      <td>C1</td>\n",
       "      <td>Self Employed</td>\n",
       "      <td>3</td>\n",
       "      <td>2004-01-15</td>\n",
       "      <td>259490.06</td>\n",
       "      <td>2004-01-15</td>\n",
       "      <td>CLOTHES</td>\n",
       "      <td>23740.46</td>\n",
       "    </tr>\n",
       "    <tr>\n",
       "      <th>3</th>\n",
       "      <td>1</td>\n",
       "      <td>A1</td>\n",
       "      <td>76</td>\n",
       "      <td>BANGALORE</td>\n",
       "      <td>Gold</td>\n",
       "      <td>500000</td>\n",
       "      <td>C1</td>\n",
       "      <td>Self Employed</td>\n",
       "      <td>4</td>\n",
       "      <td>2004-01-25</td>\n",
       "      <td>437555.12</td>\n",
       "      <td>2004-01-25</td>\n",
       "      <td>FOOD</td>\n",
       "      <td>484342.47</td>\n",
       "    </tr>\n",
       "    <tr>\n",
       "      <th>4</th>\n",
       "      <td>1</td>\n",
       "      <td>A1</td>\n",
       "      <td>76</td>\n",
       "      <td>BANGALORE</td>\n",
       "      <td>Gold</td>\n",
       "      <td>500000</td>\n",
       "      <td>C1</td>\n",
       "      <td>Self Employed</td>\n",
       "      <td>5</td>\n",
       "      <td>2005-01-17</td>\n",
       "      <td>165972.88</td>\n",
       "      <td>2005-01-17</td>\n",
       "      <td>CAMERA</td>\n",
       "      <td>369694.07</td>\n",
       "    </tr>\n",
       "  </tbody>\n",
       "</table>\n",
       "</div>"
      ],
      "text/plain": [
       "   No Customer  Age       City Product   Limit Company        Segment  SL_No  \\\n",
       "0   1       A1   76  BANGALORE    Gold  500000      C1  Self Employed      1   \n",
       "1   1       A1   76  BANGALORE    Gold  500000      C1  Self Employed      2   \n",
       "2   1       A1   76  BANGALORE    Gold  500000      C1  Self Employed      3   \n",
       "3   1       A1   76  BANGALORE    Gold  500000      C1  Self Employed      4   \n",
       "4   1       A1   76  BANGALORE    Gold  500000      C1  Self Employed      5   \n",
       "\n",
       "  Repayment_Month  Repayment_Amount Spend_Month       Type  Spend_Amount  \n",
       "0      2004-01-12         495414.75  2004-01-12  JEWELLERY     485470.80  \n",
       "1      2004-01-03         245899.02  2004-01-03      PETRO     410556.13  \n",
       "2      2004-01-15         259490.06  2004-01-15    CLOTHES      23740.46  \n",
       "3      2004-01-25         437555.12  2004-01-25       FOOD     484342.47  \n",
       "4      2005-01-17         165972.88  2005-01-17     CAMERA     369694.07  "
      ]
     },
     "execution_count": 41,
     "metadata": {},
     "output_type": "execute_result"
    }
   ],
   "source": [
    "# To get the first 5 observations from Cust_Repay_Spend dataset.\n",
    "Cust_Repay_Spend.head()"
   ]
  },
  {
   "cell_type": "code",
   "execution_count": 42,
   "metadata": {
    "ExecuteTime": {
     "end_time": "2020-06-19T18:47:48.764308Z",
     "start_time": "2020-06-19T18:47:48.733391Z"
    }
   },
   "outputs": [
    {
     "data": {
      "text/html": [
       "<div>\n",
       "<style scoped>\n",
       "    .dataframe tbody tr th:only-of-type {\n",
       "        vertical-align: middle;\n",
       "    }\n",
       "\n",
       "    .dataframe tbody tr th {\n",
       "        vertical-align: top;\n",
       "    }\n",
       "\n",
       "    .dataframe thead th {\n",
       "        text-align: right;\n",
       "    }\n",
       "</style>\n",
       "<table border=\"1\" class=\"dataframe\">\n",
       "  <thead>\n",
       "    <tr style=\"text-align: right;\">\n",
       "      <th></th>\n",
       "      <th>No</th>\n",
       "      <th>Customer</th>\n",
       "      <th>Age</th>\n",
       "      <th>City</th>\n",
       "      <th>Product</th>\n",
       "      <th>Limit</th>\n",
       "      <th>Company</th>\n",
       "      <th>Segment</th>\n",
       "      <th>SL_No</th>\n",
       "      <th>Repayment_Month</th>\n",
       "      <th>Repayment_Amount</th>\n",
       "      <th>Spend_Month</th>\n",
       "      <th>Type</th>\n",
       "      <th>Spend_Amount</th>\n",
       "    </tr>\n",
       "  </thead>\n",
       "  <tbody>\n",
       "    <tr>\n",
       "      <th>1495</th>\n",
       "      <td>96</td>\n",
       "      <td>A96</td>\n",
       "      <td>54</td>\n",
       "      <td>CHENNAI</td>\n",
       "      <td>Silver</td>\n",
       "      <td>100000</td>\n",
       "      <td>C19</td>\n",
       "      <td>Salaried_Pvt</td>\n",
       "      <td>98</td>\n",
       "      <td>2004-01-25</td>\n",
       "      <td>310992.30</td>\n",
       "      <td>2004-01-25</td>\n",
       "      <td>BIKE</td>\n",
       "      <td>54729.66</td>\n",
       "    </tr>\n",
       "    <tr>\n",
       "      <th>1496</th>\n",
       "      <td>97</td>\n",
       "      <td>A97</td>\n",
       "      <td>58</td>\n",
       "      <td>TRIVANDRUM</td>\n",
       "      <td>Platimum</td>\n",
       "      <td>10000</td>\n",
       "      <td>C20</td>\n",
       "      <td>Govt</td>\n",
       "      <td>99</td>\n",
       "      <td>2004-01-12</td>\n",
       "      <td>121874.90</td>\n",
       "      <td>2004-01-12</td>\n",
       "      <td>AUTO</td>\n",
       "      <td>139018.26</td>\n",
       "    </tr>\n",
       "    <tr>\n",
       "      <th>1497</th>\n",
       "      <td>98</td>\n",
       "      <td>A98</td>\n",
       "      <td>51</td>\n",
       "      <td>CALCUTTA</td>\n",
       "      <td>Platimum</td>\n",
       "      <td>10001</td>\n",
       "      <td>C21</td>\n",
       "      <td>Normal Salary</td>\n",
       "      <td>100</td>\n",
       "      <td>2004-01-03</td>\n",
       "      <td>337815.57</td>\n",
       "      <td>2004-01-03</td>\n",
       "      <td>SHOPPING</td>\n",
       "      <td>284521.06</td>\n",
       "    </tr>\n",
       "    <tr>\n",
       "      <th>1498</th>\n",
       "      <td>99</td>\n",
       "      <td>A99</td>\n",
       "      <td>35</td>\n",
       "      <td>CALCUTTA</td>\n",
       "      <td>Platimum</td>\n",
       "      <td>10002</td>\n",
       "      <td>C22</td>\n",
       "      <td>Self Employed</td>\n",
       "      <td>101</td>\n",
       "      <td>2004-01-15</td>\n",
       "      <td>25682.73</td>\n",
       "      <td>2004-01-15</td>\n",
       "      <td>AIR TICKET</td>\n",
       "      <td>90184.22</td>\n",
       "    </tr>\n",
       "    <tr>\n",
       "      <th>1499</th>\n",
       "      <td>100</td>\n",
       "      <td>A100</td>\n",
       "      <td>36</td>\n",
       "      <td>COCHIN</td>\n",
       "      <td>Silver</td>\n",
       "      <td>100000</td>\n",
       "      <td>C5</td>\n",
       "      <td>Salaried_MNC</td>\n",
       "      <td>102</td>\n",
       "      <td>2004-01-25</td>\n",
       "      <td>69551.19</td>\n",
       "      <td>2004-01-25</td>\n",
       "      <td>BUS TICKET</td>\n",
       "      <td>224786.88</td>\n",
       "    </tr>\n",
       "  </tbody>\n",
       "</table>\n",
       "</div>"
      ],
      "text/plain": [
       "       No Customer  Age        City   Product   Limit Company        Segment  \\\n",
       "1495   96      A96   54     CHENNAI    Silver  100000     C19   Salaried_Pvt   \n",
       "1496   97      A97   58  TRIVANDRUM  Platimum   10000     C20           Govt   \n",
       "1497   98      A98   51    CALCUTTA  Platimum   10001     C21  Normal Salary   \n",
       "1498   99      A99   35    CALCUTTA  Platimum   10002     C22  Self Employed   \n",
       "1499  100     A100   36      COCHIN    Silver  100000      C5   Salaried_MNC   \n",
       "\n",
       "      SL_No Repayment_Month  Repayment_Amount Spend_Month        Type  \\\n",
       "1495     98      2004-01-25         310992.30  2004-01-25        BIKE   \n",
       "1496     99      2004-01-12         121874.90  2004-01-12        AUTO   \n",
       "1497    100      2004-01-03         337815.57  2004-01-03    SHOPPING   \n",
       "1498    101      2004-01-15          25682.73  2004-01-15  AIR TICKET   \n",
       "1499    102      2004-01-25          69551.19  2004-01-25  BUS TICKET   \n",
       "\n",
       "      Spend_Amount  \n",
       "1495      54729.66  \n",
       "1496     139018.26  \n",
       "1497     284521.06  \n",
       "1498      90184.22  \n",
       "1499     224786.88  "
      ]
     },
     "execution_count": 42,
     "metadata": {},
     "output_type": "execute_result"
    }
   ],
   "source": [
    "# To get the last 5 observations from Cust_Repay_Spend dataset.\n",
    "Cust_Repay_Spend.tail()"
   ]
  },
  {
   "cell_type": "code",
   "execution_count": 43,
   "metadata": {
    "ExecuteTime": {
     "end_time": "2020-06-19T18:47:49.001711Z",
     "start_time": "2020-06-19T18:47:48.765304Z"
    }
   },
   "outputs": [
    {
     "name": "stdout",
     "output_type": "stream",
     "text": [
      "<class 'pandas.core.frame.DataFrame'>\n",
      "RangeIndex: 100 entries, 0 to 99\n",
      "Data columns (total 8 columns):\n",
      " #   Column    Non-Null Count  Dtype  \n",
      "---  ------    --------------  -----  \n",
      " 0   No        100 non-null    int64  \n",
      " 1   Customer  100 non-null    object \n",
      " 2   Age       100 non-null    float64\n",
      " 3   City      100 non-null    object \n",
      " 4   Product   100 non-null    object \n",
      " 5   Limit     100 non-null    int64  \n",
      " 6   Company   100 non-null    object \n",
      " 7   Segment   100 non-null    object \n",
      "dtypes: float64(1), int64(2), object(5)\n",
      "memory usage: 6.4+ KB\n"
     ]
    }
   ],
   "source": [
    "# Another way of importing the Customer_Acqusition data from Customer Acqusition sheet of Credit Card Data.xlsx file.\n",
    "Customer_Acqusition1 = pd.read_excel('Credit Card Data.xlsx', \n",
    "              sheet_name='Customer Acqusition')\n",
    "Customer_Acqusition1.info() # To get the concise summary of the Customer_Acqusition1 dataset"
   ]
  },
  {
   "cell_type": "code",
   "execution_count": 44,
   "metadata": {
    "ExecuteTime": {
     "end_time": "2020-06-19T18:47:49.017668Z",
     "start_time": "2020-06-19T18:47:49.002670Z"
    }
   },
   "outputs": [],
   "source": [
    "# Changing the data type of No variable in order to minimize the memory usage\n",
    "Customer_Acqusition1.No = Customer_Acqusition1.No.astype('int8')"
   ]
  },
  {
   "cell_type": "code",
   "execution_count": 45,
   "metadata": {
    "ExecuteTime": {
     "end_time": "2020-06-19T18:47:49.033627Z",
     "start_time": "2020-06-19T18:47:49.018627Z"
    }
   },
   "outputs": [],
   "source": [
    "# Changing the data type of Limit variable in order to minimize the memory usage\n",
    "Customer_Acqusition1.Limit = Customer_Acqusition1.Limit.astype('int32')"
   ]
  },
  {
   "cell_type": "code",
   "execution_count": 46,
   "metadata": {
    "ExecuteTime": {
     "end_time": "2020-06-19T18:47:49.049576Z",
     "start_time": "2020-06-19T18:47:49.034585Z"
    }
   },
   "outputs": [
    {
     "data": {
      "text/html": [
       "<div>\n",
       "<style scoped>\n",
       "    .dataframe tbody tr th:only-of-type {\n",
       "        vertical-align: middle;\n",
       "    }\n",
       "\n",
       "    .dataframe tbody tr th {\n",
       "        vertical-align: top;\n",
       "    }\n",
       "\n",
       "    .dataframe thead th {\n",
       "        text-align: right;\n",
       "    }\n",
       "</style>\n",
       "<table border=\"1\" class=\"dataframe\">\n",
       "  <thead>\n",
       "    <tr style=\"text-align: right;\">\n",
       "      <th></th>\n",
       "      <th>No</th>\n",
       "      <th>Customer</th>\n",
       "      <th>Age</th>\n",
       "      <th>City</th>\n",
       "      <th>Product</th>\n",
       "      <th>Limit</th>\n",
       "      <th>Company</th>\n",
       "      <th>Segment</th>\n",
       "    </tr>\n",
       "  </thead>\n",
       "  <tbody>\n",
       "    <tr>\n",
       "      <th>0</th>\n",
       "      <td>1</td>\n",
       "      <td>A1</td>\n",
       "      <td>34.012349</td>\n",
       "      <td>BANGALORE</td>\n",
       "      <td>Gold</td>\n",
       "      <td>500000</td>\n",
       "      <td>C1</td>\n",
       "      <td>Self Employed</td>\n",
       "    </tr>\n",
       "    <tr>\n",
       "      <th>1</th>\n",
       "      <td>2</td>\n",
       "      <td>A2</td>\n",
       "      <td>50.497350</td>\n",
       "      <td>CALCUTTA</td>\n",
       "      <td>Silver</td>\n",
       "      <td>100000</td>\n",
       "      <td>C2</td>\n",
       "      <td>Salaried_MNC</td>\n",
       "    </tr>\n",
       "    <tr>\n",
       "      <th>2</th>\n",
       "      <td>3</td>\n",
       "      <td>A3</td>\n",
       "      <td>35.855817</td>\n",
       "      <td>COCHIN</td>\n",
       "      <td>Platimum</td>\n",
       "      <td>10000</td>\n",
       "      <td>C3</td>\n",
       "      <td>Salaried_Pvt</td>\n",
       "    </tr>\n",
       "    <tr>\n",
       "      <th>3</th>\n",
       "      <td>4</td>\n",
       "      <td>A4</td>\n",
       "      <td>27.356821</td>\n",
       "      <td>BOMBAY</td>\n",
       "      <td>Platimum</td>\n",
       "      <td>10001</td>\n",
       "      <td>C4</td>\n",
       "      <td>Govt</td>\n",
       "    </tr>\n",
       "    <tr>\n",
       "      <th>4</th>\n",
       "      <td>5</td>\n",
       "      <td>A5</td>\n",
       "      <td>22.021249</td>\n",
       "      <td>BANGALORE</td>\n",
       "      <td>Platimum</td>\n",
       "      <td>10002</td>\n",
       "      <td>C5</td>\n",
       "      <td>Normal Salary</td>\n",
       "    </tr>\n",
       "  </tbody>\n",
       "</table>\n",
       "</div>"
      ],
      "text/plain": [
       "   No Customer        Age       City   Product   Limit Company        Segment\n",
       "0   1       A1  34.012349  BANGALORE      Gold  500000      C1  Self Employed\n",
       "1   2       A2  50.497350   CALCUTTA    Silver  100000      C2   Salaried_MNC\n",
       "2   3       A3  35.855817     COCHIN  Platimum   10000      C3   Salaried_Pvt\n",
       "3   4       A4  27.356821     BOMBAY  Platimum   10001      C4           Govt\n",
       "4   5       A5  22.021249  BANGALORE  Platimum   10002      C5  Normal Salary"
      ]
     },
     "execution_count": 46,
     "metadata": {},
     "output_type": "execute_result"
    }
   ],
   "source": [
    "# To get the first 5 observations from Customer_Acqusition1 dataset\n",
    "Customer_Acqusition1.head()"
   ]
  },
  {
   "cell_type": "code",
   "execution_count": 47,
   "metadata": {
    "ExecuteTime": {
     "end_time": "2020-06-19T18:47:49.065533Z",
     "start_time": "2020-06-19T18:47:49.050542Z"
    }
   },
   "outputs": [
    {
     "data": {
      "text/html": [
       "<div>\n",
       "<style scoped>\n",
       "    .dataframe tbody tr th:only-of-type {\n",
       "        vertical-align: middle;\n",
       "    }\n",
       "\n",
       "    .dataframe tbody tr th {\n",
       "        vertical-align: top;\n",
       "    }\n",
       "\n",
       "    .dataframe thead th {\n",
       "        text-align: right;\n",
       "    }\n",
       "</style>\n",
       "<table border=\"1\" class=\"dataframe\">\n",
       "  <thead>\n",
       "    <tr style=\"text-align: right;\">\n",
       "      <th></th>\n",
       "      <th>No</th>\n",
       "      <th>Customer</th>\n",
       "      <th>Age</th>\n",
       "      <th>City</th>\n",
       "      <th>Product</th>\n",
       "      <th>Limit</th>\n",
       "      <th>Company</th>\n",
       "      <th>Segment</th>\n",
       "    </tr>\n",
       "  </thead>\n",
       "  <tbody>\n",
       "    <tr>\n",
       "      <th>95</th>\n",
       "      <td>96</td>\n",
       "      <td>A96</td>\n",
       "      <td>71.083162</td>\n",
       "      <td>CHENNAI</td>\n",
       "      <td>Silver</td>\n",
       "      <td>100000</td>\n",
       "      <td>C19</td>\n",
       "      <td>Salaried_Pvt</td>\n",
       "    </tr>\n",
       "    <tr>\n",
       "      <th>96</th>\n",
       "      <td>97</td>\n",
       "      <td>A97</td>\n",
       "      <td>69.880658</td>\n",
       "      <td>TRIVANDRUM</td>\n",
       "      <td>Platimum</td>\n",
       "      <td>10000</td>\n",
       "      <td>C20</td>\n",
       "      <td>Govt</td>\n",
       "    </tr>\n",
       "    <tr>\n",
       "      <th>97</th>\n",
       "      <td>98</td>\n",
       "      <td>A98</td>\n",
       "      <td>20.951811</td>\n",
       "      <td>CALCUTTA</td>\n",
       "      <td>Platimum</td>\n",
       "      <td>10001</td>\n",
       "      <td>C21</td>\n",
       "      <td>Normal Salary</td>\n",
       "    </tr>\n",
       "    <tr>\n",
       "      <th>98</th>\n",
       "      <td>99</td>\n",
       "      <td>A99</td>\n",
       "      <td>52.456908</td>\n",
       "      <td>CALCUTTA</td>\n",
       "      <td>Platimum</td>\n",
       "      <td>10002</td>\n",
       "      <td>C22</td>\n",
       "      <td>Self Employed</td>\n",
       "    </tr>\n",
       "    <tr>\n",
       "      <th>99</th>\n",
       "      <td>100</td>\n",
       "      <td>A100</td>\n",
       "      <td>8.729077</td>\n",
       "      <td>COCHIN</td>\n",
       "      <td>Silver</td>\n",
       "      <td>100000</td>\n",
       "      <td>C5</td>\n",
       "      <td>Salaried_MNC</td>\n",
       "    </tr>\n",
       "  </tbody>\n",
       "</table>\n",
       "</div>"
      ],
      "text/plain": [
       "     No Customer        Age        City   Product   Limit Company  \\\n",
       "95   96      A96  71.083162     CHENNAI    Silver  100000     C19   \n",
       "96   97      A97  69.880658  TRIVANDRUM  Platimum   10000     C20   \n",
       "97   98      A98  20.951811    CALCUTTA  Platimum   10001     C21   \n",
       "98   99      A99  52.456908    CALCUTTA  Platimum   10002     C22   \n",
       "99  100     A100   8.729077      COCHIN    Silver  100000      C5   \n",
       "\n",
       "          Segment  \n",
       "95   Salaried_Pvt  \n",
       "96           Govt  \n",
       "97  Normal Salary  \n",
       "98  Self Employed  \n",
       "99   Salaried_MNC  "
      ]
     },
     "execution_count": 47,
     "metadata": {},
     "output_type": "execute_result"
    }
   ],
   "source": [
    "# To get the last 5 observations from Customer_Acqusition1 dataset\n",
    "Customer_Acqusition1.tail()"
   ]
  },
  {
   "cell_type": "code",
   "execution_count": 48,
   "metadata": {
    "ExecuteTime": {
     "end_time": "2020-06-19T18:47:49.304863Z",
     "start_time": "2020-06-19T18:47:49.066497Z"
    }
   },
   "outputs": [
    {
     "name": "stdout",
     "output_type": "stream",
     "text": [
      "<class 'pandas.core.frame.DataFrame'>\n",
      "RangeIndex: 1500 entries, 0 to 1499\n",
      "Data columns (total 4 columns):\n",
      " #   Column    Non-Null Count  Dtype         \n",
      "---  ------    --------------  -----         \n",
      " 0   SL No:    1500 non-null   int64         \n",
      " 1   Customer  1500 non-null   object        \n",
      " 2   Month     1500 non-null   datetime64[ns]\n",
      " 3   Amount    1500 non-null   float64       \n",
      "dtypes: datetime64[ns](1), float64(1), int64(1), object(1)\n",
      "memory usage: 47.0+ KB\n"
     ]
    }
   ],
   "source": [
    "# Another way of importing the Repayment data from Repayment sheet of Credit Card Data.xlsx file.\n",
    "Repayment1 = pd.read_excel('Credit Card Data.xlsx', \n",
    "              sheet_name='Repayment')\n",
    "Repayment1.info() # To get the concise summary of the Repayment dataset"
   ]
  },
  {
   "cell_type": "code",
   "execution_count": 49,
   "metadata": {
    "ExecuteTime": {
     "end_time": "2020-06-19T18:47:49.320333Z",
     "start_time": "2020-06-19T18:47:49.305857Z"
    }
   },
   "outputs": [
    {
     "data": {
      "text/plain": [
       "Index(['SL_No', 'Customer', 'Repayment_Month', 'Repayment_Amount'], dtype='object')"
      ]
     },
     "execution_count": 49,
     "metadata": {},
     "output_type": "execute_result"
    }
   ],
   "source": [
    "# Renaming the first variable \"SL No:\" as \"SL_No\"\n",
    "Repayment1.rename(columns= {'SL No:': 'SL_No', 'Month' : 'Repayment_Month', 'Amount' : 'Repayment_Amount'}, inplace=True)\n",
    "Repayment1.columns # To get the variables' name of the Repayment1 dataset"
   ]
  },
  {
   "cell_type": "code",
   "execution_count": 50,
   "metadata": {
    "ExecuteTime": {
     "end_time": "2020-06-19T18:47:49.336290Z",
     "start_time": "2020-06-19T18:47:49.321331Z"
    },
    "code_folding": []
   },
   "outputs": [
    {
     "data": {
      "text/html": [
       "<div>\n",
       "<style scoped>\n",
       "    .dataframe tbody tr th:only-of-type {\n",
       "        vertical-align: middle;\n",
       "    }\n",
       "\n",
       "    .dataframe tbody tr th {\n",
       "        vertical-align: top;\n",
       "    }\n",
       "\n",
       "    .dataframe thead th {\n",
       "        text-align: right;\n",
       "    }\n",
       "</style>\n",
       "<table border=\"1\" class=\"dataframe\">\n",
       "  <thead>\n",
       "    <tr style=\"text-align: right;\">\n",
       "      <th></th>\n",
       "      <th>SL_No</th>\n",
       "      <th>Customer</th>\n",
       "      <th>Repayment_Month</th>\n",
       "      <th>Repayment_Amount</th>\n",
       "    </tr>\n",
       "  </thead>\n",
       "  <tbody>\n",
       "    <tr>\n",
       "      <th>0</th>\n",
       "      <td>1</td>\n",
       "      <td>A1</td>\n",
       "      <td>2004-01-12</td>\n",
       "      <td>338932.141919</td>\n",
       "    </tr>\n",
       "    <tr>\n",
       "      <th>1</th>\n",
       "      <td>2</td>\n",
       "      <td>A1</td>\n",
       "      <td>2004-01-03</td>\n",
       "      <td>131778.688758</td>\n",
       "    </tr>\n",
       "    <tr>\n",
       "      <th>2</th>\n",
       "      <td>3</td>\n",
       "      <td>A1</td>\n",
       "      <td>2004-01-15</td>\n",
       "      <td>485981.516736</td>\n",
       "    </tr>\n",
       "    <tr>\n",
       "      <th>3</th>\n",
       "      <td>4</td>\n",
       "      <td>A1</td>\n",
       "      <td>2004-01-25</td>\n",
       "      <td>452865.826385</td>\n",
       "    </tr>\n",
       "    <tr>\n",
       "      <th>4</th>\n",
       "      <td>5</td>\n",
       "      <td>A1</td>\n",
       "      <td>2005-01-17</td>\n",
       "      <td>154684.838196</td>\n",
       "    </tr>\n",
       "  </tbody>\n",
       "</table>\n",
       "</div>"
      ],
      "text/plain": [
       "   SL_No Customer Repayment_Month  Repayment_Amount\n",
       "0      1       A1      2004-01-12     338932.141919\n",
       "1      2       A1      2004-01-03     131778.688758\n",
       "2      3       A1      2004-01-15     485981.516736\n",
       "3      4       A1      2004-01-25     452865.826385\n",
       "4      5       A1      2005-01-17     154684.838196"
      ]
     },
     "execution_count": 50,
     "metadata": {},
     "output_type": "execute_result"
    }
   ],
   "source": [
    "# To get the first 5 observations from Repayment1 dataset\n",
    "Repayment1.head()"
   ]
  },
  {
   "cell_type": "code",
   "execution_count": 51,
   "metadata": {
    "ExecuteTime": {
     "end_time": "2020-06-19T18:47:49.352245Z",
     "start_time": "2020-06-19T18:47:49.337289Z"
    }
   },
   "outputs": [
    {
     "data": {
      "text/html": [
       "<div>\n",
       "<style scoped>\n",
       "    .dataframe tbody tr th:only-of-type {\n",
       "        vertical-align: middle;\n",
       "    }\n",
       "\n",
       "    .dataframe tbody tr th {\n",
       "        vertical-align: top;\n",
       "    }\n",
       "\n",
       "    .dataframe thead th {\n",
       "        text-align: right;\n",
       "    }\n",
       "</style>\n",
       "<table border=\"1\" class=\"dataframe\">\n",
       "  <thead>\n",
       "    <tr style=\"text-align: right;\">\n",
       "      <th></th>\n",
       "      <th>SL_No</th>\n",
       "      <th>Customer</th>\n",
       "      <th>Repayment_Month</th>\n",
       "      <th>Repayment_Amount</th>\n",
       "    </tr>\n",
       "  </thead>\n",
       "  <tbody>\n",
       "    <tr>\n",
       "      <th>1495</th>\n",
       "      <td>1496</td>\n",
       "      <td>A67</td>\n",
       "      <td>2005-05-09</td>\n",
       "      <td>461916.047960</td>\n",
       "    </tr>\n",
       "    <tr>\n",
       "      <th>1496</th>\n",
       "      <td>1497</td>\n",
       "      <td>A68</td>\n",
       "      <td>2006-05-10</td>\n",
       "      <td>269635.645462</td>\n",
       "    </tr>\n",
       "    <tr>\n",
       "      <th>1497</th>\n",
       "      <td>1498</td>\n",
       "      <td>A69</td>\n",
       "      <td>2006-07-11</td>\n",
       "      <td>181524.046445</td>\n",
       "    </tr>\n",
       "    <tr>\n",
       "      <th>1498</th>\n",
       "      <td>1499</td>\n",
       "      <td>A70</td>\n",
       "      <td>2005-08-12</td>\n",
       "      <td>308330.678493</td>\n",
       "    </tr>\n",
       "    <tr>\n",
       "      <th>1499</th>\n",
       "      <td>1500</td>\n",
       "      <td>A71</td>\n",
       "      <td>2004-09-13</td>\n",
       "      <td>125220.127871</td>\n",
       "    </tr>\n",
       "  </tbody>\n",
       "</table>\n",
       "</div>"
      ],
      "text/plain": [
       "      SL_No Customer Repayment_Month  Repayment_Amount\n",
       "1495   1496      A67      2005-05-09     461916.047960\n",
       "1496   1497      A68      2006-05-10     269635.645462\n",
       "1497   1498      A69      2006-07-11     181524.046445\n",
       "1498   1499      A70      2005-08-12     308330.678493\n",
       "1499   1500      A71      2004-09-13     125220.127871"
      ]
     },
     "execution_count": 51,
     "metadata": {},
     "output_type": "execute_result"
    }
   ],
   "source": [
    "# To get the last 5 observations from Repayment1 dataset\n",
    "Repayment1.tail()"
   ]
  },
  {
   "cell_type": "code",
   "execution_count": 52,
   "metadata": {
    "ExecuteTime": {
     "end_time": "2020-06-19T18:47:49.575650Z",
     "start_time": "2020-06-19T18:47:49.353243Z"
    },
    "scrolled": true
   },
   "outputs": [
    {
     "name": "stdout",
     "output_type": "stream",
     "text": [
      "<class 'pandas.core.frame.DataFrame'>\n",
      "RangeIndex: 1500 entries, 0 to 1499\n",
      "Data columns (total 5 columns):\n",
      " #   Column    Non-Null Count  Dtype         \n",
      "---  ------    --------------  -----         \n",
      " 0   Sl No:    1500 non-null   int64         \n",
      " 1   Customer  1500 non-null   object        \n",
      " 2   Month     1500 non-null   datetime64[ns]\n",
      " 3   Type      1500 non-null   object        \n",
      " 4   Amount    1500 non-null   float64       \n",
      "dtypes: datetime64[ns](1), float64(1), int64(1), object(2)\n",
      "memory usage: 58.7+ KB\n"
     ]
    }
   ],
   "source": [
    "# Another way of importing the spend data from Spend sheet of Credit Card Data.xlsx file.\n",
    "spend1 = pd.read_excel('Credit Card Data.xlsx', \n",
    "              sheet_name='Spend')\n",
    "spend1.info() # To get the concise summary of the spend dataset"
   ]
  },
  {
   "cell_type": "code",
   "execution_count": 53,
   "metadata": {
    "ExecuteTime": {
     "end_time": "2020-06-19T18:47:49.591123Z",
     "start_time": "2020-06-19T18:47:49.576647Z"
    }
   },
   "outputs": [
    {
     "data": {
      "text/plain": [
       "Index(['Sl_No', 'Customer', 'Spend_Month', 'Type', 'Spend_Amount'], dtype='object')"
      ]
     },
     "execution_count": 53,
     "metadata": {},
     "output_type": "execute_result"
    }
   ],
   "source": [
    "# Renaming the first variable \"SL No:\" as \"SL_No\"\n",
    "spend1.rename(columns= {'Sl No:': 'Sl_No', 'Month' : 'Spend_Month', 'Amount' : 'Spend_Amount'}, inplace=True)\n",
    "spend1.columns # To get the variables' name of the spend1 dataset"
   ]
  },
  {
   "cell_type": "code",
   "execution_count": 54,
   "metadata": {
    "ExecuteTime": {
     "end_time": "2020-06-19T18:47:49.607081Z",
     "start_time": "2020-06-19T18:47:49.592121Z"
    }
   },
   "outputs": [
    {
     "data": {
      "text/html": [
       "<div>\n",
       "<style scoped>\n",
       "    .dataframe tbody tr th:only-of-type {\n",
       "        vertical-align: middle;\n",
       "    }\n",
       "\n",
       "    .dataframe tbody tr th {\n",
       "        vertical-align: top;\n",
       "    }\n",
       "\n",
       "    .dataframe thead th {\n",
       "        text-align: right;\n",
       "    }\n",
       "</style>\n",
       "<table border=\"1\" class=\"dataframe\">\n",
       "  <thead>\n",
       "    <tr style=\"text-align: right;\">\n",
       "      <th></th>\n",
       "      <th>Sl_No</th>\n",
       "      <th>Customer</th>\n",
       "      <th>Spend_Month</th>\n",
       "      <th>Type</th>\n",
       "      <th>Spend_Amount</th>\n",
       "    </tr>\n",
       "  </thead>\n",
       "  <tbody>\n",
       "    <tr>\n",
       "      <th>0</th>\n",
       "      <td>1</td>\n",
       "      <td>A1</td>\n",
       "      <td>2004-01-12</td>\n",
       "      <td>JEWELLERY</td>\n",
       "      <td>344054.980813</td>\n",
       "    </tr>\n",
       "    <tr>\n",
       "      <th>1</th>\n",
       "      <td>2</td>\n",
       "      <td>A1</td>\n",
       "      <td>2004-01-03</td>\n",
       "      <td>PETRO</td>\n",
       "      <td>467747.601626</td>\n",
       "    </tr>\n",
       "    <tr>\n",
       "      <th>2</th>\n",
       "      <td>3</td>\n",
       "      <td>A1</td>\n",
       "      <td>2004-01-15</td>\n",
       "      <td>CLOTHES</td>\n",
       "      <td>86878.954735</td>\n",
       "    </tr>\n",
       "    <tr>\n",
       "      <th>3</th>\n",
       "      <td>4</td>\n",
       "      <td>A1</td>\n",
       "      <td>2004-01-25</td>\n",
       "      <td>FOOD</td>\n",
       "      <td>269175.011875</td>\n",
       "    </tr>\n",
       "    <tr>\n",
       "      <th>4</th>\n",
       "      <td>5</td>\n",
       "      <td>A1</td>\n",
       "      <td>2005-01-17</td>\n",
       "      <td>CAMERA</td>\n",
       "      <td>3406.639477</td>\n",
       "    </tr>\n",
       "  </tbody>\n",
       "</table>\n",
       "</div>"
      ],
      "text/plain": [
       "   Sl_No Customer Spend_Month       Type   Spend_Amount\n",
       "0      1       A1  2004-01-12  JEWELLERY  344054.980813\n",
       "1      2       A1  2004-01-03      PETRO  467747.601626\n",
       "2      3       A1  2004-01-15    CLOTHES   86878.954735\n",
       "3      4       A1  2004-01-25       FOOD  269175.011875\n",
       "4      5       A1  2005-01-17     CAMERA    3406.639477"
      ]
     },
     "execution_count": 54,
     "metadata": {},
     "output_type": "execute_result"
    }
   ],
   "source": [
    "# To get the first 5 observations from spend1 dataset\n",
    "spend1.head()"
   ]
  },
  {
   "cell_type": "code",
   "execution_count": 55,
   "metadata": {
    "ExecuteTime": {
     "end_time": "2020-06-19T18:47:49.623038Z",
     "start_time": "2020-06-19T18:47:49.608078Z"
    }
   },
   "outputs": [
    {
     "data": {
      "text/html": [
       "<div>\n",
       "<style scoped>\n",
       "    .dataframe tbody tr th:only-of-type {\n",
       "        vertical-align: middle;\n",
       "    }\n",
       "\n",
       "    .dataframe tbody tr th {\n",
       "        vertical-align: top;\n",
       "    }\n",
       "\n",
       "    .dataframe thead th {\n",
       "        text-align: right;\n",
       "    }\n",
       "</style>\n",
       "<table border=\"1\" class=\"dataframe\">\n",
       "  <thead>\n",
       "    <tr style=\"text-align: right;\">\n",
       "      <th></th>\n",
       "      <th>Sl_No</th>\n",
       "      <th>Customer</th>\n",
       "      <th>Spend_Month</th>\n",
       "      <th>Type</th>\n",
       "      <th>Spend_Amount</th>\n",
       "    </tr>\n",
       "  </thead>\n",
       "  <tbody>\n",
       "    <tr>\n",
       "      <th>1495</th>\n",
       "      <td>1496</td>\n",
       "      <td>A67</td>\n",
       "      <td>2006-02-04</td>\n",
       "      <td>BUS TICKET</td>\n",
       "      <td>418316.710886</td>\n",
       "    </tr>\n",
       "    <tr>\n",
       "      <th>1496</th>\n",
       "      <td>1497</td>\n",
       "      <td>A68</td>\n",
       "      <td>2006-03-25</td>\n",
       "      <td>BUS TICKET</td>\n",
       "      <td>222182.008427</td>\n",
       "    </tr>\n",
       "    <tr>\n",
       "      <th>1497</th>\n",
       "      <td>1498</td>\n",
       "      <td>A69</td>\n",
       "      <td>2006-03-31</td>\n",
       "      <td>BUS TICKET</td>\n",
       "      <td>100049.079260</td>\n",
       "    </tr>\n",
       "    <tr>\n",
       "      <th>1498</th>\n",
       "      <td>1499</td>\n",
       "      <td>A70</td>\n",
       "      <td>2006-03-23</td>\n",
       "      <td>BUS TICKET</td>\n",
       "      <td>316308.254003</td>\n",
       "    </tr>\n",
       "    <tr>\n",
       "      <th>1499</th>\n",
       "      <td>1500</td>\n",
       "      <td>A71</td>\n",
       "      <td>2006-03-24</td>\n",
       "      <td>BUS TICKET</td>\n",
       "      <td>330483.743568</td>\n",
       "    </tr>\n",
       "  </tbody>\n",
       "</table>\n",
       "</div>"
      ],
      "text/plain": [
       "      Sl_No Customer Spend_Month        Type   Spend_Amount\n",
       "1495   1496      A67  2006-02-04  BUS TICKET  418316.710886\n",
       "1496   1497      A68  2006-03-25  BUS TICKET  222182.008427\n",
       "1497   1498      A69  2006-03-31  BUS TICKET  100049.079260\n",
       "1498   1499      A70  2006-03-23  BUS TICKET  316308.254003\n",
       "1499   1500      A71  2006-03-24  BUS TICKET  330483.743568"
      ]
     },
     "execution_count": 55,
     "metadata": {},
     "output_type": "execute_result"
    }
   ],
   "source": [
    "# To get the last 5 observations from spend1 dataset\n",
    "spend1.tail()"
   ]
  },
  {
   "cell_type": "markdown",
   "metadata": {},
   "source": [
    "**Following the entire process as done above for all these datasets.**"
   ]
  },
  {
   "cell_type": "code",
   "execution_count": 56,
   "metadata": {
    "ExecuteTime": {
     "end_time": "2020-06-19T18:47:49.638995Z",
     "start_time": "2020-06-19T18:47:49.624035Z"
    }
   },
   "outputs": [],
   "source": [
    "# Dropping the Sl_No variable from spend1 dataset\n",
    "spend1.drop(columns='Sl_No', inplace= True)"
   ]
  },
  {
   "cell_type": "code",
   "execution_count": 57,
   "metadata": {
    "ExecuteTime": {
     "end_time": "2020-06-19T18:47:49.654952Z",
     "start_time": "2020-06-19T18:47:49.639992Z"
    }
   },
   "outputs": [],
   "source": [
    "# Changing the data types of SL_No variable in order to minimize the memory usage\n",
    "Repayment1.SL_No = Repayment1.SL_No.astype('int16')"
   ]
  },
  {
   "cell_type": "code",
   "execution_count": 58,
   "metadata": {
    "ExecuteTime": {
     "end_time": "2020-06-19T18:47:49.670910Z",
     "start_time": "2020-06-19T18:47:49.655949Z"
    }
   },
   "outputs": [],
   "source": [
    "# Dropping the Customer variable from spend1 dataset\n",
    "spend1.drop(columns='Customer', inplace= True)"
   ]
  },
  {
   "cell_type": "code",
   "execution_count": 59,
   "metadata": {
    "ExecuteTime": {
     "end_time": "2020-06-19T18:47:49.686867Z",
     "start_time": "2020-06-19T18:47:49.671907Z"
    }
   },
   "outputs": [
    {
     "name": "stdout",
     "output_type": "stream",
     "text": [
      "<class 'pandas.core.frame.DataFrame'>\n",
      "RangeIndex: 1500 entries, 0 to 1499\n",
      "Data columns (total 7 columns):\n",
      " #   Column            Non-Null Count  Dtype         \n",
      "---  ------            --------------  -----         \n",
      " 0   SL_No             1500 non-null   int16         \n",
      " 1   Customer          1500 non-null   object        \n",
      " 2   Repayment_Month   1500 non-null   datetime64[ns]\n",
      " 3   Repayment_Amount  1500 non-null   float64       \n",
      " 4   Spend_Month       1500 non-null   datetime64[ns]\n",
      " 5   Type              1500 non-null   object        \n",
      " 6   Spend_Amount      1500 non-null   float64       \n",
      "dtypes: datetime64[ns](2), float64(2), int16(1), object(2)\n",
      "memory usage: 73.4+ KB\n"
     ]
    }
   ],
   "source": [
    "# Appending horizontally the datasets Repayment1 and spend1\n",
    "Repay_spend1 = pd.concat([Repayment1, spend1], axis= 1)\n",
    "Repay_spend1.info() # To get the concise summary of the appended dataset"
   ]
  },
  {
   "cell_type": "code",
   "execution_count": 60,
   "metadata": {
    "ExecuteTime": {
     "end_time": "2020-06-19T18:47:49.718782Z",
     "start_time": "2020-06-19T18:47:49.687865Z"
    }
   },
   "outputs": [
    {
     "name": "stdout",
     "output_type": "stream",
     "text": [
      "<class 'pandas.core.frame.DataFrame'>\n",
      "Int64Index: 1500 entries, 0 to 1499\n",
      "Data columns (total 14 columns):\n",
      " #   Column            Non-Null Count  Dtype         \n",
      "---  ------            --------------  -----         \n",
      " 0   No                1500 non-null   int8          \n",
      " 1   Customer          1500 non-null   object        \n",
      " 2   Age               1500 non-null   float64       \n",
      " 3   City              1500 non-null   object        \n",
      " 4   Product           1500 non-null   object        \n",
      " 5   Limit             1500 non-null   int32         \n",
      " 6   Company           1500 non-null   object        \n",
      " 7   Segment           1500 non-null   object        \n",
      " 8   SL_No             1500 non-null   int16         \n",
      " 9   Repayment_Month   1500 non-null   datetime64[ns]\n",
      " 10  Repayment_Amount  1500 non-null   float64       \n",
      " 11  Spend_Month       1500 non-null   datetime64[ns]\n",
      " 12  Type              1500 non-null   object        \n",
      " 13  Spend_Amount      1500 non-null   float64       \n",
      "dtypes: datetime64[ns](2), float64(3), int16(1), int32(1), int8(1), object(6)\n",
      "memory usage: 150.9+ KB\n"
     ]
    }
   ],
   "source": [
    "# Joining the appended dataset Repay_spend1 with Customer_Acqusition1 dataset\n",
    "Cust_Repay_Spend1 = pd.merge(left = Customer_Acqusition1, right= Repay_spend1, how='left', \n",
    "                            left_on='Customer', right_on='Customer')\n",
    "Cust_Repay_Spend1.info() # To get the concise summary of the joined dataset"
   ]
  },
  {
   "cell_type": "code",
   "execution_count": 61,
   "metadata": {
    "ExecuteTime": {
     "end_time": "2020-06-19T18:47:49.750710Z",
     "start_time": "2020-06-19T18:47:49.720777Z"
    }
   },
   "outputs": [
    {
     "data": {
      "text/html": [
       "<div>\n",
       "<style scoped>\n",
       "    .dataframe tbody tr th:only-of-type {\n",
       "        vertical-align: middle;\n",
       "    }\n",
       "\n",
       "    .dataframe tbody tr th {\n",
       "        vertical-align: top;\n",
       "    }\n",
       "\n",
       "    .dataframe thead th {\n",
       "        text-align: right;\n",
       "    }\n",
       "</style>\n",
       "<table border=\"1\" class=\"dataframe\">\n",
       "  <thead>\n",
       "    <tr style=\"text-align: right;\">\n",
       "      <th></th>\n",
       "      <th>No</th>\n",
       "      <th>Customer</th>\n",
       "      <th>Age</th>\n",
       "      <th>City</th>\n",
       "      <th>Product</th>\n",
       "      <th>Limit</th>\n",
       "      <th>Company</th>\n",
       "      <th>Segment</th>\n",
       "      <th>SL_No</th>\n",
       "      <th>Repayment_Month</th>\n",
       "      <th>Repayment_Amount</th>\n",
       "      <th>Spend_Month</th>\n",
       "      <th>Type</th>\n",
       "      <th>Spend_Amount</th>\n",
       "    </tr>\n",
       "  </thead>\n",
       "  <tbody>\n",
       "    <tr>\n",
       "      <th>0</th>\n",
       "      <td>1</td>\n",
       "      <td>A1</td>\n",
       "      <td>34.012349</td>\n",
       "      <td>BANGALORE</td>\n",
       "      <td>Gold</td>\n",
       "      <td>500000</td>\n",
       "      <td>C1</td>\n",
       "      <td>Self Employed</td>\n",
       "      <td>1</td>\n",
       "      <td>2004-01-12</td>\n",
       "      <td>338932.141919</td>\n",
       "      <td>2004-01-12</td>\n",
       "      <td>JEWELLERY</td>\n",
       "      <td>344054.980813</td>\n",
       "    </tr>\n",
       "    <tr>\n",
       "      <th>1</th>\n",
       "      <td>1</td>\n",
       "      <td>A1</td>\n",
       "      <td>34.012349</td>\n",
       "      <td>BANGALORE</td>\n",
       "      <td>Gold</td>\n",
       "      <td>500000</td>\n",
       "      <td>C1</td>\n",
       "      <td>Self Employed</td>\n",
       "      <td>2</td>\n",
       "      <td>2004-01-03</td>\n",
       "      <td>131778.688758</td>\n",
       "      <td>2004-01-03</td>\n",
       "      <td>PETRO</td>\n",
       "      <td>467747.601626</td>\n",
       "    </tr>\n",
       "    <tr>\n",
       "      <th>2</th>\n",
       "      <td>1</td>\n",
       "      <td>A1</td>\n",
       "      <td>34.012349</td>\n",
       "      <td>BANGALORE</td>\n",
       "      <td>Gold</td>\n",
       "      <td>500000</td>\n",
       "      <td>C1</td>\n",
       "      <td>Self Employed</td>\n",
       "      <td>3</td>\n",
       "      <td>2004-01-15</td>\n",
       "      <td>485981.516736</td>\n",
       "      <td>2004-01-15</td>\n",
       "      <td>CLOTHES</td>\n",
       "      <td>86878.954735</td>\n",
       "    </tr>\n",
       "    <tr>\n",
       "      <th>3</th>\n",
       "      <td>1</td>\n",
       "      <td>A1</td>\n",
       "      <td>34.012349</td>\n",
       "      <td>BANGALORE</td>\n",
       "      <td>Gold</td>\n",
       "      <td>500000</td>\n",
       "      <td>C1</td>\n",
       "      <td>Self Employed</td>\n",
       "      <td>4</td>\n",
       "      <td>2004-01-25</td>\n",
       "      <td>452865.826385</td>\n",
       "      <td>2004-01-25</td>\n",
       "      <td>FOOD</td>\n",
       "      <td>269175.011875</td>\n",
       "    </tr>\n",
       "    <tr>\n",
       "      <th>4</th>\n",
       "      <td>1</td>\n",
       "      <td>A1</td>\n",
       "      <td>34.012349</td>\n",
       "      <td>BANGALORE</td>\n",
       "      <td>Gold</td>\n",
       "      <td>500000</td>\n",
       "      <td>C1</td>\n",
       "      <td>Self Employed</td>\n",
       "      <td>5</td>\n",
       "      <td>2005-01-17</td>\n",
       "      <td>154684.838196</td>\n",
       "      <td>2005-01-17</td>\n",
       "      <td>CAMERA</td>\n",
       "      <td>3406.639477</td>\n",
       "    </tr>\n",
       "  </tbody>\n",
       "</table>\n",
       "</div>"
      ],
      "text/plain": [
       "   No Customer        Age       City Product   Limit Company        Segment  \\\n",
       "0   1       A1  34.012349  BANGALORE    Gold  500000      C1  Self Employed   \n",
       "1   1       A1  34.012349  BANGALORE    Gold  500000      C1  Self Employed   \n",
       "2   1       A1  34.012349  BANGALORE    Gold  500000      C1  Self Employed   \n",
       "3   1       A1  34.012349  BANGALORE    Gold  500000      C1  Self Employed   \n",
       "4   1       A1  34.012349  BANGALORE    Gold  500000      C1  Self Employed   \n",
       "\n",
       "   SL_No Repayment_Month  Repayment_Amount Spend_Month       Type  \\\n",
       "0      1      2004-01-12     338932.141919  2004-01-12  JEWELLERY   \n",
       "1      2      2004-01-03     131778.688758  2004-01-03      PETRO   \n",
       "2      3      2004-01-15     485981.516736  2004-01-15    CLOTHES   \n",
       "3      4      2004-01-25     452865.826385  2004-01-25       FOOD   \n",
       "4      5      2005-01-17     154684.838196  2005-01-17     CAMERA   \n",
       "\n",
       "    Spend_Amount  \n",
       "0  344054.980813  \n",
       "1  467747.601626  \n",
       "2   86878.954735  \n",
       "3  269175.011875  \n",
       "4    3406.639477  "
      ]
     },
     "execution_count": 61,
     "metadata": {},
     "output_type": "execute_result"
    }
   ],
   "source": [
    "# To get the first 5 observations from Cust_Repay_Spend1 dataset.\n",
    "Cust_Repay_Spend1.head()"
   ]
  },
  {
   "cell_type": "code",
   "execution_count": 62,
   "metadata": {
    "ExecuteTime": {
     "end_time": "2020-06-19T18:47:49.782610Z",
     "start_time": "2020-06-19T18:47:49.752704Z"
    }
   },
   "outputs": [
    {
     "data": {
      "text/html": [
       "<div>\n",
       "<style scoped>\n",
       "    .dataframe tbody tr th:only-of-type {\n",
       "        vertical-align: middle;\n",
       "    }\n",
       "\n",
       "    .dataframe tbody tr th {\n",
       "        vertical-align: top;\n",
       "    }\n",
       "\n",
       "    .dataframe thead th {\n",
       "        text-align: right;\n",
       "    }\n",
       "</style>\n",
       "<table border=\"1\" class=\"dataframe\">\n",
       "  <thead>\n",
       "    <tr style=\"text-align: right;\">\n",
       "      <th></th>\n",
       "      <th>No</th>\n",
       "      <th>Customer</th>\n",
       "      <th>Age</th>\n",
       "      <th>City</th>\n",
       "      <th>Product</th>\n",
       "      <th>Limit</th>\n",
       "      <th>Company</th>\n",
       "      <th>Segment</th>\n",
       "      <th>SL_No</th>\n",
       "      <th>Repayment_Month</th>\n",
       "      <th>Repayment_Amount</th>\n",
       "      <th>Spend_Month</th>\n",
       "      <th>Type</th>\n",
       "      <th>Spend_Amount</th>\n",
       "    </tr>\n",
       "  </thead>\n",
       "  <tbody>\n",
       "    <tr>\n",
       "      <th>1495</th>\n",
       "      <td>96</td>\n",
       "      <td>A96</td>\n",
       "      <td>71.083162</td>\n",
       "      <td>CHENNAI</td>\n",
       "      <td>Silver</td>\n",
       "      <td>100000</td>\n",
       "      <td>C19</td>\n",
       "      <td>Salaried_Pvt</td>\n",
       "      <td>98</td>\n",
       "      <td>2004-01-25</td>\n",
       "      <td>462073.813332</td>\n",
       "      <td>2004-01-25</td>\n",
       "      <td>BIKE</td>\n",
       "      <td>94369.178802</td>\n",
       "    </tr>\n",
       "    <tr>\n",
       "      <th>1496</th>\n",
       "      <td>97</td>\n",
       "      <td>A97</td>\n",
       "      <td>69.880658</td>\n",
       "      <td>TRIVANDRUM</td>\n",
       "      <td>Platimum</td>\n",
       "      <td>10000</td>\n",
       "      <td>C20</td>\n",
       "      <td>Govt</td>\n",
       "      <td>99</td>\n",
       "      <td>2004-01-12</td>\n",
       "      <td>269952.597005</td>\n",
       "      <td>2004-01-12</td>\n",
       "      <td>AUTO</td>\n",
       "      <td>134404.666159</td>\n",
       "    </tr>\n",
       "    <tr>\n",
       "      <th>1497</th>\n",
       "      <td>98</td>\n",
       "      <td>A98</td>\n",
       "      <td>20.951811</td>\n",
       "      <td>CALCUTTA</td>\n",
       "      <td>Platimum</td>\n",
       "      <td>10001</td>\n",
       "      <td>C21</td>\n",
       "      <td>Normal Salary</td>\n",
       "      <td>100</td>\n",
       "      <td>2004-01-03</td>\n",
       "      <td>486616.462801</td>\n",
       "      <td>2004-01-03</td>\n",
       "      <td>SHOPPING</td>\n",
       "      <td>446110.920182</td>\n",
       "    </tr>\n",
       "    <tr>\n",
       "      <th>1498</th>\n",
       "      <td>99</td>\n",
       "      <td>A99</td>\n",
       "      <td>52.456908</td>\n",
       "      <td>CALCUTTA</td>\n",
       "      <td>Platimum</td>\n",
       "      <td>10002</td>\n",
       "      <td>C22</td>\n",
       "      <td>Self Employed</td>\n",
       "      <td>101</td>\n",
       "      <td>2004-01-15</td>\n",
       "      <td>259682.427631</td>\n",
       "      <td>2004-01-15</td>\n",
       "      <td>AIR TICKET</td>\n",
       "      <td>108137.195169</td>\n",
       "    </tr>\n",
       "    <tr>\n",
       "      <th>1499</th>\n",
       "      <td>100</td>\n",
       "      <td>A100</td>\n",
       "      <td>8.729077</td>\n",
       "      <td>COCHIN</td>\n",
       "      <td>Silver</td>\n",
       "      <td>100000</td>\n",
       "      <td>C5</td>\n",
       "      <td>Salaried_MNC</td>\n",
       "      <td>102</td>\n",
       "      <td>2004-01-25</td>\n",
       "      <td>409187.832658</td>\n",
       "      <td>2004-01-25</td>\n",
       "      <td>BUS TICKET</td>\n",
       "      <td>46251.298231</td>\n",
       "    </tr>\n",
       "  </tbody>\n",
       "</table>\n",
       "</div>"
      ],
      "text/plain": [
       "       No Customer        Age        City   Product   Limit Company  \\\n",
       "1495   96      A96  71.083162     CHENNAI    Silver  100000     C19   \n",
       "1496   97      A97  69.880658  TRIVANDRUM  Platimum   10000     C20   \n",
       "1497   98      A98  20.951811    CALCUTTA  Platimum   10001     C21   \n",
       "1498   99      A99  52.456908    CALCUTTA  Platimum   10002     C22   \n",
       "1499  100     A100   8.729077      COCHIN    Silver  100000      C5   \n",
       "\n",
       "            Segment  SL_No Repayment_Month  Repayment_Amount Spend_Month  \\\n",
       "1495   Salaried_Pvt     98      2004-01-25     462073.813332  2004-01-25   \n",
       "1496           Govt     99      2004-01-12     269952.597005  2004-01-12   \n",
       "1497  Normal Salary    100      2004-01-03     486616.462801  2004-01-03   \n",
       "1498  Self Employed    101      2004-01-15     259682.427631  2004-01-15   \n",
       "1499   Salaried_MNC    102      2004-01-25     409187.832658  2004-01-25   \n",
       "\n",
       "            Type   Spend_Amount  \n",
       "1495        BIKE   94369.178802  \n",
       "1496        AUTO  134404.666159  \n",
       "1497    SHOPPING  446110.920182  \n",
       "1498  AIR TICKET  108137.195169  \n",
       "1499  BUS TICKET   46251.298231  "
      ]
     },
     "execution_count": 62,
     "metadata": {},
     "output_type": "execute_result"
    }
   ],
   "source": [
    "# To get the last 5 observations from Cust_Repay_Spend1 dataset.\n",
    "Cust_Repay_Spend1.tail()"
   ]
  },
  {
   "cell_type": "code",
   "execution_count": 63,
   "metadata": {
    "ExecuteTime": {
     "end_time": "2020-06-19T18:47:49.797579Z",
     "start_time": "2020-06-19T18:47:49.783608Z"
    }
   },
   "outputs": [
    {
     "name": "stdout",
     "output_type": "stream",
     "text": [
      "<class 'pandas.core.frame.DataFrame'>\n",
      "Int64Index: 1500 entries, 0 to 1499\n",
      "Data columns (total 14 columns):\n",
      " #   Column            Non-Null Count  Dtype         \n",
      "---  ------            --------------  -----         \n",
      " 0   No                1500 non-null   int8          \n",
      " 1   Customer          1500 non-null   object        \n",
      " 2   Age               1500 non-null   int64         \n",
      " 3   City              1500 non-null   object        \n",
      " 4   Product           1500 non-null   object        \n",
      " 5   Limit             1500 non-null   int32         \n",
      " 6   Company           1500 non-null   object        \n",
      " 7   Segment           1500 non-null   object        \n",
      " 8   SL_No             1500 non-null   int16         \n",
      " 9   Repayment_Month   1500 non-null   datetime64[ns]\n",
      " 10  Repayment_Amount  1500 non-null   float64       \n",
      " 11  Spend_Month       1500 non-null   datetime64[ns]\n",
      " 12  Type              1500 non-null   object        \n",
      " 13  Spend_Amount      1500 non-null   float64       \n",
      "dtypes: datetime64[ns](2), float64(2), int16(1), int32(1), int64(1), int8(1), object(6)\n",
      "memory usage: 150.9+ KB\n"
     ]
    }
   ],
   "source": [
    "# We'll compare the datasets Cust_Repay_Spend and Cust_Repay_Spend1\n",
    "Cust_Repay_Spend.info() # To get the concise summary of Cust_Repay_Spend dataset"
   ]
  },
  {
   "cell_type": "code",
   "execution_count": 64,
   "metadata": {
    "ExecuteTime": {
     "end_time": "2020-06-19T18:47:49.812531Z",
     "start_time": "2020-06-19T18:47:49.799566Z"
    }
   },
   "outputs": [
    {
     "name": "stdout",
     "output_type": "stream",
     "text": [
      "<class 'pandas.core.frame.DataFrame'>\n",
      "Int64Index: 1500 entries, 0 to 1499\n",
      "Data columns (total 14 columns):\n",
      " #   Column            Non-Null Count  Dtype         \n",
      "---  ------            --------------  -----         \n",
      " 0   No                1500 non-null   int8          \n",
      " 1   Customer          1500 non-null   object        \n",
      " 2   Age               1500 non-null   float64       \n",
      " 3   City              1500 non-null   object        \n",
      " 4   Product           1500 non-null   object        \n",
      " 5   Limit             1500 non-null   int32         \n",
      " 6   Company           1500 non-null   object        \n",
      " 7   Segment           1500 non-null   object        \n",
      " 8   SL_No             1500 non-null   int16         \n",
      " 9   Repayment_Month   1500 non-null   datetime64[ns]\n",
      " 10  Repayment_Amount  1500 non-null   float64       \n",
      " 11  Spend_Month       1500 non-null   datetime64[ns]\n",
      " 12  Type              1500 non-null   object        \n",
      " 13  Spend_Amount      1500 non-null   float64       \n",
      "dtypes: datetime64[ns](2), float64(3), int16(1), int32(1), int8(1), object(6)\n",
      "memory usage: 150.9+ KB\n"
     ]
    }
   ],
   "source": [
    "# To get the concise summary of Cust_Repay_Spend1 dataset\n",
    "Cust_Repay_Spend1.info()"
   ]
  },
  {
   "cell_type": "markdown",
   "metadata": {},
   "source": [
    "**Remark:** Data type of 1 variable i.e. Age is different in both the datasets."
   ]
  },
  {
   "cell_type": "code",
   "execution_count": 65,
   "metadata": {
    "ExecuteTime": {
     "end_time": "2020-06-19T18:47:49.844446Z",
     "start_time": "2020-06-19T18:47:49.814526Z"
    }
   },
   "outputs": [
    {
     "name": "stdout",
     "output_type": "stream",
     "text": [
      "No 0\n",
      "Customer 0\n",
      "Age 1500\n",
      "City 0\n",
      "Product 0\n",
      "Limit 0\n",
      "Company 0\n",
      "Segment 0\n",
      "SL_No 0\n",
      "Repayment_Month 0\n",
      "Repayment_Amount 1500\n",
      "Spend_Month 0\n",
      "Type 0\n",
      "Spend_Amount 1500\n"
     ]
    }
   ],
   "source": [
    "# Comparing the values of corresponding variables in Cust_Repay_Spend dataset and Cust_Repay_Spend1 dataset\n",
    "for i in Cust_Repay_Spend.columns:\n",
    "    print(i, Cust_Repay_Spend[~(Cust_Repay_Spend.loc[:, i] == Cust_Repay_Spend1.loc[:, i])].shape[0])"
   ]
  },
  {
   "cell_type": "markdown",
   "metadata": {},
   "source": [
    "**Remark:** Data of 3 variables i.e. Age, Repayment_Amount, and Spend_Amount is different in both the datasets."
   ]
  },
  {
   "cell_type": "markdown",
   "metadata": {},
   "source": [
    "**Note:** The dataset \"Cust_Repay_Spend\" is being used for the analysis. We can use another dataset \"Cust_Repay_Spend1\" as well for analysis."
   ]
  },
  {
   "cell_type": "markdown",
   "metadata": {},
   "source": [
    "# In the above dataset,\n",
    "### a. In case age is less than 18, replace it with mean of age values."
   ]
  },
  {
   "cell_type": "code",
   "execution_count": 66,
   "metadata": {
    "ExecuteTime": {
     "end_time": "2020-06-19T18:47:49.860403Z",
     "start_time": "2020-06-19T18:47:49.846441Z"
    }
   },
   "outputs": [
    {
     "data": {
      "text/plain": [
       "Series([], Name: Age, dtype: int64)"
      ]
     },
     "execution_count": 66,
     "metadata": {},
     "output_type": "execute_result"
    }
   ],
   "source": [
    "Cust_Repay_Spend.Age = np.where(Cust_Repay_Spend.Age < 18, int(round(np.mean(Cust_Repay_Spend.Age), 0)), Cust_Repay_Spend.Age)\n",
    "Cust_Repay_Spend.Age[(Cust_Repay_Spend.Age < 18) == True] # Cross check whether we have any customer with age less than 18."
   ]
  },
  {
   "cell_type": "markdown",
   "metadata": {},
   "source": [
    "### b. In case spend amount is more than the limit, replace it with 50% of that customer's limit (customer's limit provided in acquisition table is the per transaction limit on his card)."
   ]
  },
  {
   "cell_type": "code",
   "execution_count": 67,
   "metadata": {
    "ExecuteTime": {
     "end_time": "2020-06-19T18:47:49.892317Z",
     "start_time": "2020-06-19T18:47:49.861400Z"
    }
   },
   "outputs": [
    {
     "data": {
      "text/plain": [
       "Series([], Name: Spend_Amount, dtype: float64)"
      ]
     },
     "execution_count": 67,
     "metadata": {},
     "output_type": "execute_result"
    }
   ],
   "source": [
    "Cust_Repay_Spend.Spend_Amount = np.where(Cust_Repay_Spend.Spend_Amount > Cust_Repay_Spend.Limit,\n",
    "                                         (Cust_Repay_Spend.Limit)*0.50, Cust_Repay_Spend.Spend_Amount)\n",
    "# Cross check whether we have any customer with Spend_Amount greater than his/her Limit.\n",
    "Cust_Repay_Spend.Spend_Amount[(Cust_Repay_Spend.Spend_Amount > Cust_Repay_Spend.Limit) == True]"
   ]
  },
  {
   "cell_type": "markdown",
   "metadata": {},
   "source": [
    "### c. In case the repayment amount is more than the limit, replace the repayment with the limit."
   ]
  },
  {
   "cell_type": "code",
   "execution_count": 68,
   "metadata": {
    "ExecuteTime": {
     "end_time": "2020-06-19T18:47:49.923234Z",
     "start_time": "2020-06-19T18:47:49.901294Z"
    }
   },
   "outputs": [
    {
     "data": {
      "text/plain": [
       "Series([], Name: Repayment_Amount, dtype: float64)"
      ]
     },
     "execution_count": 68,
     "metadata": {},
     "output_type": "execute_result"
    }
   ],
   "source": [
    "Cust_Repay_Spend.Repayment_Amount = np.where(Cust_Repay_Spend.Repayment_Amount > Cust_Repay_Spend.Limit,\n",
    "                                         Cust_Repay_Spend.Limit, Cust_Repay_Spend.Repayment_Amount)\n",
    "# Cross check whether we have any customer with Repayment_Amount greater than his/her Limit.\n",
    "Cust_Repay_Spend.Repayment_Amount[(Cust_Repay_Spend.Repayment_Amount > Cust_Repay_Spend.Limit) == True]"
   ]
  },
  {
   "cell_type": "markdown",
   "metadata": {},
   "source": [
    "# From the above dataset create the following summaries:\n",
    "### a. How many distinct customers exist?"
   ]
  },
  {
   "cell_type": "code",
   "execution_count": 69,
   "metadata": {
    "ExecuteTime": {
     "end_time": "2020-06-19T18:47:49.939190Z",
     "start_time": "2020-06-19T18:47:49.927224Z"
    }
   },
   "outputs": [
    {
     "data": {
      "text/plain": [
       "100"
      ]
     },
     "execution_count": 69,
     "metadata": {},
     "output_type": "execute_result"
    }
   ],
   "source": [
    "Cust_Repay_Spend.Customer.nunique()"
   ]
  },
  {
   "cell_type": "markdown",
   "metadata": {},
   "source": [
    "**Result:** 100 distinct customers are there."
   ]
  },
  {
   "cell_type": "markdown",
   "metadata": {},
   "source": [
    "### b. How many distinct categories exist?"
   ]
  },
  {
   "cell_type": "code",
   "execution_count": 70,
   "metadata": {
    "ExecuteTime": {
     "end_time": "2020-06-19T18:47:49.955147Z",
     "start_time": "2020-06-19T18:47:49.940187Z"
    }
   },
   "outputs": [
    {
     "data": {
      "text/plain": [
       "5"
      ]
     },
     "execution_count": 70,
     "metadata": {},
     "output_type": "execute_result"
    }
   ],
   "source": [
    "Cust_Repay_Spend.Segment.nunique()"
   ]
  },
  {
   "cell_type": "markdown",
   "metadata": {},
   "source": [
    "**Result:** 5 distinct categories are there."
   ]
  },
  {
   "cell_type": "markdown",
   "metadata": {},
   "source": [
    "### c. What is the average monthly spend by customers?"
   ]
  },
  {
   "cell_type": "code",
   "execution_count": 71,
   "metadata": {
    "ExecuteTime": {
     "end_time": "2020-06-19T18:47:49.971104Z",
     "start_time": "2020-06-19T18:47:49.956145Z"
    }
   },
   "outputs": [
    {
     "name": "stdout",
     "output_type": "stream",
     "text": [
      "<class 'pandas.core.frame.DataFrame'>\n",
      "DatetimeIndex: 1500 entries, 2004-01-03 to 2006-12-03\n",
      "Data columns (total 13 columns):\n",
      " #   Column            Non-Null Count  Dtype         \n",
      "---  ------            --------------  -----         \n",
      " 0   No                1500 non-null   int8          \n",
      " 1   Customer          1500 non-null   object        \n",
      " 2   Age               1500 non-null   int64         \n",
      " 3   City              1500 non-null   object        \n",
      " 4   Product           1500 non-null   object        \n",
      " 5   Limit             1500 non-null   int32         \n",
      " 6   Company           1500 non-null   object        \n",
      " 7   Segment           1500 non-null   object        \n",
      " 8   SL_No             1500 non-null   int16         \n",
      " 9   Repayment_Month   1500 non-null   datetime64[ns]\n",
      " 10  Repayment_Amount  1500 non-null   float64       \n",
      " 11  Type              1500 non-null   object        \n",
      " 12  Spend_Amount      1500 non-null   float64       \n",
      "dtypes: datetime64[ns](1), float64(2), int16(1), int32(1), int64(1), int8(1), object(6)\n",
      "memory usage: 139.2+ KB\n"
     ]
    }
   ],
   "source": [
    "# In order to make use of resample() under pandas, we need to set the index of dataframe as some date values\n",
    "Cust_Repay_Spend2 = Cust_Repay_Spend.set_index('Spend_Month').sort_index()\n",
    "Cust_Repay_Spend2.info()\n",
    "# After using set_index on a column, that column would no more be available in DataFrame."
   ]
  },
  {
   "cell_type": "code",
   "execution_count": 72,
   "metadata": {
    "ExecuteTime": {
     "end_time": "2020-06-19T18:47:50.464007Z",
     "start_time": "2020-06-19T18:47:49.973099Z"
    }
   },
   "outputs": [
    {
     "data": {
      "text/html": [
       "<div>\n",
       "<style scoped>\n",
       "    .dataframe tbody tr th:only-of-type {\n",
       "        vertical-align: middle;\n",
       "    }\n",
       "\n",
       "    .dataframe tbody tr th {\n",
       "        vertical-align: top;\n",
       "    }\n",
       "\n",
       "    .dataframe thead th {\n",
       "        text-align: right;\n",
       "    }\n",
       "</style>\n",
       "<table border=\"1\" class=\"dataframe\">\n",
       "  <thead>\n",
       "    <tr style=\"text-align: right;\">\n",
       "      <th></th>\n",
       "      <th>Customer</th>\n",
       "      <th>Spend_Amount</th>\n",
       "    </tr>\n",
       "  </thead>\n",
       "  <tbody>\n",
       "    <tr>\n",
       "      <th>0</th>\n",
       "      <td>A1</td>\n",
       "      <td>151255.96</td>\n",
       "    </tr>\n",
       "    <tr>\n",
       "      <th>1</th>\n",
       "      <td>A10</td>\n",
       "      <td>120232.02</td>\n",
       "    </tr>\n",
       "    <tr>\n",
       "      <th>2</th>\n",
       "      <td>A100</td>\n",
       "      <td>50000.00</td>\n",
       "    </tr>\n",
       "    <tr>\n",
       "      <th>3</th>\n",
       "      <td>A11</td>\n",
       "      <td>129063.65</td>\n",
       "    </tr>\n",
       "    <tr>\n",
       "      <th>4</th>\n",
       "      <td>A12</td>\n",
       "      <td>240677.96</td>\n",
       "    </tr>\n",
       "    <tr>\n",
       "      <th>...</th>\n",
       "      <td>...</td>\n",
       "      <td>...</td>\n",
       "    </tr>\n",
       "    <tr>\n",
       "      <th>95</th>\n",
       "      <td>A95</td>\n",
       "      <td>240401.50</td>\n",
       "    </tr>\n",
       "    <tr>\n",
       "      <th>96</th>\n",
       "      <td>A96</td>\n",
       "      <td>54729.66</td>\n",
       "    </tr>\n",
       "    <tr>\n",
       "      <th>97</th>\n",
       "      <td>A97</td>\n",
       "      <td>5000.00</td>\n",
       "    </tr>\n",
       "    <tr>\n",
       "      <th>98</th>\n",
       "      <td>A98</td>\n",
       "      <td>5000.50</td>\n",
       "    </tr>\n",
       "    <tr>\n",
       "      <th>99</th>\n",
       "      <td>A99</td>\n",
       "      <td>5001.00</td>\n",
       "    </tr>\n",
       "  </tbody>\n",
       "</table>\n",
       "<p>100 rows × 2 columns</p>\n",
       "</div>"
      ],
      "text/plain": [
       "   Customer  Spend_Amount\n",
       "0        A1     151255.96\n",
       "1       A10     120232.02\n",
       "2      A100      50000.00\n",
       "3       A11     129063.65\n",
       "4       A12     240677.96\n",
       "..      ...           ...\n",
       "95      A95     240401.50\n",
       "96      A96      54729.66\n",
       "97      A97       5000.00\n",
       "98      A98       5000.50\n",
       "99      A99       5001.00\n",
       "\n",
       "[100 rows x 2 columns]"
      ]
     },
     "execution_count": 72,
     "metadata": {},
     "output_type": "execute_result"
    }
   ],
   "source": [
    "Cust_Repay_Spend2.groupby('Customer').Spend_Amount.resample('M').sum().dropna(axis = 0).reset_index().groupby('Customer').Spend_Amount.mean().round(2).reset_index()"
   ]
  },
  {
   "cell_type": "markdown",
   "metadata": {},
   "source": [
    "### d. What is the average monthly repayment by customers?"
   ]
  },
  {
   "cell_type": "code",
   "execution_count": 73,
   "metadata": {
    "ExecuteTime": {
     "end_time": "2020-06-19T18:47:50.479995Z",
     "start_time": "2020-06-19T18:47:50.465006Z"
    }
   },
   "outputs": [
    {
     "name": "stdout",
     "output_type": "stream",
     "text": [
      "<class 'pandas.core.frame.DataFrame'>\n",
      "DatetimeIndex: 1500 entries, 2004-01-03 to 2006-12-03\n",
      "Data columns (total 13 columns):\n",
      " #   Column            Non-Null Count  Dtype         \n",
      "---  ------            --------------  -----         \n",
      " 0   No                1500 non-null   int8          \n",
      " 1   Customer          1500 non-null   object        \n",
      " 2   Age               1500 non-null   int64         \n",
      " 3   City              1500 non-null   object        \n",
      " 4   Product           1500 non-null   object        \n",
      " 5   Limit             1500 non-null   int32         \n",
      " 6   Company           1500 non-null   object        \n",
      " 7   Segment           1500 non-null   object        \n",
      " 8   SL_No             1500 non-null   int16         \n",
      " 9   Repayment_Amount  1500 non-null   float64       \n",
      " 10  Spend_Month       1500 non-null   datetime64[ns]\n",
      " 11  Type              1500 non-null   object        \n",
      " 12  Spend_Amount      1500 non-null   float64       \n",
      "dtypes: datetime64[ns](1), float64(2), int16(1), int32(1), int64(1), int8(1), object(6)\n",
      "memory usage: 139.2+ KB\n"
     ]
    }
   ],
   "source": [
    "# In order to make use of resample() under pandas, we need to set the index of dataframe as some date values\n",
    "Cust_Repay_Spend3 = Cust_Repay_Spend.set_index('Repayment_Month').sort_index()\n",
    "Cust_Repay_Spend3.info()\n",
    "# After using set_index on a column, that column would no more be available in DataFrame."
   ]
  },
  {
   "cell_type": "code",
   "execution_count": 74,
   "metadata": {
    "ExecuteTime": {
     "end_time": "2020-06-19T18:47:50.892403Z",
     "start_time": "2020-06-19T18:47:50.480963Z"
    }
   },
   "outputs": [
    {
     "data": {
      "text/html": [
       "<div>\n",
       "<style scoped>\n",
       "    .dataframe tbody tr th:only-of-type {\n",
       "        vertical-align: middle;\n",
       "    }\n",
       "\n",
       "    .dataframe tbody tr th {\n",
       "        vertical-align: top;\n",
       "    }\n",
       "\n",
       "    .dataframe thead th {\n",
       "        text-align: right;\n",
       "    }\n",
       "</style>\n",
       "<table border=\"1\" class=\"dataframe\">\n",
       "  <thead>\n",
       "    <tr style=\"text-align: right;\">\n",
       "      <th></th>\n",
       "      <th>Customer</th>\n",
       "      <th>Repayment_Amount</th>\n",
       "    </tr>\n",
       "  </thead>\n",
       "  <tbody>\n",
       "    <tr>\n",
       "      <th>0</th>\n",
       "      <td>A1</td>\n",
       "      <td>135819.76</td>\n",
       "    </tr>\n",
       "    <tr>\n",
       "      <th>1</th>\n",
       "      <td>A10</td>\n",
       "      <td>119214.44</td>\n",
       "    </tr>\n",
       "    <tr>\n",
       "      <th>2</th>\n",
       "      <td>A100</td>\n",
       "      <td>69551.19</td>\n",
       "    </tr>\n",
       "    <tr>\n",
       "      <th>3</th>\n",
       "      <td>A11</td>\n",
       "      <td>171320.45</td>\n",
       "    </tr>\n",
       "    <tr>\n",
       "      <th>4</th>\n",
       "      <td>A12</td>\n",
       "      <td>245140.00</td>\n",
       "    </tr>\n",
       "    <tr>\n",
       "      <th>...</th>\n",
       "      <td>...</td>\n",
       "      <td>...</td>\n",
       "    </tr>\n",
       "    <tr>\n",
       "      <th>95</th>\n",
       "      <td>A95</td>\n",
       "      <td>369405.96</td>\n",
       "    </tr>\n",
       "    <tr>\n",
       "      <th>96</th>\n",
       "      <td>A96</td>\n",
       "      <td>100000.00</td>\n",
       "    </tr>\n",
       "    <tr>\n",
       "      <th>97</th>\n",
       "      <td>A97</td>\n",
       "      <td>10000.00</td>\n",
       "    </tr>\n",
       "    <tr>\n",
       "      <th>98</th>\n",
       "      <td>A98</td>\n",
       "      <td>10001.00</td>\n",
       "    </tr>\n",
       "    <tr>\n",
       "      <th>99</th>\n",
       "      <td>A99</td>\n",
       "      <td>10002.00</td>\n",
       "    </tr>\n",
       "  </tbody>\n",
       "</table>\n",
       "<p>100 rows × 2 columns</p>\n",
       "</div>"
      ],
      "text/plain": [
       "   Customer  Repayment_Amount\n",
       "0        A1         135819.76\n",
       "1       A10         119214.44\n",
       "2      A100          69551.19\n",
       "3       A11         171320.45\n",
       "4       A12         245140.00\n",
       "..      ...               ...\n",
       "95      A95         369405.96\n",
       "96      A96         100000.00\n",
       "97      A97          10000.00\n",
       "98      A98          10001.00\n",
       "99      A99          10002.00\n",
       "\n",
       "[100 rows x 2 columns]"
      ]
     },
     "execution_count": 74,
     "metadata": {},
     "output_type": "execute_result"
    }
   ],
   "source": [
    "# To get the average monthly repayment by customers\n",
    "Cust_Repay_Spend3.groupby('Customer').Repayment_Amount.resample('M').sum().dropna(axis = 0).reset_index().groupby('Customer').Repayment_Amount.mean().round(2).reset_index()"
   ]
  },
  {
   "cell_type": "markdown",
   "metadata": {},
   "source": [
    "### e. If the monthly rate of interest is 2.9%, what is the profit for the bank for each month (Profit is defined as interest earned on Monthly Profit. Monthly Profit = Monthly repayment – Monthly spend. Interest is earned only on positive profits and not on negative amounts)?"
   ]
  },
  {
   "cell_type": "code",
   "execution_count": 75,
   "metadata": {
    "ExecuteTime": {
     "end_time": "2020-06-19T18:47:50.940244Z",
     "start_time": "2020-06-19T18:47:50.893369Z"
    }
   },
   "outputs": [
    {
     "data": {
      "text/html": [
       "<div>\n",
       "<style scoped>\n",
       "    .dataframe tbody tr th:only-of-type {\n",
       "        vertical-align: middle;\n",
       "    }\n",
       "\n",
       "    .dataframe tbody tr th {\n",
       "        vertical-align: top;\n",
       "    }\n",
       "\n",
       "    .dataframe thead th {\n",
       "        text-align: right;\n",
       "    }\n",
       "</style>\n",
       "<table border=\"1\" class=\"dataframe\">\n",
       "  <thead>\n",
       "    <tr style=\"text-align: right;\">\n",
       "      <th></th>\n",
       "      <th>Spend_Month</th>\n",
       "      <th>Monthly_Repayment</th>\n",
       "      <th>Monthly_Spend</th>\n",
       "      <th>Monthly_Profit</th>\n",
       "      <th>Profit</th>\n",
       "    </tr>\n",
       "  </thead>\n",
       "  <tbody>\n",
       "    <tr>\n",
       "      <th>0</th>\n",
       "      <td>2004-01-31</td>\n",
       "      <td>50523988.83</td>\n",
       "      <td>44279811.96</td>\n",
       "      <td>6244176.87</td>\n",
       "      <td>1810811.29</td>\n",
       "    </tr>\n",
       "    <tr>\n",
       "      <th>1</th>\n",
       "      <td>2004-02-29</td>\n",
       "      <td>5188291.81</td>\n",
       "      <td>3835951.84</td>\n",
       "      <td>1352339.97</td>\n",
       "      <td>392178.59</td>\n",
       "    </tr>\n",
       "    <tr>\n",
       "      <th>2</th>\n",
       "      <td>2004-03-31</td>\n",
       "      <td>2351363.21</td>\n",
       "      <td>1871913.27</td>\n",
       "      <td>479449.94</td>\n",
       "      <td>139040.48</td>\n",
       "    </tr>\n",
       "    <tr>\n",
       "      <th>3</th>\n",
       "      <td>2004-04-30</td>\n",
       "      <td>4303029.47</td>\n",
       "      <td>3489415.34</td>\n",
       "      <td>813614.13</td>\n",
       "      <td>235948.10</td>\n",
       "    </tr>\n",
       "    <tr>\n",
       "      <th>4</th>\n",
       "      <td>2004-05-31</td>\n",
       "      <td>2311484.54</td>\n",
       "      <td>2146577.36</td>\n",
       "      <td>164907.18</td>\n",
       "      <td>47823.08</td>\n",
       "    </tr>\n",
       "    <tr>\n",
       "      <th>5</th>\n",
       "      <td>2004-06-30</td>\n",
       "      <td>0.00</td>\n",
       "      <td>0.00</td>\n",
       "      <td>0.00</td>\n",
       "      <td>0.00</td>\n",
       "    </tr>\n",
       "    <tr>\n",
       "      <th>6</th>\n",
       "      <td>2004-07-31</td>\n",
       "      <td>0.00</td>\n",
       "      <td>0.00</td>\n",
       "      <td>0.00</td>\n",
       "      <td>0.00</td>\n",
       "    </tr>\n",
       "    <tr>\n",
       "      <th>7</th>\n",
       "      <td>2004-08-31</td>\n",
       "      <td>0.00</td>\n",
       "      <td>0.00</td>\n",
       "      <td>0.00</td>\n",
       "      <td>0.00</td>\n",
       "    </tr>\n",
       "    <tr>\n",
       "      <th>8</th>\n",
       "      <td>2004-09-30</td>\n",
       "      <td>2347902.29</td>\n",
       "      <td>2402109.69</td>\n",
       "      <td>-54207.40</td>\n",
       "      <td>0.00</td>\n",
       "    </tr>\n",
       "    <tr>\n",
       "      <th>9</th>\n",
       "      <td>2004-10-31</td>\n",
       "      <td>0.00</td>\n",
       "      <td>0.00</td>\n",
       "      <td>0.00</td>\n",
       "      <td>0.00</td>\n",
       "    </tr>\n",
       "    <tr>\n",
       "      <th>10</th>\n",
       "      <td>2004-11-30</td>\n",
       "      <td>2262733.96</td>\n",
       "      <td>1114989.10</td>\n",
       "      <td>1147744.86</td>\n",
       "      <td>332846.01</td>\n",
       "    </tr>\n",
       "    <tr>\n",
       "      <th>11</th>\n",
       "      <td>2004-12-31</td>\n",
       "      <td>0.00</td>\n",
       "      <td>0.00</td>\n",
       "      <td>0.00</td>\n",
       "      <td>0.00</td>\n",
       "    </tr>\n",
       "    <tr>\n",
       "      <th>12</th>\n",
       "      <td>2005-01-31</td>\n",
       "      <td>2805635.22</td>\n",
       "      <td>5383606.78</td>\n",
       "      <td>-2577971.56</td>\n",
       "      <td>0.00</td>\n",
       "    </tr>\n",
       "    <tr>\n",
       "      <th>13</th>\n",
       "      <td>2005-02-28</td>\n",
       "      <td>32126571.59</td>\n",
       "      <td>25928183.21</td>\n",
       "      <td>6198388.38</td>\n",
       "      <td>1797532.63</td>\n",
       "    </tr>\n",
       "    <tr>\n",
       "      <th>14</th>\n",
       "      <td>2005-03-31</td>\n",
       "      <td>0.00</td>\n",
       "      <td>0.00</td>\n",
       "      <td>0.00</td>\n",
       "      <td>0.00</td>\n",
       "    </tr>\n",
       "    <tr>\n",
       "      <th>15</th>\n",
       "      <td>2005-04-30</td>\n",
       "      <td>3855060.89</td>\n",
       "      <td>4100065.73</td>\n",
       "      <td>-245004.84</td>\n",
       "      <td>0.00</td>\n",
       "    </tr>\n",
       "    <tr>\n",
       "      <th>16</th>\n",
       "      <td>2005-05-31</td>\n",
       "      <td>22237026.17</td>\n",
       "      <td>21647612.42</td>\n",
       "      <td>589413.75</td>\n",
       "      <td>170929.99</td>\n",
       "    </tr>\n",
       "    <tr>\n",
       "      <th>17</th>\n",
       "      <td>2005-06-30</td>\n",
       "      <td>7100259.98</td>\n",
       "      <td>8010511.98</td>\n",
       "      <td>-910252.00</td>\n",
       "      <td>0.00</td>\n",
       "    </tr>\n",
       "    <tr>\n",
       "      <th>18</th>\n",
       "      <td>2005-07-31</td>\n",
       "      <td>1760267.04</td>\n",
       "      <td>1691243.28</td>\n",
       "      <td>69023.76</td>\n",
       "      <td>20016.89</td>\n",
       "    </tr>\n",
       "    <tr>\n",
       "      <th>19</th>\n",
       "      <td>2005-08-31</td>\n",
       "      <td>4081191.66</td>\n",
       "      <td>3967808.19</td>\n",
       "      <td>113383.47</td>\n",
       "      <td>32881.21</td>\n",
       "    </tr>\n",
       "    <tr>\n",
       "      <th>20</th>\n",
       "      <td>2005-09-30</td>\n",
       "      <td>1428621.93</td>\n",
       "      <td>1531932.87</td>\n",
       "      <td>-103310.94</td>\n",
       "      <td>0.00</td>\n",
       "    </tr>\n",
       "    <tr>\n",
       "      <th>21</th>\n",
       "      <td>2005-10-31</td>\n",
       "      <td>2129912.74</td>\n",
       "      <td>1258311.90</td>\n",
       "      <td>871600.84</td>\n",
       "      <td>252764.24</td>\n",
       "    </tr>\n",
       "    <tr>\n",
       "      <th>22</th>\n",
       "      <td>2005-11-30</td>\n",
       "      <td>6190864.95</td>\n",
       "      <td>7481048.89</td>\n",
       "      <td>-1290183.94</td>\n",
       "      <td>0.00</td>\n",
       "    </tr>\n",
       "    <tr>\n",
       "      <th>23</th>\n",
       "      <td>2005-12-31</td>\n",
       "      <td>2801071.65</td>\n",
       "      <td>1181824.00</td>\n",
       "      <td>1619247.65</td>\n",
       "      <td>469581.82</td>\n",
       "    </tr>\n",
       "    <tr>\n",
       "      <th>24</th>\n",
       "      <td>2006-01-31</td>\n",
       "      <td>2295292.30</td>\n",
       "      <td>1908375.22</td>\n",
       "      <td>386917.08</td>\n",
       "      <td>112205.95</td>\n",
       "    </tr>\n",
       "    <tr>\n",
       "      <th>25</th>\n",
       "      <td>2006-02-28</td>\n",
       "      <td>6379359.07</td>\n",
       "      <td>6236117.45</td>\n",
       "      <td>143241.62</td>\n",
       "      <td>41540.07</td>\n",
       "    </tr>\n",
       "    <tr>\n",
       "      <th>26</th>\n",
       "      <td>2006-03-31</td>\n",
       "      <td>33351868.30</td>\n",
       "      <td>28583302.72</td>\n",
       "      <td>4768565.58</td>\n",
       "      <td>1382884.02</td>\n",
       "    </tr>\n",
       "    <tr>\n",
       "      <th>27</th>\n",
       "      <td>2006-04-30</td>\n",
       "      <td>14445015.41</td>\n",
       "      <td>12665908.03</td>\n",
       "      <td>1779107.38</td>\n",
       "      <td>515941.14</td>\n",
       "    </tr>\n",
       "    <tr>\n",
       "      <th>28</th>\n",
       "      <td>2006-05-31</td>\n",
       "      <td>9938054.11</td>\n",
       "      <td>8046846.48</td>\n",
       "      <td>1891207.63</td>\n",
       "      <td>548450.21</td>\n",
       "    </tr>\n",
       "    <tr>\n",
       "      <th>29</th>\n",
       "      <td>2006-06-30</td>\n",
       "      <td>2736340.95</td>\n",
       "      <td>2183600.98</td>\n",
       "      <td>552739.97</td>\n",
       "      <td>160294.59</td>\n",
       "    </tr>\n",
       "    <tr>\n",
       "      <th>30</th>\n",
       "      <td>2006-07-31</td>\n",
       "      <td>4099949.29</td>\n",
       "      <td>5294483.07</td>\n",
       "      <td>-1194533.78</td>\n",
       "      <td>0.00</td>\n",
       "    </tr>\n",
       "    <tr>\n",
       "      <th>31</th>\n",
       "      <td>2006-08-31</td>\n",
       "      <td>3336111.20</td>\n",
       "      <td>2994094.85</td>\n",
       "      <td>342016.35</td>\n",
       "      <td>99184.74</td>\n",
       "    </tr>\n",
       "    <tr>\n",
       "      <th>32</th>\n",
       "      <td>2006-09-30</td>\n",
       "      <td>3123594.07</td>\n",
       "      <td>1993489.03</td>\n",
       "      <td>1130105.04</td>\n",
       "      <td>327730.46</td>\n",
       "    </tr>\n",
       "    <tr>\n",
       "      <th>33</th>\n",
       "      <td>2006-10-31</td>\n",
       "      <td>3067651.96</td>\n",
       "      <td>2410188.02</td>\n",
       "      <td>657463.94</td>\n",
       "      <td>190664.54</td>\n",
       "    </tr>\n",
       "    <tr>\n",
       "      <th>34</th>\n",
       "      <td>2006-11-30</td>\n",
       "      <td>4703739.47</td>\n",
       "      <td>4039950.52</td>\n",
       "      <td>663788.95</td>\n",
       "      <td>192498.80</td>\n",
       "    </tr>\n",
       "    <tr>\n",
       "      <th>35</th>\n",
       "      <td>2006-12-31</td>\n",
       "      <td>1700106.03</td>\n",
       "      <td>2101811.05</td>\n",
       "      <td>-401705.02</td>\n",
       "      <td>0.00</td>\n",
       "    </tr>\n",
       "  </tbody>\n",
       "</table>\n",
       "</div>"
      ],
      "text/plain": [
       "   Spend_Month  Monthly_Repayment  Monthly_Spend  Monthly_Profit      Profit\n",
       "0   2004-01-31        50523988.83    44279811.96      6244176.87  1810811.29\n",
       "1   2004-02-29         5188291.81     3835951.84      1352339.97   392178.59\n",
       "2   2004-03-31         2351363.21     1871913.27       479449.94   139040.48\n",
       "3   2004-04-30         4303029.47     3489415.34       813614.13   235948.10\n",
       "4   2004-05-31         2311484.54     2146577.36       164907.18    47823.08\n",
       "5   2004-06-30               0.00           0.00            0.00        0.00\n",
       "6   2004-07-31               0.00           0.00            0.00        0.00\n",
       "7   2004-08-31               0.00           0.00            0.00        0.00\n",
       "8   2004-09-30         2347902.29     2402109.69       -54207.40        0.00\n",
       "9   2004-10-31               0.00           0.00            0.00        0.00\n",
       "10  2004-11-30         2262733.96     1114989.10      1147744.86   332846.01\n",
       "11  2004-12-31               0.00           0.00            0.00        0.00\n",
       "12  2005-01-31         2805635.22     5383606.78     -2577971.56        0.00\n",
       "13  2005-02-28        32126571.59    25928183.21      6198388.38  1797532.63\n",
       "14  2005-03-31               0.00           0.00            0.00        0.00\n",
       "15  2005-04-30         3855060.89     4100065.73      -245004.84        0.00\n",
       "16  2005-05-31        22237026.17    21647612.42       589413.75   170929.99\n",
       "17  2005-06-30         7100259.98     8010511.98      -910252.00        0.00\n",
       "18  2005-07-31         1760267.04     1691243.28        69023.76    20016.89\n",
       "19  2005-08-31         4081191.66     3967808.19       113383.47    32881.21\n",
       "20  2005-09-30         1428621.93     1531932.87      -103310.94        0.00\n",
       "21  2005-10-31         2129912.74     1258311.90       871600.84   252764.24\n",
       "22  2005-11-30         6190864.95     7481048.89     -1290183.94        0.00\n",
       "23  2005-12-31         2801071.65     1181824.00      1619247.65   469581.82\n",
       "24  2006-01-31         2295292.30     1908375.22       386917.08   112205.95\n",
       "25  2006-02-28         6379359.07     6236117.45       143241.62    41540.07\n",
       "26  2006-03-31        33351868.30    28583302.72      4768565.58  1382884.02\n",
       "27  2006-04-30        14445015.41    12665908.03      1779107.38   515941.14\n",
       "28  2006-05-31         9938054.11     8046846.48      1891207.63   548450.21\n",
       "29  2006-06-30         2736340.95     2183600.98       552739.97   160294.59\n",
       "30  2006-07-31         4099949.29     5294483.07     -1194533.78        0.00\n",
       "31  2006-08-31         3336111.20     2994094.85       342016.35    99184.74\n",
       "32  2006-09-30         3123594.07     1993489.03      1130105.04   327730.46\n",
       "33  2006-10-31         3067651.96     2410188.02       657463.94   190664.54\n",
       "34  2006-11-30         4703739.47     4039950.52       663788.95   192498.80\n",
       "35  2006-12-31         1700106.03     2101811.05      -401705.02        0.00"
      ]
     },
     "execution_count": 75,
     "metadata": {},
     "output_type": "execute_result"
    }
   ],
   "source": [
    "out = Cust_Repay_Spend2.Spend_Amount.resample('M').sum().reset_index()\n",
    "out1 = Cust_Repay_Spend2.Repayment_Amount.resample('M').sum().reset_index()\n",
    "out3 = pd.concat([out1, out.Spend_Amount], axis=1)\n",
    "out3['Monthly_Profit'] = out3.Repayment_Amount - out3.Spend_Amount\n",
    "out3.rename(columns = {'Repayment_Amount': 'Monthly_Repayment', 'Spend_Amount': 'Monthly_Spend'}, inplace = True)\n",
    "out3['Profit'] = np.where(out3.Monthly_Profit > 0, out3.Monthly_Profit * 0.29, 0).round(2)\n",
    "out3"
   ]
  },
  {
   "cell_type": "markdown",
   "metadata": {},
   "source": [
    "### f. What are the top 5 product types?"
   ]
  },
  {
   "cell_type": "code",
   "execution_count": 76,
   "metadata": {
    "ExecuteTime": {
     "end_time": "2020-06-19T18:47:50.956229Z",
     "start_time": "2020-06-19T18:47:50.942244Z"
    }
   },
   "outputs": [
    {
     "data": {
      "text/plain": [
       "PETRO           200\n",
       "FOOD            160\n",
       "CAMERA          160\n",
       "AIR TICKET      147\n",
       "TRAIN TICKET    132\n",
       "SHOPPING        113\n",
       "BUS TICKET       99\n",
       "CLOTHES          95\n",
       "JEWELLERY        95\n",
       "MOVIE TICKET     76\n",
       "RENTAL           76\n",
       "BIKE             49\n",
       "AUTO             40\n",
       "CAR              30\n",
       "SANDALS          28\n",
       "Name: Type, dtype: int64"
      ]
     },
     "execution_count": 76,
     "metadata": {},
     "output_type": "execute_result"
    }
   ],
   "source": [
    "# Products by Quantity sold\n",
    "Cust_Repay_Spend.Type.value_counts().sort_values(ascending = False)"
   ]
  },
  {
   "cell_type": "code",
   "execution_count": 77,
   "metadata": {
    "ExecuteTime": {
     "end_time": "2020-06-19T18:47:50.971160Z",
     "start_time": "2020-06-19T18:47:50.957198Z"
    }
   },
   "outputs": [
    {
     "data": {
      "text/plain": [
       "Index(['PETRO', 'FOOD', 'CAMERA', 'AIR TICKET', 'TRAIN TICKET'], dtype='object')"
      ]
     },
     "execution_count": 77,
     "metadata": {},
     "output_type": "execute_result"
    }
   ],
   "source": [
    "# Top 5 product types on the basis of quantity sold or Highest selling top 5 products\n",
    "Cust_Repay_Spend.Type.value_counts().sort_values(ascending = False).index[:5]"
   ]
  },
  {
   "cell_type": "markdown",
   "metadata": {},
   "source": [
    "**Result:** The top 5 product types on the basis of quantity sold are PETRO, FOOD, CAMERA, AIR TICKET, and TRAIN TICKET."
   ]
  },
  {
   "cell_type": "markdown",
   "metadata": {},
   "source": [
    "### g. Which city is having maximum spend?"
   ]
  },
  {
   "cell_type": "code",
   "execution_count": 78,
   "metadata": {
    "ExecuteTime": {
     "end_time": "2020-06-19T18:47:50.986153Z",
     "start_time": "2020-06-19T18:47:50.972158Z"
    }
   },
   "outputs": [
    {
     "data": {
      "text/plain": [
       "City\n",
       "COCHIN        45963513.50\n",
       "CALCUTTA      41108132.30\n",
       "BANGALORE     40461647.02\n",
       "BOMBAY        28603127.38\n",
       "CHENNAI       22128635.65\n",
       "TRIVANDRUM    15337155.87\n",
       "PATNA         15260586.97\n",
       "DELHI         10918286.54\n",
       "Name: Spend_Amount, dtype: float64"
      ]
     },
     "execution_count": 78,
     "metadata": {},
     "output_type": "execute_result"
    }
   ],
   "source": [
    "# Cities with total spend\n",
    "Cust_Repay_Spend.groupby('City').Spend_Amount.sum().sort_values(ascending = False)"
   ]
  },
  {
   "cell_type": "code",
   "execution_count": 79,
   "metadata": {
    "ExecuteTime": {
     "end_time": "2020-06-19T18:47:51.002109Z",
     "start_time": "2020-06-19T18:47:50.987118Z"
    }
   },
   "outputs": [
    {
     "data": {
      "text/plain": [
       "'COCHIN'"
      ]
     },
     "execution_count": 79,
     "metadata": {},
     "output_type": "execute_result"
    }
   ],
   "source": [
    "# City with highest spend\n",
    "Cust_Repay_Spend.groupby('City').Spend_Amount.sum().sort_values(ascending = False).index[0]"
   ]
  },
  {
   "cell_type": "markdown",
   "metadata": {},
   "source": [
    "**Result:** Cochin is the city with highest spend."
   ]
  },
  {
   "cell_type": "markdown",
   "metadata": {},
   "source": [
    "### h. Which age group is spending more money?"
   ]
  },
  {
   "cell_type": "code",
   "execution_count": 80,
   "metadata": {
    "ExecuteTime": {
     "end_time": "2020-06-19T18:47:51.034017Z",
     "start_time": "2020-06-19T18:47:51.003076Z"
    }
   },
   "outputs": [
    {
     "data": {
      "text/html": [
       "<div>\n",
       "<style scoped>\n",
       "    .dataframe tbody tr th:only-of-type {\n",
       "        vertical-align: middle;\n",
       "    }\n",
       "\n",
       "    .dataframe tbody tr th {\n",
       "        vertical-align: top;\n",
       "    }\n",
       "\n",
       "    .dataframe thead th {\n",
       "        text-align: right;\n",
       "    }\n",
       "</style>\n",
       "<table border=\"1\" class=\"dataframe\">\n",
       "  <thead>\n",
       "    <tr style=\"text-align: right;\">\n",
       "      <th></th>\n",
       "      <th>Age_Groups</th>\n",
       "      <th>Total_Amount_Spend</th>\n",
       "      <th>Average_Amount_Spend</th>\n",
       "      <th>Proportion_of_Total_Amount_Spend</th>\n",
       "    </tr>\n",
       "  </thead>\n",
       "  <tbody>\n",
       "    <tr>\n",
       "      <th>2</th>\n",
       "      <td>(43.0, 55.0]</td>\n",
       "      <td>69886504.61</td>\n",
       "      <td>178737.863453</td>\n",
       "      <td>31.80</td>\n",
       "    </tr>\n",
       "    <tr>\n",
       "      <th>0</th>\n",
       "      <td>(18.94, 31.0]</td>\n",
       "      <td>53002612.58</td>\n",
       "      <td>146821.641496</td>\n",
       "      <td>24.12</td>\n",
       "    </tr>\n",
       "    <tr>\n",
       "      <th>1</th>\n",
       "      <td>(31.0, 43.0]</td>\n",
       "      <td>46075008.70</td>\n",
       "      <td>135914.479941</td>\n",
       "      <td>20.96</td>\n",
       "    </tr>\n",
       "    <tr>\n",
       "      <th>4</th>\n",
       "      <td>(67.0, 79.0]</td>\n",
       "      <td>29636001.68</td>\n",
       "      <td>157638.306809</td>\n",
       "      <td>13.48</td>\n",
       "    </tr>\n",
       "    <tr>\n",
       "      <th>3</th>\n",
       "      <td>(55.0, 67.0]</td>\n",
       "      <td>21180957.66</td>\n",
       "      <td>95841.437376</td>\n",
       "      <td>9.64</td>\n",
       "    </tr>\n",
       "  </tbody>\n",
       "</table>\n",
       "</div>"
      ],
      "text/plain": [
       "      Age_Groups  Total_Amount_Spend  Average_Amount_Spend  \\\n",
       "2   (43.0, 55.0]         69886504.61         178737.863453   \n",
       "0  (18.94, 31.0]         53002612.58         146821.641496   \n",
       "1   (31.0, 43.0]         46075008.70         135914.479941   \n",
       "4   (67.0, 79.0]         29636001.68         157638.306809   \n",
       "3   (55.0, 67.0]         21180957.66          95841.437376   \n",
       "\n",
       "   Proportion_of_Total_Amount_Spend  \n",
       "2                             31.80  \n",
       "0                             24.12  \n",
       "1                             20.96  \n",
       "4                             13.48  \n",
       "3                              9.64  "
      ]
     },
     "execution_count": 80,
     "metadata": {},
     "output_type": "execute_result"
    }
   ],
   "source": [
    "Cust_Repay_Spend['Age_Groups'] = pd.cut(Cust_Repay_Spend.Age, bins=5)\n",
    "res = Cust_Repay_Spend.groupby('Age_Groups').Spend_Amount.agg([sum, \n",
    "                       np.mean]).reset_index().sort_values(by = 'sum', ascending = False)\n",
    "res.rename(columns = {'sum': 'Total_Amount_Spend', 'mean': 'Average_Amount_Spend'}, inplace = True)\n",
    "res['Proportion_of_Total_Amount_Spend']=((res.Total_Amount_Spend/res.Total_Amount_Spend.sum())*100).round(2)\n",
    "res"
   ]
  },
  {
   "cell_type": "markdown",
   "metadata": {},
   "source": [
    "**Result:** Customers under the age group of 43 - 55 years of age are spending more money."
   ]
  },
  {
   "cell_type": "markdown",
   "metadata": {},
   "source": [
    "### i. Who are the top 10 customers in terms of repayment?"
   ]
  },
  {
   "cell_type": "code",
   "execution_count": 81,
   "metadata": {
    "ExecuteTime": {
     "end_time": "2020-06-19T18:47:51.049950Z",
     "start_time": "2020-06-19T18:47:51.034991Z"
    }
   },
   "outputs": [
    {
     "data": {
      "text/html": [
       "<div>\n",
       "<style scoped>\n",
       "    .dataframe tbody tr th:only-of-type {\n",
       "        vertical-align: middle;\n",
       "    }\n",
       "\n",
       "    .dataframe tbody tr th {\n",
       "        vertical-align: top;\n",
       "    }\n",
       "\n",
       "    .dataframe thead th {\n",
       "        text-align: right;\n",
       "    }\n",
       "</style>\n",
       "<table border=\"1\" class=\"dataframe\">\n",
       "  <thead>\n",
       "    <tr style=\"text-align: right;\">\n",
       "      <th></th>\n",
       "      <th>Customer</th>\n",
       "      <th>Repayment_Amount</th>\n",
       "    </tr>\n",
       "  </thead>\n",
       "  <tbody>\n",
       "    <tr>\n",
       "      <th>0</th>\n",
       "      <td>A61</td>\n",
       "      <td>10539142.91</td>\n",
       "    </tr>\n",
       "    <tr>\n",
       "      <th>1</th>\n",
       "      <td>A60</td>\n",
       "      <td>9876290.74</td>\n",
       "    </tr>\n",
       "    <tr>\n",
       "      <th>2</th>\n",
       "      <td>A13</td>\n",
       "      <td>9572000.66</td>\n",
       "    </tr>\n",
       "    <tr>\n",
       "      <th>3</th>\n",
       "      <td>A43</td>\n",
       "      <td>8489871.46</td>\n",
       "    </tr>\n",
       "    <tr>\n",
       "      <th>4</th>\n",
       "      <td>A45</td>\n",
       "      <td>8448334.87</td>\n",
       "    </tr>\n",
       "    <tr>\n",
       "      <th>...</th>\n",
       "      <td>...</td>\n",
       "      <td>...</td>\n",
       "    </tr>\n",
       "    <tr>\n",
       "      <th>95</th>\n",
       "      <td>A83</td>\n",
       "      <td>10002.00</td>\n",
       "    </tr>\n",
       "    <tr>\n",
       "      <th>96</th>\n",
       "      <td>A99</td>\n",
       "      <td>10002.00</td>\n",
       "    </tr>\n",
       "    <tr>\n",
       "      <th>97</th>\n",
       "      <td>A98</td>\n",
       "      <td>10001.00</td>\n",
       "    </tr>\n",
       "    <tr>\n",
       "      <th>98</th>\n",
       "      <td>A97</td>\n",
       "      <td>10000.00</td>\n",
       "    </tr>\n",
       "    <tr>\n",
       "      <th>99</th>\n",
       "      <td>A77</td>\n",
       "      <td>3159.62</td>\n",
       "    </tr>\n",
       "  </tbody>\n",
       "</table>\n",
       "<p>100 rows × 2 columns</p>\n",
       "</div>"
      ],
      "text/plain": [
       "   Customer  Repayment_Amount\n",
       "0       A61       10539142.91\n",
       "1       A60        9876290.74\n",
       "2       A13        9572000.66\n",
       "3       A43        8489871.46\n",
       "4       A45        8448334.87\n",
       "..      ...               ...\n",
       "95      A83          10002.00\n",
       "96      A99          10002.00\n",
       "97      A98          10001.00\n",
       "98      A97          10000.00\n",
       "99      A77           3159.62\n",
       "\n",
       "[100 rows x 2 columns]"
      ]
     },
     "execution_count": 81,
     "metadata": {},
     "output_type": "execute_result"
    }
   ],
   "source": [
    "# All the Customers with total repayment amount\n",
    "Cust_Repay_Spend.groupby('Customer').Repayment_Amount.sum().sort_values(ascending = False).reset_index()"
   ]
  },
  {
   "cell_type": "code",
   "execution_count": 82,
   "metadata": {
    "ExecuteTime": {
     "end_time": "2020-06-19T18:47:51.065930Z",
     "start_time": "2020-06-19T18:47:51.050946Z"
    }
   },
   "outputs": [
    {
     "data": {
      "text/plain": [
       "Customer\n",
       "A61    10539142.91\n",
       "A60     9876290.74\n",
       "A13     9572000.66\n",
       "A43     8489871.46\n",
       "A45     8448334.87\n",
       "A12     8334760.16\n",
       "A14     7943268.63\n",
       "A44     7744730.12\n",
       "A39     7622483.30\n",
       "A42     7615460.86\n",
       "Name: Repayment_Amount, dtype: float64"
      ]
     },
     "execution_count": 82,
     "metadata": {},
     "output_type": "execute_result"
    }
   ],
   "source": [
    "# Only top 10 Customers with total repayment amount\n",
    "Cust_Repay_Spend.groupby('Customer').Repayment_Amount.sum().sort_values(ascending = False).iloc[:10]"
   ]
  },
  {
   "cell_type": "code",
   "execution_count": 83,
   "metadata": {
    "ExecuteTime": {
     "end_time": "2020-06-19T18:47:51.081893Z",
     "start_time": "2020-06-19T18:47:51.067926Z"
    }
   },
   "outputs": [
    {
     "data": {
      "text/plain": [
       "Index(['A61', 'A60', 'A13', 'A43', 'A45', 'A12', 'A14', 'A44', 'A39', 'A42'], dtype='object', name='Customer')"
      ]
     },
     "execution_count": 83,
     "metadata": {},
     "output_type": "execute_result"
    }
   ],
   "source": [
    "# List of top 10 Customers on the basis of highest repayment amount\n",
    "Cust_Repay_Spend.groupby('Customer').Repayment_Amount.sum().sort_values(ascending = False).index[:10]"
   ]
  },
  {
   "cell_type": "markdown",
   "metadata": {},
   "source": [
    "# Calculate the city wise spend on each product on yearly basis. Also include a graphical representation for the same."
   ]
  },
  {
   "cell_type": "code",
   "execution_count": 84,
   "metadata": {
    "ExecuteTime": {
     "end_time": "2020-06-19T18:47:51.240475Z",
     "start_time": "2020-06-19T18:47:51.082860Z"
    }
   },
   "outputs": [
    {
     "data": {
      "text/html": [
       "<div>\n",
       "<style scoped>\n",
       "    .dataframe tbody tr th:only-of-type {\n",
       "        vertical-align: middle;\n",
       "    }\n",
       "\n",
       "    .dataframe tbody tr th {\n",
       "        vertical-align: top;\n",
       "    }\n",
       "\n",
       "    .dataframe thead th {\n",
       "        text-align: right;\n",
       "    }\n",
       "</style>\n",
       "<table border=\"1\" class=\"dataframe\">\n",
       "  <thead>\n",
       "    <tr style=\"text-align: right;\">\n",
       "      <th></th>\n",
       "      <th>City</th>\n",
       "      <th>Product</th>\n",
       "      <th>Year</th>\n",
       "      <th>Spend_Amount</th>\n",
       "    </tr>\n",
       "  </thead>\n",
       "  <tbody>\n",
       "    <tr>\n",
       "      <th>0</th>\n",
       "      <td>BANGALORE</td>\n",
       "      <td>Gold</td>\n",
       "      <td>2004</td>\n",
       "      <td>9289878.54</td>\n",
       "    </tr>\n",
       "    <tr>\n",
       "      <th>1</th>\n",
       "      <td>BANGALORE</td>\n",
       "      <td>Gold</td>\n",
       "      <td>2005</td>\n",
       "      <td>12892362.99</td>\n",
       "    </tr>\n",
       "    <tr>\n",
       "      <th>2</th>\n",
       "      <td>BANGALORE</td>\n",
       "      <td>Gold</td>\n",
       "      <td>2006</td>\n",
       "      <td>12030611.09</td>\n",
       "    </tr>\n",
       "    <tr>\n",
       "      <th>3</th>\n",
       "      <td>BANGALORE</td>\n",
       "      <td>Platimum</td>\n",
       "      <td>2004</td>\n",
       "      <td>1112732.30</td>\n",
       "    </tr>\n",
       "    <tr>\n",
       "      <th>4</th>\n",
       "      <td>BANGALORE</td>\n",
       "      <td>Platimum</td>\n",
       "      <td>2005</td>\n",
       "      <td>912284.97</td>\n",
       "    </tr>\n",
       "    <tr>\n",
       "      <th>...</th>\n",
       "      <td>...</td>\n",
       "      <td>...</td>\n",
       "      <td>...</td>\n",
       "      <td>...</td>\n",
       "    </tr>\n",
       "    <tr>\n",
       "      <th>67</th>\n",
       "      <td>TRIVANDRUM</td>\n",
       "      <td>Platimum</td>\n",
       "      <td>2005</td>\n",
       "      <td>3601443.30</td>\n",
       "    </tr>\n",
       "    <tr>\n",
       "      <th>68</th>\n",
       "      <td>TRIVANDRUM</td>\n",
       "      <td>Platimum</td>\n",
       "      <td>2006</td>\n",
       "      <td>2147403.75</td>\n",
       "    </tr>\n",
       "    <tr>\n",
       "      <th>69</th>\n",
       "      <td>TRIVANDRUM</td>\n",
       "      <td>Silver</td>\n",
       "      <td>2004</td>\n",
       "      <td>209667.48</td>\n",
       "    </tr>\n",
       "    <tr>\n",
       "      <th>70</th>\n",
       "      <td>TRIVANDRUM</td>\n",
       "      <td>Silver</td>\n",
       "      <td>2005</td>\n",
       "      <td>269912.99</td>\n",
       "    </tr>\n",
       "    <tr>\n",
       "      <th>71</th>\n",
       "      <td>TRIVANDRUM</td>\n",
       "      <td>Silver</td>\n",
       "      <td>2006</td>\n",
       "      <td>555862.12</td>\n",
       "    </tr>\n",
       "  </tbody>\n",
       "</table>\n",
       "<p>72 rows × 4 columns</p>\n",
       "</div>"
      ],
      "text/plain": [
       "          City   Product  Year  Spend_Amount\n",
       "0    BANGALORE      Gold  2004    9289878.54\n",
       "1    BANGALORE      Gold  2005   12892362.99\n",
       "2    BANGALORE      Gold  2006   12030611.09\n",
       "3    BANGALORE  Platimum  2004    1112732.30\n",
       "4    BANGALORE  Platimum  2005     912284.97\n",
       "..         ...       ...   ...           ...\n",
       "67  TRIVANDRUM  Platimum  2005    3601443.30\n",
       "68  TRIVANDRUM  Platimum  2006    2147403.75\n",
       "69  TRIVANDRUM    Silver  2004     209667.48\n",
       "70  TRIVANDRUM    Silver  2005     269912.99\n",
       "71  TRIVANDRUM    Silver  2006     555862.12\n",
       "\n",
       "[72 rows x 4 columns]"
      ]
     },
     "execution_count": 84,
     "metadata": {},
     "output_type": "execute_result"
    }
   ],
   "source": [
    "res = Cust_Repay_Spend2.groupby(['City', 'Product']).Spend_Amount.resample('Y').sum().reset_index()\n",
    "res.Spend_Month = res.Spend_Month.apply(lambda x: x.year)\n",
    "res.rename(columns = {'Spend_Month':'Year'}, inplace = True)\n",
    "res"
   ]
  },
  {
   "cell_type": "code",
   "execution_count": 85,
   "metadata": {
    "ExecuteTime": {
     "end_time": "2020-06-19T18:47:52.244387Z",
     "start_time": "2020-06-19T18:47:51.241438Z"
    }
   },
   "outputs": [
    {
     "data": {
      "image/png": "[encoded data removed]",
      "text/plain": [
       "<Figure size 1055.38x360 with 3 Axes>"
      ]
     },
     "metadata": {
      "needs_background": "light"
     },
     "output_type": "display_data"
    }
   ],
   "source": [
    "# it's graphical representation\n",
    "sns.catplot(x=\"Spend_Amount\", y=\"City\", hue=\"Product\", col=\"Year\", aspect=0.9, kind=\"bar\", data=res)\n",
    "plt.show()"
   ]
  },
  {
   "cell_type": "markdown",
   "metadata": {},
   "source": [
    "# Create graphs for\n",
    "### a. Monthly comparison of total spends, city wise"
   ]
  },
  {
   "cell_type": "code",
   "execution_count": 86,
   "metadata": {
    "ExecuteTime": {
     "end_time": "2020-06-19T18:47:52.306961Z",
     "start_time": "2020-06-19T18:47:52.245385Z"
    }
   },
   "outputs": [
    {
     "data": {
      "text/html": [
       "<div>\n",
       "<style scoped>\n",
       "    .dataframe tbody tr th:only-of-type {\n",
       "        vertical-align: middle;\n",
       "    }\n",
       "\n",
       "    .dataframe tbody tr th {\n",
       "        vertical-align: top;\n",
       "    }\n",
       "\n",
       "    .dataframe thead th {\n",
       "        text-align: right;\n",
       "    }\n",
       "</style>\n",
       "<table border=\"1\" class=\"dataframe\">\n",
       "  <thead>\n",
       "    <tr style=\"text-align: right;\">\n",
       "      <th></th>\n",
       "      <th>City</th>\n",
       "      <th>Month</th>\n",
       "      <th>Spend_Amount</th>\n",
       "    </tr>\n",
       "  </thead>\n",
       "  <tbody>\n",
       "    <tr>\n",
       "      <th>0</th>\n",
       "      <td>BANGALORE</td>\n",
       "      <td>January,2004</td>\n",
       "      <td>8662102.77</td>\n",
       "    </tr>\n",
       "    <tr>\n",
       "      <th>1</th>\n",
       "      <td>BANGALORE</td>\n",
       "      <td>February,2004</td>\n",
       "      <td>535939.92</td>\n",
       "    </tr>\n",
       "    <tr>\n",
       "      <th>2</th>\n",
       "      <td>BANGALORE</td>\n",
       "      <td>March,2004</td>\n",
       "      <td>82428.80</td>\n",
       "    </tr>\n",
       "    <tr>\n",
       "      <th>3</th>\n",
       "      <td>BANGALORE</td>\n",
       "      <td>April,2004</td>\n",
       "      <td>1405495.85</td>\n",
       "    </tr>\n",
       "    <tr>\n",
       "      <th>4</th>\n",
       "      <td>BANGALORE</td>\n",
       "      <td>May,2004</td>\n",
       "      <td>783277.82</td>\n",
       "    </tr>\n",
       "    <tr>\n",
       "      <th>...</th>\n",
       "      <td>...</td>\n",
       "      <td>...</td>\n",
       "      <td>...</td>\n",
       "    </tr>\n",
       "    <tr>\n",
       "      <th>282</th>\n",
       "      <td>TRIVANDRUM</td>\n",
       "      <td>August,2006</td>\n",
       "      <td>0.00</td>\n",
       "    </tr>\n",
       "    <tr>\n",
       "      <th>283</th>\n",
       "      <td>TRIVANDRUM</td>\n",
       "      <td>September,2006</td>\n",
       "      <td>186063.70</td>\n",
       "    </tr>\n",
       "    <tr>\n",
       "      <th>284</th>\n",
       "      <td>TRIVANDRUM</td>\n",
       "      <td>October,2006</td>\n",
       "      <td>212421.86</td>\n",
       "    </tr>\n",
       "    <tr>\n",
       "      <th>285</th>\n",
       "      <td>TRIVANDRUM</td>\n",
       "      <td>November,2006</td>\n",
       "      <td>13756.30</td>\n",
       "    </tr>\n",
       "    <tr>\n",
       "      <th>286</th>\n",
       "      <td>TRIVANDRUM</td>\n",
       "      <td>December,2006</td>\n",
       "      <td>338008.71</td>\n",
       "    </tr>\n",
       "  </tbody>\n",
       "</table>\n",
       "<p>287 rows × 3 columns</p>\n",
       "</div>"
      ],
      "text/plain": [
       "           City           Month  Spend_Amount\n",
       "0     BANGALORE    January,2004    8662102.77\n",
       "1     BANGALORE   February,2004     535939.92\n",
       "2     BANGALORE      March,2004      82428.80\n",
       "3     BANGALORE      April,2004    1405495.85\n",
       "4     BANGALORE        May,2004     783277.82\n",
       "..          ...             ...           ...\n",
       "282  TRIVANDRUM     August,2006          0.00\n",
       "283  TRIVANDRUM  September,2006     186063.70\n",
       "284  TRIVANDRUM    October,2006     212421.86\n",
       "285  TRIVANDRUM   November,2006      13756.30\n",
       "286  TRIVANDRUM   December,2006     338008.71\n",
       "\n",
       "[287 rows x 3 columns]"
      ]
     },
     "execution_count": 86,
     "metadata": {},
     "output_type": "execute_result"
    }
   ],
   "source": [
    "res1 = Cust_Repay_Spend2.groupby('City').Spend_Amount.resample('M').sum().reset_index()\n",
    "res1.Spend_Month = res1.Spend_Month.apply(lambda x: x.strftime('%B,%Y'))\n",
    "res1.rename(columns = {'Spend_Month':'Month'}, inplace = True)\n",
    "res1"
   ]
  },
  {
   "cell_type": "code",
   "execution_count": 87,
   "metadata": {
    "ExecuteTime": {
     "end_time": "2020-06-19T18:47:54.603602Z",
     "start_time": "2020-06-19T18:47:52.308971Z"
    }
   },
   "outputs": [
    {
     "data": {
      "image/png": "[encoded data removed]",
      "text/plain": [
       "<Figure size 1080x4320 with 1 Axes>"
      ]
     },
     "metadata": {
      "needs_background": "light"
     },
     "output_type": "display_data"
    }
   ],
   "source": [
    "# it's graphical representation\n",
    "plt.figure(figsize=(15, 60))\n",
    "sns.barplot( x=\"Spend_Amount\", y=\"Month\", hue=\"City\", data=res1)\n",
    "plt.show()"
   ]
  },
  {
   "cell_type": "markdown",
   "metadata": {},
   "source": [
    "### b. Comparison of yearly spend on air tickets"
   ]
  },
  {
   "cell_type": "code",
   "execution_count": 88,
   "metadata": {
    "ExecuteTime": {
     "end_time": "2020-06-19T18:47:54.636745Z",
     "start_time": "2020-06-19T18:47:54.604599Z"
    }
   },
   "outputs": [
    {
     "data": {
      "text/html": [
       "<div>\n",
       "<style scoped>\n",
       "    .dataframe tbody tr th:only-of-type {\n",
       "        vertical-align: middle;\n",
       "    }\n",
       "\n",
       "    .dataframe tbody tr th {\n",
       "        vertical-align: top;\n",
       "    }\n",
       "\n",
       "    .dataframe thead th {\n",
       "        text-align: right;\n",
       "    }\n",
       "</style>\n",
       "<table border=\"1\" class=\"dataframe\">\n",
       "  <thead>\n",
       "    <tr style=\"text-align: right;\">\n",
       "      <th></th>\n",
       "      <th>Year</th>\n",
       "      <th>Spend_Amount</th>\n",
       "    </tr>\n",
       "  </thead>\n",
       "  <tbody>\n",
       "    <tr>\n",
       "      <th>0</th>\n",
       "      <td>2004</td>\n",
       "      <td>4357225.35</td>\n",
       "    </tr>\n",
       "    <tr>\n",
       "      <th>1</th>\n",
       "      <td>2005</td>\n",
       "      <td>10550152.21</td>\n",
       "    </tr>\n",
       "    <tr>\n",
       "      <th>2</th>\n",
       "      <td>2006</td>\n",
       "      <td>5248469.56</td>\n",
       "    </tr>\n",
       "  </tbody>\n",
       "</table>\n",
       "</div>"
      ],
      "text/plain": [
       "   Year  Spend_Amount\n",
       "0  2004    4357225.35\n",
       "1  2005   10550152.21\n",
       "2  2006    5248469.56"
      ]
     },
     "execution_count": 88,
     "metadata": {},
     "output_type": "execute_result"
    }
   ],
   "source": [
    "res2 = Cust_Repay_Spend2.loc[Cust_Repay_Spend2.Type == 'AIR TICKET'].Spend_Amount.resample('Y').sum().reset_index()\n",
    "res2.Spend_Month = res2.Spend_Month.apply(lambda x: x.year)\n",
    "res2.rename(columns = {'Spend_Month':'Year'}, inplace = True)\n",
    "res2"
   ]
  },
  {
   "cell_type": "code",
   "execution_count": 89,
   "metadata": {
    "ExecuteTime": {
     "end_time": "2020-06-19T18:47:54.764372Z",
     "start_time": "2020-06-19T18:47:54.637745Z"
    }
   },
   "outputs": [
    {
     "data": {
      "image/png": "[encoded data removed]",
      "text/plain": [
       "<Figure size 432x288 with 1 Axes>"
      ]
     },
     "metadata": {
      "needs_background": "light"
     },
     "output_type": "display_data"
    }
   ],
   "source": [
    "# it's graphical representation\n",
    "sns.barplot(x = 'Year', y = 'Spend_Amount', data = res2)\n",
    "plt.show()"
   ]
  },
  {
   "cell_type": "markdown",
   "metadata": {},
   "source": [
    "### c. Comparison of monthly spend for each product (look for any seasonality that exists in terms of spend)"
   ]
  },
  {
   "cell_type": "code",
   "execution_count": 90,
   "metadata": {
    "ExecuteTime": {
     "end_time": "2020-06-19T18:47:54.812244Z",
     "start_time": "2020-06-19T18:47:54.765369Z"
    }
   },
   "outputs": [
    {
     "data": {
      "text/html": [
       "<div>\n",
       "<style scoped>\n",
       "    .dataframe tbody tr th:only-of-type {\n",
       "        vertical-align: middle;\n",
       "    }\n",
       "\n",
       "    .dataframe tbody tr th {\n",
       "        vertical-align: top;\n",
       "    }\n",
       "\n",
       "    .dataframe thead th {\n",
       "        text-align: right;\n",
       "    }\n",
       "</style>\n",
       "<table border=\"1\" class=\"dataframe\">\n",
       "  <thead>\n",
       "    <tr style=\"text-align: right;\">\n",
       "      <th></th>\n",
       "      <th>Product</th>\n",
       "      <th>Month</th>\n",
       "      <th>Spend_Amount</th>\n",
       "    </tr>\n",
       "  </thead>\n",
       "  <tbody>\n",
       "    <tr>\n",
       "      <th>0</th>\n",
       "      <td>Gold</td>\n",
       "      <td>January,2004</td>\n",
       "      <td>28837092.88</td>\n",
       "    </tr>\n",
       "    <tr>\n",
       "      <th>1</th>\n",
       "      <td>Gold</td>\n",
       "      <td>February,2004</td>\n",
       "      <td>3198850.31</td>\n",
       "    </tr>\n",
       "    <tr>\n",
       "      <th>2</th>\n",
       "      <td>Gold</td>\n",
       "      <td>March,2004</td>\n",
       "      <td>1092661.79</td>\n",
       "    </tr>\n",
       "    <tr>\n",
       "      <th>3</th>\n",
       "      <td>Gold</td>\n",
       "      <td>April,2004</td>\n",
       "      <td>2690380.77</td>\n",
       "    </tr>\n",
       "    <tr>\n",
       "      <th>4</th>\n",
       "      <td>Gold</td>\n",
       "      <td>May,2004</td>\n",
       "      <td>1601677.48</td>\n",
       "    </tr>\n",
       "    <tr>\n",
       "      <th>...</th>\n",
       "      <td>...</td>\n",
       "      <td>...</td>\n",
       "      <td>...</td>\n",
       "    </tr>\n",
       "    <tr>\n",
       "      <th>103</th>\n",
       "      <td>Silver</td>\n",
       "      <td>August,2006</td>\n",
       "      <td>30320.99</td>\n",
       "    </tr>\n",
       "    <tr>\n",
       "      <th>104</th>\n",
       "      <td>Silver</td>\n",
       "      <td>September,2006</td>\n",
       "      <td>142798.13</td>\n",
       "    </tr>\n",
       "    <tr>\n",
       "      <th>105</th>\n",
       "      <td>Silver</td>\n",
       "      <td>October,2006</td>\n",
       "      <td>0.00</td>\n",
       "    </tr>\n",
       "    <tr>\n",
       "      <th>106</th>\n",
       "      <td>Silver</td>\n",
       "      <td>November,2006</td>\n",
       "      <td>191097.13</td>\n",
       "    </tr>\n",
       "    <tr>\n",
       "      <th>107</th>\n",
       "      <td>Silver</td>\n",
       "      <td>December,2006</td>\n",
       "      <td>50001.00</td>\n",
       "    </tr>\n",
       "  </tbody>\n",
       "</table>\n",
       "<p>108 rows × 3 columns</p>\n",
       "</div>"
      ],
      "text/plain": [
       "    Product           Month  Spend_Amount\n",
       "0      Gold    January,2004   28837092.88\n",
       "1      Gold   February,2004    3198850.31\n",
       "2      Gold      March,2004    1092661.79\n",
       "3      Gold      April,2004    2690380.77\n",
       "4      Gold        May,2004    1601677.48\n",
       "..      ...             ...           ...\n",
       "103  Silver     August,2006      30320.99\n",
       "104  Silver  September,2006     142798.13\n",
       "105  Silver    October,2006          0.00\n",
       "106  Silver   November,2006     191097.13\n",
       "107  Silver   December,2006      50001.00\n",
       "\n",
       "[108 rows x 3 columns]"
      ]
     },
     "execution_count": 90,
     "metadata": {},
     "output_type": "execute_result"
    }
   ],
   "source": [
    "res3 = Cust_Repay_Spend2.groupby('Product').Spend_Amount.resample('M').sum().reset_index()\n",
    "res3.Spend_Month = res3.Spend_Month.apply(lambda x: x.strftime('%B,%Y'))\n",
    "res3.rename(columns = {'Spend_Month':'Month'}, inplace = True)\n",
    "res3"
   ]
  },
  {
   "cell_type": "code",
   "execution_count": 91,
   "metadata": {
    "ExecuteTime": {
     "end_time": "2020-06-19T18:47:55.861519Z",
     "start_time": "2020-06-19T18:47:54.814239Z"
    }
   },
   "outputs": [
    {
     "data": {
      "image/png": "[encoded data removed]",
      "text/plain": [
       "<Figure size 1080x2160 with 1 Axes>"
      ]
     },
     "metadata": {
      "needs_background": "light"
     },
     "output_type": "display_data"
    }
   ],
   "source": [
    "# it's graphical representation\n",
    "plt.figure(figsize=(15, 30))\n",
    "sns.barplot( x=\"Spend_Amount\", y=\"Month\", hue=\"Product\", data=res3)\n",
    "plt.show()"
   ]
  },
  {
   "cell_type": "markdown",
   "metadata": {},
   "source": [
    "# Write user defined PYTHON function to perform the following analysis:\n",
    "### You need to find top 10 customers for each city in terms of their repayment amount by different products and by different time periods i.e. year or month. The user should be able to specify the product (Gold/Silver/Platinum) and time period (yearly or monthly) and the function should automatically take these inputs while identifying the top 10 customers."
   ]
  },
  {
   "cell_type": "code",
   "execution_count": 92,
   "metadata": {
    "ExecuteTime": {
     "end_time": "2020-06-19T18:47:56.049627Z",
     "start_time": "2020-06-19T18:47:55.862507Z"
    },
    "scrolled": false
   },
   "outputs": [
    {
     "data": {
      "text/html": [
       "<style  type=\"text/css\" >\n",
       "</style><table id=\"T_6390d9a8_b25d_11ea_8d84_0cdd24c1e944\" ><thead>    <tr>        <th class=\"blank level0\" ></th>        <th class=\"col_heading level0 col0\" >City</th>        <th class=\"col_heading level0 col1\" >Yearly</th>        <th class=\"col_heading level0 col2\" >Customer</th>        <th class=\"col_heading level0 col3\" >Repayment_Amount</th>    </tr></thead><tbody>\n",
       "                <tr>\n",
       "                        <th id=\"T_6390d9a8_b25d_11ea_8d84_0cdd24c1e944level0_row0\" class=\"row_heading level0 row0\" >0</th>\n",
       "                        <td id=\"T_6390d9a8_b25d_11ea_8d84_0cdd24c1e944row0_col0\" class=\"data row0 col0\" >BANGALORE</td>\n",
       "                        <td id=\"T_6390d9a8_b25d_11ea_8d84_0cdd24c1e944row0_col1\" class=\"data row0 col1\" >2004</td>\n",
       "                        <td id=\"T_6390d9a8_b25d_11ea_8d84_0cdd24c1e944row0_col2\" class=\"data row0 col2\" >A1</td>\n",
       "                        <td id=\"T_6390d9a8_b25d_11ea_8d84_0cdd24c1e944row0_col3\" class=\"data row0 col3\" >2523268.810000</td>\n",
       "            </tr>\n",
       "            <tr>\n",
       "                        <th id=\"T_6390d9a8_b25d_11ea_8d84_0cdd24c1e944level0_row1\" class=\"row_heading level0 row1\" >1</th>\n",
       "                        <td id=\"T_6390d9a8_b25d_11ea_8d84_0cdd24c1e944row1_col0\" class=\"data row1 col0\" >BANGALORE</td>\n",
       "                        <td id=\"T_6390d9a8_b25d_11ea_8d84_0cdd24c1e944row1_col1\" class=\"data row1 col1\" >2005</td>\n",
       "                        <td id=\"T_6390d9a8_b25d_11ea_8d84_0cdd24c1e944row1_col2\" class=\"data row1 col2\" >A13</td>\n",
       "                        <td id=\"T_6390d9a8_b25d_11ea_8d84_0cdd24c1e944row1_col3\" class=\"data row1 col3\" >4475135.590000</td>\n",
       "            </tr>\n",
       "            <tr>\n",
       "                        <th id=\"T_6390d9a8_b25d_11ea_8d84_0cdd24c1e944level0_row2\" class=\"row_heading level0 row2\" >2</th>\n",
       "                        <td id=\"T_6390d9a8_b25d_11ea_8d84_0cdd24c1e944row2_col0\" class=\"data row2 col0\" >BANGALORE</td>\n",
       "                        <td id=\"T_6390d9a8_b25d_11ea_8d84_0cdd24c1e944row2_col1\" class=\"data row2 col1\" >2006</td>\n",
       "                        <td id=\"T_6390d9a8_b25d_11ea_8d84_0cdd24c1e944row2_col2\" class=\"data row2 col2\" >A43</td>\n",
       "                        <td id=\"T_6390d9a8_b25d_11ea_8d84_0cdd24c1e944row2_col3\" class=\"data row2 col3\" >3611809.510000</td>\n",
       "            </tr>\n",
       "            <tr>\n",
       "                        <th id=\"T_6390d9a8_b25d_11ea_8d84_0cdd24c1e944level0_row3\" class=\"row_heading level0 row3\" >3</th>\n",
       "                        <td id=\"T_6390d9a8_b25d_11ea_8d84_0cdd24c1e944row3_col0\" class=\"data row3 col0\" >BOMBAY</td>\n",
       "                        <td id=\"T_6390d9a8_b25d_11ea_8d84_0cdd24c1e944row3_col1\" class=\"data row3 col1\" >2004</td>\n",
       "                        <td id=\"T_6390d9a8_b25d_11ea_8d84_0cdd24c1e944row3_col2\" class=\"data row3 col2\" >A42</td>\n",
       "                        <td id=\"T_6390d9a8_b25d_11ea_8d84_0cdd24c1e944row3_col3\" class=\"data row3 col3\" >2323684.160000</td>\n",
       "            </tr>\n",
       "            <tr>\n",
       "                        <th id=\"T_6390d9a8_b25d_11ea_8d84_0cdd24c1e944level0_row4\" class=\"row_heading level0 row4\" >4</th>\n",
       "                        <td id=\"T_6390d9a8_b25d_11ea_8d84_0cdd24c1e944row4_col0\" class=\"data row4 col0\" >BOMBAY</td>\n",
       "                        <td id=\"T_6390d9a8_b25d_11ea_8d84_0cdd24c1e944row4_col1\" class=\"data row4 col1\" >2005</td>\n",
       "                        <td id=\"T_6390d9a8_b25d_11ea_8d84_0cdd24c1e944row4_col2\" class=\"data row4 col2\" >A12</td>\n",
       "                        <td id=\"T_6390d9a8_b25d_11ea_8d84_0cdd24c1e944row4_col3\" class=\"data row4 col3\" >3905095.540000</td>\n",
       "            </tr>\n",
       "            <tr>\n",
       "                        <th id=\"T_6390d9a8_b25d_11ea_8d84_0cdd24c1e944level0_row5\" class=\"row_heading level0 row5\" >5</th>\n",
       "                        <td id=\"T_6390d9a8_b25d_11ea_8d84_0cdd24c1e944row5_col0\" class=\"data row5 col0\" >BOMBAY</td>\n",
       "                        <td id=\"T_6390d9a8_b25d_11ea_8d84_0cdd24c1e944row5_col1\" class=\"data row5 col1\" >2006</td>\n",
       "                        <td id=\"T_6390d9a8_b25d_11ea_8d84_0cdd24c1e944row5_col2\" class=\"data row5 col2\" >A42</td>\n",
       "                        <td id=\"T_6390d9a8_b25d_11ea_8d84_0cdd24c1e944row5_col3\" class=\"data row5 col3\" >3716266.050000</td>\n",
       "            </tr>\n",
       "            <tr>\n",
       "                        <th id=\"T_6390d9a8_b25d_11ea_8d84_0cdd24c1e944level0_row6\" class=\"row_heading level0 row6\" >6</th>\n",
       "                        <td id=\"T_6390d9a8_b25d_11ea_8d84_0cdd24c1e944row6_col0\" class=\"data row6 col0\" >CALCUTTA</td>\n",
       "                        <td id=\"T_6390d9a8_b25d_11ea_8d84_0cdd24c1e944row6_col1\" class=\"data row6 col1\" >2004</td>\n",
       "                        <td id=\"T_6390d9a8_b25d_11ea_8d84_0cdd24c1e944row6_col2\" class=\"data row6 col2\" >A60</td>\n",
       "                        <td id=\"T_6390d9a8_b25d_11ea_8d84_0cdd24c1e944row6_col3\" class=\"data row6 col3\" >2630110.530000</td>\n",
       "            </tr>\n",
       "            <tr>\n",
       "                        <th id=\"T_6390d9a8_b25d_11ea_8d84_0cdd24c1e944level0_row7\" class=\"row_heading level0 row7\" >7</th>\n",
       "                        <td id=\"T_6390d9a8_b25d_11ea_8d84_0cdd24c1e944row7_col0\" class=\"data row7 col0\" >CALCUTTA</td>\n",
       "                        <td id=\"T_6390d9a8_b25d_11ea_8d84_0cdd24c1e944row7_col1\" class=\"data row7 col1\" >2005</td>\n",
       "                        <td id=\"T_6390d9a8_b25d_11ea_8d84_0cdd24c1e944row7_col2\" class=\"data row7 col2\" >A60</td>\n",
       "                        <td id=\"T_6390d9a8_b25d_11ea_8d84_0cdd24c1e944row7_col3\" class=\"data row7 col3\" >3313809.020000</td>\n",
       "            </tr>\n",
       "            <tr>\n",
       "                        <th id=\"T_6390d9a8_b25d_11ea_8d84_0cdd24c1e944level0_row8\" class=\"row_heading level0 row8\" >8</th>\n",
       "                        <td id=\"T_6390d9a8_b25d_11ea_8d84_0cdd24c1e944row8_col0\" class=\"data row8 col0\" >CALCUTTA</td>\n",
       "                        <td id=\"T_6390d9a8_b25d_11ea_8d84_0cdd24c1e944row8_col1\" class=\"data row8 col1\" >2006</td>\n",
       "                        <td id=\"T_6390d9a8_b25d_11ea_8d84_0cdd24c1e944row8_col2\" class=\"data row8 col2\" >A60</td>\n",
       "                        <td id=\"T_6390d9a8_b25d_11ea_8d84_0cdd24c1e944row8_col3\" class=\"data row8 col3\" >3932371.190000</td>\n",
       "            </tr>\n",
       "            <tr>\n",
       "                        <th id=\"T_6390d9a8_b25d_11ea_8d84_0cdd24c1e944level0_row9\" class=\"row_heading level0 row9\" >9</th>\n",
       "                        <td id=\"T_6390d9a8_b25d_11ea_8d84_0cdd24c1e944row9_col0\" class=\"data row9 col0\" >CHENNAI</td>\n",
       "                        <td id=\"T_6390d9a8_b25d_11ea_8d84_0cdd24c1e944row9_col1\" class=\"data row9 col1\" >2004</td>\n",
       "                        <td id=\"T_6390d9a8_b25d_11ea_8d84_0cdd24c1e944row9_col2\" class=\"data row9 col2\" >A27</td>\n",
       "                        <td id=\"T_6390d9a8_b25d_11ea_8d84_0cdd24c1e944row9_col3\" class=\"data row9 col3\" >1012402.210000</td>\n",
       "            </tr>\n",
       "            <tr>\n",
       "                        <th id=\"T_6390d9a8_b25d_11ea_8d84_0cdd24c1e944level0_row10\" class=\"row_heading level0 row10\" >10</th>\n",
       "                        <td id=\"T_6390d9a8_b25d_11ea_8d84_0cdd24c1e944row10_col0\" class=\"data row10 col0\" >CHENNAI</td>\n",
       "                        <td id=\"T_6390d9a8_b25d_11ea_8d84_0cdd24c1e944row10_col1\" class=\"data row10 col1\" >2005</td>\n",
       "                        <td id=\"T_6390d9a8_b25d_11ea_8d84_0cdd24c1e944row10_col2\" class=\"data row10 col2\" >A27</td>\n",
       "                        <td id=\"T_6390d9a8_b25d_11ea_8d84_0cdd24c1e944row10_col3\" class=\"data row10 col3\" >2904771.760000</td>\n",
       "            </tr>\n",
       "            <tr>\n",
       "                        <th id=\"T_6390d9a8_b25d_11ea_8d84_0cdd24c1e944level0_row11\" class=\"row_heading level0 row11\" >11</th>\n",
       "                        <td id=\"T_6390d9a8_b25d_11ea_8d84_0cdd24c1e944row11_col0\" class=\"data row11 col0\" >CHENNAI</td>\n",
       "                        <td id=\"T_6390d9a8_b25d_11ea_8d84_0cdd24c1e944row11_col1\" class=\"data row11 col1\" >2006</td>\n",
       "                        <td id=\"T_6390d9a8_b25d_11ea_8d84_0cdd24c1e944row11_col2\" class=\"data row11 col2\" >A27</td>\n",
       "                        <td id=\"T_6390d9a8_b25d_11ea_8d84_0cdd24c1e944row11_col3\" class=\"data row11 col3\" >3095726.590000</td>\n",
       "            </tr>\n",
       "            <tr>\n",
       "                        <th id=\"T_6390d9a8_b25d_11ea_8d84_0cdd24c1e944level0_row12\" class=\"row_heading level0 row12\" >12</th>\n",
       "                        <td id=\"T_6390d9a8_b25d_11ea_8d84_0cdd24c1e944row12_col0\" class=\"data row12 col0\" >COCHIN</td>\n",
       "                        <td id=\"T_6390d9a8_b25d_11ea_8d84_0cdd24c1e944row12_col1\" class=\"data row12 col1\" >2004</td>\n",
       "                        <td id=\"T_6390d9a8_b25d_11ea_8d84_0cdd24c1e944row12_col2\" class=\"data row12 col2\" >A45</td>\n",
       "                        <td id=\"T_6390d9a8_b25d_11ea_8d84_0cdd24c1e944row12_col3\" class=\"data row12 col3\" >2642457.470000</td>\n",
       "            </tr>\n",
       "            <tr>\n",
       "                        <th id=\"T_6390d9a8_b25d_11ea_8d84_0cdd24c1e944level0_row13\" class=\"row_heading level0 row13\" >13</th>\n",
       "                        <td id=\"T_6390d9a8_b25d_11ea_8d84_0cdd24c1e944row13_col0\" class=\"data row13 col0\" >COCHIN</td>\n",
       "                        <td id=\"T_6390d9a8_b25d_11ea_8d84_0cdd24c1e944row13_col1\" class=\"data row13 col1\" >2005</td>\n",
       "                        <td id=\"T_6390d9a8_b25d_11ea_8d84_0cdd24c1e944row13_col2\" class=\"data row13 col2\" >A61</td>\n",
       "                        <td id=\"T_6390d9a8_b25d_11ea_8d84_0cdd24c1e944row13_col3\" class=\"data row13 col3\" >4742996.790000</td>\n",
       "            </tr>\n",
       "            <tr>\n",
       "                        <th id=\"T_6390d9a8_b25d_11ea_8d84_0cdd24c1e944level0_row14\" class=\"row_heading level0 row14\" >14</th>\n",
       "                        <td id=\"T_6390d9a8_b25d_11ea_8d84_0cdd24c1e944row14_col0\" class=\"data row14 col0\" >COCHIN</td>\n",
       "                        <td id=\"T_6390d9a8_b25d_11ea_8d84_0cdd24c1e944row14_col1\" class=\"data row14 col1\" >2006</td>\n",
       "                        <td id=\"T_6390d9a8_b25d_11ea_8d84_0cdd24c1e944row14_col2\" class=\"data row14 col2\" >A61</td>\n",
       "                        <td id=\"T_6390d9a8_b25d_11ea_8d84_0cdd24c1e944row14_col3\" class=\"data row14 col3\" >3724678.330000</td>\n",
       "            </tr>\n",
       "            <tr>\n",
       "                        <th id=\"T_6390d9a8_b25d_11ea_8d84_0cdd24c1e944level0_row15\" class=\"row_heading level0 row15\" >15</th>\n",
       "                        <td id=\"T_6390d9a8_b25d_11ea_8d84_0cdd24c1e944row15_col0\" class=\"data row15 col0\" >DELHI</td>\n",
       "                        <td id=\"T_6390d9a8_b25d_11ea_8d84_0cdd24c1e944row15_col1\" class=\"data row15 col1\" >2004</td>\n",
       "                        <td id=\"T_6390d9a8_b25d_11ea_8d84_0cdd24c1e944row15_col2\" class=\"data row15 col2\" >A44</td>\n",
       "                        <td id=\"T_6390d9a8_b25d_11ea_8d84_0cdd24c1e944row15_col3\" class=\"data row15 col3\" >3870191.930000</td>\n",
       "            </tr>\n",
       "            <tr>\n",
       "                        <th id=\"T_6390d9a8_b25d_11ea_8d84_0cdd24c1e944level0_row16\" class=\"row_heading level0 row16\" >16</th>\n",
       "                        <td id=\"T_6390d9a8_b25d_11ea_8d84_0cdd24c1e944row16_col0\" class=\"data row16 col0\" >DELHI</td>\n",
       "                        <td id=\"T_6390d9a8_b25d_11ea_8d84_0cdd24c1e944row16_col1\" class=\"data row16 col1\" >2005</td>\n",
       "                        <td id=\"T_6390d9a8_b25d_11ea_8d84_0cdd24c1e944row16_col2\" class=\"data row16 col2\" >A44</td>\n",
       "                        <td id=\"T_6390d9a8_b25d_11ea_8d84_0cdd24c1e944row16_col3\" class=\"data row16 col3\" >2230436.590000</td>\n",
       "            </tr>\n",
       "            <tr>\n",
       "                        <th id=\"T_6390d9a8_b25d_11ea_8d84_0cdd24c1e944level0_row17\" class=\"row_heading level0 row17\" >17</th>\n",
       "                        <td id=\"T_6390d9a8_b25d_11ea_8d84_0cdd24c1e944row17_col0\" class=\"data row17 col0\" >DELHI</td>\n",
       "                        <td id=\"T_6390d9a8_b25d_11ea_8d84_0cdd24c1e944row17_col1\" class=\"data row17 col1\" >2006</td>\n",
       "                        <td id=\"T_6390d9a8_b25d_11ea_8d84_0cdd24c1e944row17_col2\" class=\"data row17 col2\" >A44</td>\n",
       "                        <td id=\"T_6390d9a8_b25d_11ea_8d84_0cdd24c1e944row17_col3\" class=\"data row17 col3\" >1644101.600000</td>\n",
       "            </tr>\n",
       "            <tr>\n",
       "                        <th id=\"T_6390d9a8_b25d_11ea_8d84_0cdd24c1e944level0_row18\" class=\"row_heading level0 row18\" >18</th>\n",
       "                        <td id=\"T_6390d9a8_b25d_11ea_8d84_0cdd24c1e944row18_col0\" class=\"data row18 col0\" >PATNA</td>\n",
       "                        <td id=\"T_6390d9a8_b25d_11ea_8d84_0cdd24c1e944row18_col1\" class=\"data row18 col1\" >2004</td>\n",
       "                        <td id=\"T_6390d9a8_b25d_11ea_8d84_0cdd24c1e944row18_col2\" class=\"data row18 col2\" >A26</td>\n",
       "                        <td id=\"T_6390d9a8_b25d_11ea_8d84_0cdd24c1e944row18_col3\" class=\"data row18 col3\" >1469967.610000</td>\n",
       "            </tr>\n",
       "            <tr>\n",
       "                        <th id=\"T_6390d9a8_b25d_11ea_8d84_0cdd24c1e944level0_row19\" class=\"row_heading level0 row19\" >19</th>\n",
       "                        <td id=\"T_6390d9a8_b25d_11ea_8d84_0cdd24c1e944row19_col0\" class=\"data row19 col0\" >PATNA</td>\n",
       "                        <td id=\"T_6390d9a8_b25d_11ea_8d84_0cdd24c1e944row19_col1\" class=\"data row19 col1\" >2005</td>\n",
       "                        <td id=\"T_6390d9a8_b25d_11ea_8d84_0cdd24c1e944row19_col2\" class=\"data row19 col2\" >A26</td>\n",
       "                        <td id=\"T_6390d9a8_b25d_11ea_8d84_0cdd24c1e944row19_col3\" class=\"data row19 col3\" >2350693.320000</td>\n",
       "            </tr>\n",
       "            <tr>\n",
       "                        <th id=\"T_6390d9a8_b25d_11ea_8d84_0cdd24c1e944level0_row20\" class=\"row_heading level0 row20\" >20</th>\n",
       "                        <td id=\"T_6390d9a8_b25d_11ea_8d84_0cdd24c1e944row20_col0\" class=\"data row20 col0\" >PATNA</td>\n",
       "                        <td id=\"T_6390d9a8_b25d_11ea_8d84_0cdd24c1e944row20_col1\" class=\"data row20 col1\" >2006</td>\n",
       "                        <td id=\"T_6390d9a8_b25d_11ea_8d84_0cdd24c1e944row20_col2\" class=\"data row20 col2\" >A26</td>\n",
       "                        <td id=\"T_6390d9a8_b25d_11ea_8d84_0cdd24c1e944row20_col3\" class=\"data row20 col3\" >3434026.160000</td>\n",
       "            </tr>\n",
       "            <tr>\n",
       "                        <th id=\"T_6390d9a8_b25d_11ea_8d84_0cdd24c1e944level0_row21\" class=\"row_heading level0 row21\" >21</th>\n",
       "                        <td id=\"T_6390d9a8_b25d_11ea_8d84_0cdd24c1e944row21_col0\" class=\"data row21 col0\" >TRIVANDRUM</td>\n",
       "                        <td id=\"T_6390d9a8_b25d_11ea_8d84_0cdd24c1e944row21_col1\" class=\"data row21 col1\" >2004</td>\n",
       "                        <td id=\"T_6390d9a8_b25d_11ea_8d84_0cdd24c1e944row21_col2\" class=\"data row21 col2\" >A28</td>\n",
       "                        <td id=\"T_6390d9a8_b25d_11ea_8d84_0cdd24c1e944row21_col3\" class=\"data row21 col3\" >2941501.640000</td>\n",
       "            </tr>\n",
       "            <tr>\n",
       "                        <th id=\"T_6390d9a8_b25d_11ea_8d84_0cdd24c1e944level0_row22\" class=\"row_heading level0 row22\" >22</th>\n",
       "                        <td id=\"T_6390d9a8_b25d_11ea_8d84_0cdd24c1e944row22_col0\" class=\"data row22 col0\" >TRIVANDRUM</td>\n",
       "                        <td id=\"T_6390d9a8_b25d_11ea_8d84_0cdd24c1e944row22_col1\" class=\"data row22 col1\" >2005</td>\n",
       "                        <td id=\"T_6390d9a8_b25d_11ea_8d84_0cdd24c1e944row22_col2\" class=\"data row22 col2\" >A28</td>\n",
       "                        <td id=\"T_6390d9a8_b25d_11ea_8d84_0cdd24c1e944row22_col3\" class=\"data row22 col3\" >1896902.510000</td>\n",
       "            </tr>\n",
       "            <tr>\n",
       "                        <th id=\"T_6390d9a8_b25d_11ea_8d84_0cdd24c1e944level0_row23\" class=\"row_heading level0 row23\" >23</th>\n",
       "                        <td id=\"T_6390d9a8_b25d_11ea_8d84_0cdd24c1e944row23_col0\" class=\"data row23 col0\" >TRIVANDRUM</td>\n",
       "                        <td id=\"T_6390d9a8_b25d_11ea_8d84_0cdd24c1e944row23_col1\" class=\"data row23 col1\" >2006</td>\n",
       "                        <td id=\"T_6390d9a8_b25d_11ea_8d84_0cdd24c1e944row23_col2\" class=\"data row23 col2\" >A28</td>\n",
       "                        <td id=\"T_6390d9a8_b25d_11ea_8d84_0cdd24c1e944row23_col3\" class=\"data row23 col3\" >2330328.810000</td>\n",
       "            </tr>\n",
       "    </tbody></table>"
      ],
      "text/plain": [
       "<pandas.io.formats.style.Styler at 0x1e86a1fb888>"
      ]
     },
     "execution_count": 92,
     "metadata": {},
     "output_type": "execute_result"
    }
   ],
   "source": [
    "# Creating 2 variables Yearly and Monthly by extracting year and month alongwith year from the Spend_Month variable\n",
    "Cust_Repay_Spend['Yearly'] = Cust_Repay_Spend.Spend_Month.apply(lambda x: x.year)\n",
    "Cust_Repay_Spend['Monthly'] = Cust_Repay_Spend.Spend_Month.apply(lambda x: x.strftime('%B,%Y'))\n",
    "# n refers to the top n observations from the desired group\n",
    "def top_n(a, b, n):\n",
    "    res = Cust_Repay_Spend.loc[Cust_Repay_Spend.Product == a]\n",
    "    if b == 'Yearly':\n",
    "        out = res.groupby(['City', 'Yearly','Customer']).Repayment_Amount.sum()\n",
    "        return out.groupby(level=[0,1]).nlargest(n).reset_index(level=[0,1], drop=True).reset_index().style\n",
    "    elif b == 'Monthly':\n",
    "        out = res.groupby(['City', 'Monthly','Customer']).Repayment_Amount.sum()\n",
    "        return out.groupby(level=[0,1]).nlargest(n).reset_index(level=[0,1], drop=True).reset_index().style\n",
    "top_n(a = 'Gold', b = 'Yearly', n = 1)\n",
    "#top_n('Gold', 'Monthly', 3)\n",
    "#top_n('Platimum', 'Yearly', 10)\n",
    "#top_n('Platimum', 'Monthly', 2)\n",
    "#top_n('Silver', 'Yearly', 5)\n",
    "#top_n('Silver', 'Monthly', 7)"
   ]
  }
 ],
 "metadata": {
  "hide_input": false,
  "kernelspec": {
   "display_name": "Python 3",
   "language": "python",
   "name": "python3"
  },
  "language_info": {
   "codemirror_mode": {
    "name": "ipython",
    "version": 3
   },
   "file_extension": ".py",
   "mimetype": "text/x-python",
   "name": "python",
   "nbconvert_exporter": "python",
   "pygments_lexer": "ipython3",
   "version": "3.8.8"
  },
  "toc": {
   "base_numbering": 1,
   "nav_menu": {},
   "number_sections": true,
   "sideBar": true,
   "skip_h1_title": false,
   "title_cell": "Table of Contents",
   "title_sidebar": "Contents",
   "toc_cell": true,
   "toc_position": {
    "height": "calc(100% - 180px)",
    "left": "10px",
    "top": "150px",
    "width": "165px"
   },
   "toc_section_display": true,
   "toc_window_display": true
  },
  "varInspector": {
   "cols": {
    "lenName": 16,
    "lenType": 16,
    "lenVar": "400"
   },
   "kernels_config": {
    "python": {
     "delete_cmd_postfix": "",
     "delete_cmd_prefix": "del ",
     "library": "var_list.py",
     "varRefreshCmd": "print(var_dic_list())"
    },
    "r": {
     "delete_cmd_postfix": ") ",
     "delete_cmd_prefix": "rm(",
     "library": "var_list.r",
     "varRefreshCmd": "cat(var_dic_list()) "
    }
   },
   "oldHeight": 122,
   "position": {
    "height": "40px",
    "left": "1096px",
    "right": "20px",
    "top": "120px",
    "width": "250px"
   },
   "types_to_exclude": [
    "module",
    "function",
    "builtin_function_or_method",
    "instance",
    "_Feature"
   ],
   "varInspector_section_display": "none",
   "window_display": true
  }
 },
 "nbformat": 4,
 "nbformat_minor": 4
}
